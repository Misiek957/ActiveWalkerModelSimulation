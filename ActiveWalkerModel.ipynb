{
 "cells": [
  {
   "cell_type": "code",
   "execution_count": 701,
   "metadata": {
    "pycharm": {
     "name": "#%%#Authors: Eli Gumble, Peter Brommer, Harry Brown\n"
    }
   },
   "outputs": [],
   "source": [
    "#Initialisation\n",
    "import matplotlib.pyplot as plt\n",
    "import numpy as np\n",
    "from scipy.integrate import simps\n",
    "from scipy import signal as sg\n",
    "from scipy.interpolate import RectBivariateSpline as ReBiSpline\n",
    "from numpy import ma\n",
    "from matplotlib import colors, ticker, cm\n",
    "from random import choice\n",
    "import scipy.ndimage.filters as filters\n",
    "import scipy.ndimage.morphology as morphology\n",
    "import timeit\n",
    "import math\n",
    "import cv2\n",
    "from PIL import Image\n",
    "import elevation_import as elev\n",
    "%matplotlib inline"
   ]
  },
  {
   "cell_type": "code",
   "execution_count": 702,
   "outputs": [
    {
     "name": "stdout",
     "output_type": "stream",
     "text": [
      "Elevation found for Rhyd Ddu Path, Snowdon, Wales\n",
      "[53.061473, -4.085126]\n",
      "request skipped\n"
     ]
    }
   ],
   "source": [
    "locSelect = [53.061473, -4.085126]\n",
    "areaWidth = 420\n",
    "areaName = 'Rhyd Ddu Path, Snowdon, Wales'\n",
    "\n",
    "testElev = elev.Elevation(areaName, locSelect[0], locSelect[1], areaWidth)\n",
    "elevValue = testElev.elev_interpolation()\n",
    "#\n",
    "#\n",
    "# plt.imshow(elevValue)"
   ],
   "metadata": {
    "collapsed": false,
    "pycharm": {
     "name": "#%% Check if import works\n"
    }
   }
  },
  {
   "cell_type": "code",
   "execution_count": 703,
   "outputs": [],
   "source": [
    "# Base = np.array(np.zeros((areaWidth,areaWidth,3)))\n",
    "#\n",
    "# plt.imshow(Base)"
   ],
   "metadata": {
    "collapsed": false,
    "pycharm": {
     "name": "#%% Temporary (?) artificial image\n"
    }
   }
  },
  {
   "cell_type": "code",
   "execution_count": 704,
   "metadata": {
    "pycharm": {
     "name": "#%%\n"
    }
   },
   "outputs": [],
   "source": [
    "# TODO: image input?\n",
    "# Read grids from image\n",
    "im = Image.open(\"images/flat.bmp\")\n",
    "Base = np.array(im)"
   ]
  },
  {
   "cell_type": "code",
   "execution_count": 705,
   "metadata": {
    "pycharm": {
     "name": "#%%\n"
    }
   },
   "outputs": [],
   "source": [
    "# Define internal quantities and variables\n",
    "scale = 0.25  # m per pixel\n",
    "Nx = Base[:,0,0].size  # N appears to be resolution\n",
    "Ny = Base[0,:,0].size  # Nx,Ny is size, Nz is RGB level\n",
    "xmin=-scale*0.5*(Nx-1)\n",
    "xmax=scale*0.5*(Nx-1)\n",
    "ymin=-scale*0.5*(Ny-1)\n",
    "ymax=scale*0.5*(Ny-1)\n",
    "x = np.linspace(xmin, xmax, Nx) # This is defining the axes and full space\n",
    "y = np.linspace(ymin, ymax, Ny)\n",
    "Y, X= np.meshgrid(y, x)\n",
    "TrailPotential = np.zeros((Nx,Ny))\n",
    "DestinationPotential=np.zeros((Nx,Ny))\n",
    "Weight=np.zeros((Nx,Ny))  # Create gradient to sit on Nx, Ny\n",
    "intens=np.zeros((Nx,Ny))\n",
    "q_alpha=np.zeros((Nx,Ny))\n",
    "expdist=np.zeros((2*Nx-1,2*Ny-1))\n",
    "dest=np.zeros((2))\n",
    "start=np.zeros((2))\n",
    "grad=np.zeros((2,Nx,Ny))\n",
    "vel=np.asarray([0.,0.])\n",
    "pos=np.asarray([0.,0.])\n",
    "#desdirx=ReBiSpline(x,y,grad[0,:,:],s=2)\n",
    "#desdiry=ReBiSpline(x,y,grad[1,:,:],s=2)\n",
    "intens[:]=0.\n",
    "\n",
    "#print(route)\n",
    "#parameters\n",
    "t_track=50. # Track decay time - after 50 walkers ignore a trail, it decays by 1/e\n",
    "dt=0.1  # dt per time step, continuous markings every dt metres\n",
    "dvel=3. # desired walker velocity in m/s\n",
    "tau=5.\n",
    "isigma=1./2. # trail potential\n",
    "conv_thresh=10.e-4\n",
    "precision=1.**2 #distance to target.\n",
    "eps=0.025 #random motion contribution, same for all\n",
    "prevDir = 0 # record of previous angle of direction\n",
    "p_alpha = 0.3 # value of persistence\n",
    "theta_max = .2  # maximum permissible ascent angle (30 degrees)"
   ]
  },
  {
   "cell_type": "code",
   "execution_count": 706,
   "metadata": {
    "pycharm": {
     "name": "#%%\n"
    }
   },
   "outputs": [],
   "source": [
    "class Slope:\n",
    "    def __init__(self, posx, posy):\n",
    "        xdir = 0.8*g_slope[0][posx][posy] # horizontal slope component at pos, scaled\n",
    "        ydir = 0.8*g_slope[1][posx][posy] # vertical slope component at pos\n",
    "        self.xdir = xdir\n",
    "        self.ydir = ydir\n",
    "        self.mod = math.sqrt(xdir**2 + ydir**2)  # modulus of the gradient\n",
    "        #if self.xdir == 0: # 0 exception for gradient singnularity\n",
    "            # Assign angle of the gradient vector\n",
    "        #    if self.ydir > 0:\n",
    "        #        self.angle = math.pi/2\n",
    "       #     elif self.ydir <= 0:\n",
    "        #        self.angle = -math.pi/2\n",
    "        #else:\n",
    "        self.angle = np.arctan2(self.ydir,self.xdir)  # direction of the gradient vector  # np.arctan2() - gets result in correct quadriant\n",
    "        # end __init__()\n",
    "\n",
    "    def forbidden_angle(self, curDir):\n",
    "\n",
    "\n",
    "        # (?) Still include\n",
    "        # grad_max = math.tan(theta_max)\n",
    "        # if self.mod < grad_max:\n",
    "        #     # Ignore gradient processing if maximum gradient is not exceeded anywhere\n",
    "        #     return curDir\n",
    "        # else:\n",
    "        # curDir = persistence(curDir) # Apply the persistence (step 7)\n",
    "        # Calculate forbidden angle (alpha)\n",
    "        thetaSlope = math.atan(self.mod)  # angle of the slope relative from ground to the height\n",
    "        if ((self.mod or thetaSlope) == 0 ) or (thetaSlope < theta_max):\n",
    "            # print(\"Continue (CurDir = \" + str(curDir) + \") (grad = \" + str(self.angle) + \") slope = \",thetaSlope)\n",
    "            return curDir\n",
    "        alpha = (math.pi/2 - math.asin(math.tan(theta_max)/math.tan(thetaSlope)))  # Forbidden angle from the gradient value (*)\n",
    "\n",
    "        # Distinguish the deviation of the current direction from the closest forbidden angle and assign the new current direction accordingly\n",
    "        curDir = curDir % (2*np.pi) # convert to 2pi\n",
    "        # Difference between current direction and gradient, zipped around so it is always between +pi and -pi\n",
    "        deviation = (curDir-self.angle + 0.5*np.pi) % np.pi - 0.5*np.pi  # deviation between pi/2 and -pi/2, absolute value\n",
    "        # print('deviation = ', deviation)\n",
    "        if np.abs(deviation)>alpha:\n",
    "            # print('Final value unchanged \\n (curDir = ' + str(curDir) + \" grad = \" + str(self.angle) + \") (alpha =\" + str(alpha)+ \") slope = \",thetaSlope,\")\")\n",
    "            return curDir # Current direction remains unchanged as it is outside of the forbidden zone\n",
    "        if deviation < 0:\n",
    "            # print(\"push right (CurDir =\" + str(curDir) + \") (grad = \" + str(self.angle) + \") (alpha =\" + str(alpha)+ \") slope = \",thetaSlope,\")\")\n",
    "            curDir = curDir-deviation-alpha  # curDir - deviation = grad (or opposite), curDir not subjected to mod\n",
    "        else:\n",
    "            # print(\"push left (CurDir =\" + str(curDir) + \") (grad = \" + str(self.angle) + \") (alpha =\" + str(alpha)+ \") slope = \",thetaSlope,\")\")\n",
    "            curDir = curDir-deviation+alpha\n",
    "\n",
    "        print(curDir)\n",
    "        # Convert back to [-pi,pi]\n",
    "        if (0 <= curDir <= np.pi) or (curDir > 2 * np.pi):\n",
    "            curDir = (curDir % (2*np.pi))\n",
    "            return curDir\n",
    "        elif (np.pi < curDir < 2 * np.pi) or (curDir < 0): # Place curDir within [-pi:0]\n",
    "            curDir = (curDir % (2*np.pi)) - 2 * np.pi\n",
    "            return curDir\n",
    "        # end forbidden_angle()"
   ]
  },
  {
   "cell_type": "code",
   "execution_count": 707,
   "outputs": [],
   "source": [
    "##Set up map\n",
    "#Create blank arrays for map\n",
    "z = np.zeros((Nx,Ny))\n",
    "g_max=np.zeros((Nx,Ny)) # empty matrix\n",
    "g_nat=np.zeros((Nx,Ny))\n",
    "g_grad=np.zeros((Nx,Ny))\n",
    "\n",
    "g_nat=np.maximum(np.ones_like(g_nat),np.float64(Base[:,:,0])) # red channel, np.ones_like() sets minimum value to 1\n",
    "g_max=np.maximum(np.ones_like(g_max),np.float64(Base[:,:,1])) # green channel\n",
    "# g_height=np.maximum(np.ones_like(g_grad),np.float64(Base[:,:,2])) # blue channel\n",
    "g_height = elevValue\n",
    "# g_height=np.fromfunction(lambda i, j: 0.27*(i ), (Nx, Ny), dtype=float) # Set custom gradient\n",
    "g_height = cv2.GaussianBlur(g_height,(5,5),2) # Apply 2D convolution using a gaussian kernel\n",
    "z=g_nat\n",
    "\n",
    "# Trails (start and end point) For current Map, coordinates in metres, centre of image = (0,0)\n",
    "\n",
    "# single possible path\n",
    "route=np.array([[10,9.75],[-10.,-9.75]])\n",
    "# route=np.array([[24.,9.75],[-24.,-9.75]])\n",
    "\n",
    "# commented out for single path\n",
    "\n",
    "# route=np.array([[[-2.5,14.],[24.,-9.75]],\n",
    "#                 [[-2.5,14.],[24.,2.5]],\n",
    "#                 [[-2.5,14.],[-24.,9.75]],\n",
    "#                 [[24.,-9.75],[-2.75,14.]],\n",
    "#                 [[24.,-9.75],[-24.,9.75]],\n",
    "#                 [[24.,2.5],[-2.75,14.]],\n",
    "#                 [[24.,2.5],[-24.,9.75]],\n",
    "#                 [[-24.,10.],[-2.75,14.]],\n",
    "#                 [[-24.,10.],[24.,-9.75]],\n",
    "#                 [[-24.,10.],[24.,2.5]]])\n"
   ],
   "metadata": {
    "collapsed": false,
    "pycharm": {
     "name": "#%%\n"
    }
   }
  },
  {
   "cell_type": "code",
   "execution_count": 708,
   "metadata": {
    "pycharm": {
     "name": "#%%\n"
    }
   },
   "outputs": [],
   "source": [
    "#Setup weight matrix, here trapezoid rule.\n",
    "Weight[:,:]=1\n",
    "Weight[1:-1,:]=2\n",
    "Weight[:,1:-1]=2\n",
    "Weight[1:-1,1:-1]=4\n",
    "Weight*=0.25*((x[-1]-x[0])/(Nx-1))*((y[-1]-y[0])/(Ny-1))\n",
    "#0.25*((x[-1]-x[0])/(N-1))*((y[-1]-y[0])/(N-1))\n",
    "#np.exp(-np.sqrt((x[:,None]-x[N/2])**2+(y[None,:]-y[N/2])**2))*z[:,:]"
   ]
  },
  {
   "cell_type": "code",
   "execution_count": 709,
   "metadata": {
    "pycharm": {
     "name": "#%%\n"
    }
   },
   "outputs": [
    {
     "data": {
      "text/plain": "(111, 111)"
     },
     "execution_count": 709,
     "metadata": {},
     "output_type": "execute_result"
    }
   ],
   "source": [
    "# Setup distance matrix\n",
    "for xi in range(1,Nx+1):\n",
    "    for yi in range(1,Ny+1):\n",
    "\n",
    "        expdist[xi-1,yi-1]=np.exp(-isigma*np.sqrt((x[Nx-xi]-xmin)**2+(y[Ny-yi]-ymin)**2))\n",
    "        expdist[-xi,-yi]  = expdist[xi-1,yi-1]\n",
    "        expdist[-xi,yi-1] = expdist[xi-1,yi-1]\n",
    "        expdist[xi-1,-yi] = expdist[xi-1,yi-1]\n",
    "\n",
    "# find index range > conv_thresh\n",
    "subexpdist=expdist[(expdist>conv_thresh).any(1)]\n",
    "subexpdist=subexpdist[:, np.any(subexpdist>conv_thresh, axis=0)]\n",
    "#subexpdist=subexpdist[:,np.any(subexpdist>conv_thresh, axis=0)]\n",
    "#expdist[subexpdist]=0.\n",
    "subexpdist.shape\n",
    "#expdist\n",
    "#subexpdist\n"
   ]
  },
  {
   "cell_type": "code",
   "execution_count": 710,
   "metadata": {
    "pycharm": {
     "name": "#%%\n"
    }
   },
   "outputs": [],
   "source": [
    "def calc_tr_new():\n",
    "    TrailPotential[:,:]=sg.convolve2d(z[:,:]*Weight[:,:],subexpdist[:,:],mode=\"same\")  # 2D convolution"
   ]
  },
  {
   "cell_type": "code",
   "execution_count": 711,
   "metadata": {
    "pycharm": {
     "name": "#%%\n"
    }
   },
   "outputs": [
    {
     "data": {
      "text/plain": "4.81182809999882"
     },
     "execution_count": 711,
     "metadata": {},
     "output_type": "execute_result"
    }
   ],
   "source": [
    "timeit.timeit(calc_tr_new,number=1)"
   ]
  },
  {
   "cell_type": "code",
   "execution_count": 712,
   "metadata": {
    "pycharm": {
     "name": "#%%\n"
    }
   },
   "outputs": [],
   "source": [
    "# Defines a Plot to show the smoothing of the supplied map to represent the respective potentials of the ground, the larger\n",
    "# the potentials, the more attractive the ground is to the walker\n",
    "\n",
    "# ???\n",
    "# cs = plt.contourf(X, Y, TrailPotential, levels=np.linspace(TrailPotential.min(),TrailPotential.max(),1000),cmap='PuBu_r')\n",
    "# cbar = plt.colorbar()\n",
    "#\n",
    "# plt.scatter(track[0:1999,0],track[0:1999,1])\n",
    "# plt.show()"
   ]
  },
  {
   "cell_type": "code",
   "execution_count": 713,
   "metadata": {
    "pycharm": {
     "name": "#%%\n"
    }
   },
   "outputs": [],
   "source": [
    "#set up walker\n",
    "def set_up_walker(route_id):\n",
    "    global vel,pos,track,intens,dest,start,route\n",
    "    #start\n",
    "    # start=np.array(route[route_id,0,:])  # commented for simplicity\n",
    "    start = np.array([30.,30.])  # temporary one route\n",
    "    dest = np.array([-30.,-10.])  # temporary one route\n",
    "    #dest=(random.choice(ends))\n",
    "    # dest=np.array(route[route_id,1,:]) # commented for simplicity\n",
    "    vel=np.array([0.,0.])\n",
    "    pos=np.array(start)\n",
    "    #print (pos)\n",
    "    track=np.zeros((2000,2))\n",
    "    #track[0,:]=pos[:]"
   ]
  },
  {
   "cell_type": "code",
   "execution_count": 714,
   "metadata": {
    "pycharm": {
     "name": "#%%\n"
    }
   },
   "outputs": [],
   "source": [
    "#Calculate gradients eq 19\n",
    "#Trail gradient\n",
    "def setup_potentials():\n",
    "    global grad,desdirx,desdiry,dest\n",
    "    grad=0.003*np.array(np.gradient(TrailPotential))\n",
    "    #grad=0.002*np.array(np.gradient(TrailPotential)) ORIGINAL\n",
    "\n",
    "    #print (dest)\n",
    "    #Destination potential\n",
    "    DestinationPotential=-np.sqrt((dest[0]-x[:,None])**2+(dest[1]-y[None,:])**2)\n",
    "    #Combine gradients\n",
    "    grad+=np.array(np.gradient(DestinationPotential)[:])\n",
    "    #Normalise\n",
    "    #grad[:,:,:]/=(np.sqrt(grad[0,:,:]**2+grad[1,:,:]**2))\n",
    "    desdirx=ReBiSpline(x,y,grad[0,:,:],s=2) # gradeint plus magnitude, Spline approximation over a rectangular mesh\n",
    "    desdiry=ReBiSpline(x,y,grad[1,:,:],s=2)\n",
    "    # angle array, arctans of gradient components, rebislpine\n",
    "    # continuous desired angles permissible\n",
    "        # 2pi periodic system aware"
   ]
  },
  {
   "cell_type": "code",
   "execution_count": 715,
   "metadata": {
    "pycharm": {
     "name": "#%%\n"
    }
   },
   "outputs": [],
   "source": [
    "# #Plot the direction\n",
    "# scgrad=np.arctan2(grad[1],grad[0])\n",
    "# levels = np.linspace(-np.pi, np.pi, 360)\n",
    "# cs = plt.contourf(X, Y,scgrad, levels=levels,cmap='hsv')\n",
    "\n",
    "# cbar = plt.colorbar()\n",
    "# # ERROR # plt.scatter(track[0:1999,0],track[0:1999,1])\n",
    "# #plt.scatter(start, dest)\n",
    "# print(start)\n",
    "# print(dest)\n",
    "# plt.show()"
   ]
  },
  {
   "cell_type": "code",
   "execution_count": 716,
   "metadata": {
    "pycharm": {
     "name": "#%%\n"
    }
   },
   "outputs": [],
   "source": [
    "def persistence(curDir):\n",
    "        global prevDir\n",
    "        # Apply persistence of direction formula (Gilks equation 6) - weighted average of the movement\n",
    "        gammax= (p_alpha*np.cos(prevDir) + (1 - p_alpha)* np.cos(curDir))\n",
    "        gammay=(p_alpha*np.sin(prevDir) + (1 - p_alpha)* np.sin(curDir))\n",
    "                 \n",
    "        gamma = np.arctan2(gammay,gammax)  # previous direction as estimation\n",
    "        return gamma"
   ]
  },
  {
   "cell_type": "code",
   "execution_count": 717,
   "metadata": {
    "pycharm": {
     "name": "#%%\n"
    }
   },
   "outputs": [],
   "source": [
    "def calc_path():\n",
    "    global pos,vel,intens,track,dest,dvel,tau, prevDir, desdirx, desdiry\n",
    "    i=0\n",
    "    hist=10\n",
    "    samp=10\n",
    "    avpos=np.zeros((2,hist))\n",
    "    #Setup While loop to run until either the walker reaches the destination or the walker has passed 2000 movement cycles to\n",
    "    #attempt to get there\n",
    "    while (np.dot(pos-dest,pos-dest)>precision and i<2000): # takes 2000 steps maximum\n",
    "        #set the postiion of the walker on its first then subsequent cycles\n",
    "        #conditional logic saying to update the average position of the walker every 10 iterations\n",
    "        #if (i%samp==0): avpos[:,(i%hist)//samp]=pos[:] #ORIGINAL\n",
    "        if (i%samp==0):\n",
    "            avpos[:,(i%(hist*samp))//samp]=pos[:]\n",
    "        #print((i%hist)//samp)\n",
    "        # print(avpos)\n",
    "        gradmagnitude=max(0.0001,np.sqrt(desdirx(pos[0],pos[1])**2+desdiry(pos[0],pos[1])**2))\n",
    "        xi=np.array(np.random.normal(0,1,2))\n",
    "        # Equation 6 in Helbing, differential in position, eliminised velocity decay components\n",
    "        # gradmagnitude makes sure it is normalised, desdir not normalised\n",
    "        # pos[0]+= dt *(dvel * desdirx(pos[0],pos[1])/gradmagnitude +np.sqrt(2.*eps/tau)*xi[0])  # x-position vector component\n",
    "        # pos[1]+= dt *(dvel * desdiry(pos[0],pos[1])/gradmagnitude +np.sqrt(2.*eps/tau)*xi[1])  # y-position vector component\n",
    "        # posGrad = math.degree(math.atan(pos[0]/pos[1]) # future position\n",
    "        curDir = math.atan2(desdiry(pos[0],pos[1]),desdirx(pos[0],pos[1])) # atan2 not to flip walker around\n",
    "        pos0 = pos[0]\n",
    "        pos1 = pos[1]\n",
    "        posx = int(((pos[0]-xmin)*(Nx-1))/(xmax-xmin)) # index value of position x\n",
    "        posy = int(((pos[1]-ymin)*(Ny-1))/(ymax-ymin)) # index value of position y\n",
    "        # print('x =' + str(posx) + '  y = ' + str(posy))\n",
    "        if i == 385:\n",
    "            print(\"stop)\")\n",
    "        # print('Curdir = ',curDir,' Persistent = ', persistence(curDir))\n",
    "        if i>0: # Exception for first step\n",
    "            curDir = persistence(curDir) # Apply persistence of movement\n",
    "        curGradient = Slope(posx,posy)  # set the current gradient to the Slope class\n",
    "\n",
    "\n",
    "        curDir = curGradient.forbidden_angle(curDir) # apply forbidden angle rule\n",
    "        # if prevDir != curDir:  # the position angle has changed, recalculate the path position ???\n",
    "        # print(\"CurDir at \" + str(i) + \"= \" + str(curDir))\n",
    "        pos[0] += dt * (dvel * math.cos(curDir))\n",
    "        pos[1] += dt * (dvel * math.sin(curDir))\n",
    "            # desdiry = math.sin(curDir)\n",
    "            # desdirx = math.cos(curDir)\n",
    "            # gradmagnitude=max(0.0001,np.sqrt(desdirx(pos[0],pos[1])**2+desdiry(pos[0],pos[1])**2))\n",
    "            # xi=np.array(np.random.normal(0,1,2))\n",
    "            # pos[0]+= dt *(dvel * desdirx(pos[0],pos[1])/gradmagnitude +np.sqrt(2.*eps/tau)*xi[0])  # x-position vector component\n",
    "            # pos[1]+= dt *(dvel * desdiry(pos[0],pos[1])/gradmagnitude +np.sqrt(2.*eps/tau)*xi[1])  # y-position vector component\n",
    "        prevDir = curDir # applying a back trace of the previous direction# Calculate current facing direction\n",
    "        # pos+=dt*vel\n",
    "        #vel[0]+=-1/tau*vel[0] + (dvel/tau)*desdirx(pos[0],pos[1])/gradmagnitude+np.sqrt(2.*eps/tau)*xi[0]   # Eqiation 5 in Helbing, differential in velocity\n",
    "        #vel[1]+=-1/tau*vel[1] + (dvel/tau)*desdiry(pos[0],pos[1])/gradmagnitude+np.sqrt(2.*eps/tau)*xi[1]\n",
    "\n",
    "\n",
    "\n",
    "        #Set the current position of the walker into the trakc array for the current iteration\n",
    "        track[i,:]=pos[:]\n",
    "        # (pos[0]-xmin)*(Nx-1)/(xmax-xmin)  - scale to resolution [Nx-1] * distance to left edge / width of whole field\n",
    "        intens[int((pos[0]-xmin)*(Nx-1)/(xmax-xmin)),int((pos[1]-ymin)*(Ny-1)/(ymax-ymin))]+=1.\n",
    "        i+=1\n",
    "        if (i%(hist*samp)==0):\n",
    "            meanpos=np.mean(avpos,axis=1)\n",
    "            if (np.dot(pos-meanpos,pos-meanpos)<precision):\n",
    "                print (\"Stalled progress \",pos,meanpos,vel, dest)\n",
    "                break\n",
    "    if (i==1500): print (\"Missed goal \",dest,pos)\n",
    "    return i\n",
    "#stopping condition"
   ]
  },
  {
   "cell_type": "code",
   "execution_count": 718,
   "metadata": {
    "pycharm": {
     "name": "#%%\n"
    }
   },
   "outputs": [],
   "source": [
    "# Calculate Q_alpha (strength of markings) eq 15\n",
    "def update_ground():\n",
    "    global q_alpha,intens,z,g_max,t_track,g_nat\n",
    "    q_alpha=intens*(1.-z/g_max)\n",
    "    # Time evolution of ground potential\n",
    "    #zdiff=(1./t_track)*(g_nat-z)+q_alpha\n",
    "    z+=(1./t_track)*(g_nat-z)+q_alpha\n",
    "    #cs = plt.contourf(X, Y, zdiff, cmap=cm.PuBu_r)\n",
    "    #cbar = plt.colorbar()\n",
    "    #plt.show\n",
    "    #z[140:160,45:75]"
   ]
  },
  {
   "cell_type": "code",
   "execution_count": 719,
   "metadata": {
    "pycharm": {
     "name": "#%%\n"
    }
   },
   "outputs": [],
   "source": [
    "# TODO: What does this do???\n",
    "def plot_path_elev():\n",
    "    plt.contourf(X, Y, g_height, levels=np.linspace(g_height.min(),g_height.max(),1000),cmap='PuBu_r')\n",
    "    plt.colorbar()\n",
    "    plt.scatter(track[0:1999,0],track[0:1999,1],1,c='y')\n",
    "    plt.show(block=False)"
   ]
  },
  {
   "cell_type": "code",
   "execution_count": 720,
   "metadata": {},
   "outputs": [],
   "source": [
    "def plot_path():\n",
    "    plt.contourf(X, Y, z, levels=np.linspace(z.min(),z.max(),1000),cmap='PuBu_r')\n",
    "    plt.colorbar()\n",
    "    plt.scatter(track[0:1999,0],track[0:1999,1],1,c='y')\n",
    "    plt.show(block=False)"
   ]
  },
  {
   "cell_type": "code",
   "execution_count": 721,
   "metadata": {
    "pycharm": {
     "name": "#%%\n"
    }
   },
   "outputs": [],
   "source": [
    "tau = 5."
   ]
  },
  {
   "cell_type": "code",
   "execution_count": 722,
   "metadata": {
    "pycharm": {
     "name": "#%%\n"
    }
   },
   "outputs": [
    {
     "name": "stdout",
     "output_type": "stream",
     "text": [
      "Curdir =  -2.5512308533224193  Persistent =  -2.1964401546892613\n",
      "Curdir =  -2.552022000097252  Persistent =  -2.5517846560717348\n",
      "Curdir =  -2.5527539293005628  Persistent =  -2.552463147344663\n",
      "Curdir =  -2.5534064114324737  Persistent =  -2.5531234322178804\n",
      "Curdir =  -2.553974985070176  Persistent =  -2.553719519223132\n",
      "Curdir =  -2.5544631098511927  Persistent =  -2.5542400326685306\n",
      "Curdir =  -2.5548745767279155  Persistent =  -2.554684213513677\n",
      "Curdir =  -2.5552133435088433  Persistent =  -2.5550546045123674\n",
      "Curdir =  -2.555483481015336  Persistent =  -2.55535481806555\n",
      "Curdir =  -2.5556891366866203  Persistent =  -2.5555888411008225\n",
      "Curdir =  -2.555834505685857  Persistent =  -2.5557608063105546\n",
      "Curdir =  -2.5559238066558847  Persistent =  -2.5558749065523463\n",
      "Curdir =  -2.5559612613327447  Persistent =  -2.5559353548986343\n",
      "Curdir =  -2.555951077814172  Persistent =  -2.5559463609395108\n",
      "Curdir =  -2.555897437440991  Persistent =  -2.5559121144905452\n",
      "Curdir =  -2.5558045327241494  Persistent =  -2.555836807254051\n",
      "Curdir =  -2.555677675955149  Persistent =  -2.5557254153447633\n",
      "Curdir =  -2.5555233096395984  Persistent =  -2.555583941351032\n",
      "Curdir =  -2.555347840957645  Persistent =  -2.555418671075477\n",
      "Curdir =  -2.5551575974240426  Persistent =  -2.555235919519224\n",
      "Curdir =  -2.5549588395591596  Persistent =  -2.555041963546881\n",
      "Curdir =  -2.5547577728071365  Persistent =  -2.5548430300287386\n",
      "Curdir =  -2.5545605525322905  Persistent =  -2.5546452957809094\n",
      "Curdir =  -2.5543716268727144  Persistent =  -2.554453727544886\n",
      "Curdir =  -2.554191457612764  Persistent =  -2.5542701385921482\n",
      "Curdir =  -2.5540199243079886  Persistent =  -2.5540949885930173\n",
      "Curdir =  -2.553856903953445  Persistent =  -2.553928329345128\n",
      "Curdir =  -2.5537022724303045  Persistent =  -2.55377008950459\n",
      "Curdir =  -2.5535559046893925  Persistent =  -2.553620160133814\n",
      "Curdir =  -2.553417674570826  Persistent =  -2.5534784202396064\n",
      "Curdir =  -2.553287454531859  Persistent =  -2.5533447442440855\n",
      "Curdir =  -2.553165115365236  Persistent =  -2.5532190040288096\n",
      "Curdir =  -2.5530505259328566  Persistent =  -2.5531010693615754\n",
      "Curdir =  -2.5529435529221733  Persistent =  -2.5529908078539396\n",
      "Curdir =  -2.5528440606274576  Persistent =  -2.552888084795358\n",
      "Curdir =  -2.552751910756455  Persistent =  -2.5527927629680907\n",
      "Curdir =  -2.552666962262477  Persistent =  -2.5527047024741334\n",
      "Curdir =  -2.552589071201805  Persistent =  -2.552623760583482\n",
      "Curdir =  -2.5525180906162324  Persistent =  -2.5525497916063906\n",
      "Curdir =  -2.5524538704405484  Persistent =  -2.552482646790289\n",
      "Curdir =  -2.552396257434755  Persistent =  -2.552422174241406\n",
      "Curdir =  -2.552345095140796  Persistent =  -2.552368218870973\n",
      "Curdir =  -2.5523002238635617  Persistent =  -2.5523206223657806\n",
      "Curdir =  -2.5522614806759427  Persistent =  -2.5522792231828912\n",
      "Curdir =  -2.5522286994476744  Persistent =  -2.552243856568238\n",
      "Curdir =  -2.552201710897728  Persistent =  -2.55221435459888\n",
      "Curdir =  -2.552180342669988  Persistent =  -2.5521905462486547\n",
      "Curdir =  -2.552164419431946  Persistent =  -2.5521722574769585\n",
      "Curdir =  -2.552153762996151  Persistent =  -2.552159311340393\n",
      "Curdir =  -2.5521481924641334  Persistent =  -2.5521515281270113\n",
      "Curdir =  -2.552147524392539  Persistent =  -2.5521487255128807\n",
      "Curdir =  -2.5521515729811792  Persistent =  -2.5521507187406898\n",
      "Curdir =  -2.5521601502827354  Persistent =  -2.552157320820122\n",
      "Curdir =  -2.5521730664338262  Persistent =  -2.552168342749715\n",
      "Curdir =  -2.5521901299071637  Persistent =  -2.552183593759929\n",
      "Curdir =  -2.552211147784516  Persistent =  -2.5522028815771405\n",
      "Curdir =  -2.5522359260502085  Persistent =  -2.5522260127082887\n",
      "Curdir =  -2.55226426990488  Persistent =  -2.5522527927459033\n",
      "Curdir =  -2.5522959840992328  Persistent =  -2.5522830266932353\n",
      "Curdir =  -2.552330873287506  Persistent =  -2.552316519309226\n",
      "Curdir =  -2.55236874240041  Persistent =  -2.552353075473057\n",
      "Curdir =  -2.552409397037271  Persistent =  -2.5523925005680095\n",
      "Curdir =  -2.552452643877129  Persistent =  -2.5524346008843963\n",
      "Curdir =  -2.552498291108549  Persistent =  -2.552479184041307\n",
      "Curdir =  -2.5525461488779047  Persistent =  -2.55252605942693\n",
      "Curdir =  -2.552596029755899  Persistent =  -2.552575038657213\n",
      "Curdir =  -2.552647749222107  Persistent =  -2.552625936052644\n",
      "Curdir =  -2.5527011261617885  Persistent =  -2.5526785691290512\n",
      "Curdir =  -2.5527559821993413  Persistent =  -2.552732758278261\n",
      "Curdir =  -2.5528121371894694  Persistent =  -2.552788323516114\n",
      "Curdir =  -2.5528694075268303  Persistent =  -2.552845082323623\n",
      "Curdir =  -2.5529276067466515  Persistent =  -2.552902849419751\n",
      "Curdir =  -2.552986546206727  Persistent =  -2.5529614371706426\n",
      "Curdir =  -2.5530460357863283  Persistent =  -2.5530206562016313\n",
      "Curdir =  -2.5531058846008174  Persistent =  -2.5530803160810702\n",
      "Curdir =  -2.5531659017315183  Persistent =  -2.5531402260363927\n",
      "Curdir =  -2.553225896970613  Persistent =  -2.553200195690356\n",
      "Curdir =  -2.5532856815809355  Persistent =  -2.5532600358137705\n",
      "Curdir =  -2.5533450690705193  Persistent =  -2.5533195590935036\n",
      "Curdir =  -2.553403875981814  Persistent =  -2.5533785809153295\n",
      "Curdir =  -2.5534619226954454  Persistent =  -2.5534369201614187\n",
      "Curdir =  -2.553519034248419  Persistent =  -2.5534944000223265\n",
      "Curdir =  -2.5535750411666562  Persistent =  -2.553550848823365\n",
      "Curdir =  -2.5536297803117463  Persistent =  -2.5536061008652386\n",
      "Curdir =  -2.5536830957417855  Persistent =  -2.5536599972788276\n",
      "Curdir =  -2.553734839586172  Persistent =  -2.5537123868939746\n",
      "Curdir =  -2.553784872934192  Persistent =  -2.553763127122132\n",
      "Curdir =  -2.553833066737237  Persistent =  -2.5538120848527104\n",
      "Curdir =  -2.5538793027244417  Persistent =  -2.5538591373629265\n",
      "Curdir =  -2.553923474331532  Persistent =  -2.553904173240954\n",
      "Curdir =  -2.5539654876426137  Persistent =  -2.553947093322119\n",
      "Curdir =  -2.5540052623446177  Persistent =  -2.553987811637871\n",
      "Curdir =  -2.5540427326940622  Persistent =  -2.5540262563772074\n",
      "Curdir =  -2.554077848495749  Persistent =  -2.5540623708601884\n",
      "Curdir =  -2.554110576092959  Persistent =  -2.5540961145231296\n",
      "Curdir =  -2.5541408993686496  Persistent =  -2.5541274639149947\n",
      "Curdir =  -2.554168820757101  Persistent =  -2.55415641370447\n",
      "Curdir =  -2.5541943622653718  Persistent =  -2.554182977697102\n",
      "Curdir =  -2.5542175665038553  Persistent =  -2.55420718986183\n",
      "Curdir =  -2.5542384977251515  Persistent =  -2.5542291053661557\n",
      "Curdir =  -2.554257242831108  Persistent =  -2.5542488015916227\n",
      "Curdir =  -2.554273878587514  Persistent =  -2.554266355488747\n",
      "Curdir =  -2.5542884065431255  Persistent =  -2.554281791226812\n",
      "Curdir =  -2.554300827310052  Persistent =  -2.55429511648508\n",
      "Curdir =  -2.5543111587415006  Persistent =  -2.5543063460645747\n",
      "Curdir =  -2.5543194380277603  Persistent =  -2.554315510438805\n",
      "Curdir =  -2.5543257238145265  Persistent =  -2.55432265980181\n",
      "Curdir =  -2.5543300983739874  Persistent =  -2.554327866802334\n",
      "Curdir =  -2.554332669836711  Persistent =  -2.554331228926398\n",
      "Curdir =  -2.55433357448551  Persistent =  -2.5543328708177766\n",
      "Curdir =  -2.554332979110214  Persistent =  -2.5543329466224827\n",
      "Curdir =  -2.554331083421492  Persistent =  -2.554331642381789\n",
      "Curdir =  -2.554328122521472  Persistent =  -2.554329178479567\n",
      "Curdir =  -2.554324369428588  Persistent =  -2.554325812143882\n",
      "Curdir =  -2.5543201376538307  Persistent =  -2.554321840000846\n",
      "Curdir =  -2.5543157838252544  Persistent =  -2.554317600677932\n",
      "Curdir =  -2.554311710357247  Persistent =  -2.554313477453453\n",
      "Curdir =  -2.5543083681606897  Persistent =  -2.554309900948519\n",
      "Curdir =  -2.554306259389709  Persistent =  -2.554307351857352\n",
      "Curdir =  -2.554305940220234  Persistent =  -2.5543063637113694\n",
      "Curdir =  -2.554308022055252  Persistent =  -2.554307524552087\n",
      "Curdir =  -2.5543130569906722  Persistent =  -2.554311397259097\n",
      "Curdir =  -2.5543214168180532  Persistent =  -2.5543184109503665\n",
      "Curdir =  -2.554333423934957  Persistent =  -2.55432892003958\n",
      "Curdir =  -2.554349366778848  Persistent =  -2.554343232757068\n",
      "Curdir =  -2.5543695000024536  Persistent =  -2.554361619828838\n",
      "Curdir =  -2.5543940446117923  Persistent =  -2.5543843171769067\n",
      "Curdir =  -2.5544231881157597  Persistent =  -2.5544115268341048\n",
      "Curdir =  -2.55445708470228  Persistent =  -2.5544434173418287\n",
      "Curdir =  -2.554495855445709  Persistent =  -2.554480124014547\n",
      "Curdir =  -2.554539588547104  Persistent =  -2.55452174918734\n",
      "Curdir =  -2.554588339608007  Persistent =  -2.554568362481811\n",
      "Curdir =  -2.554642131938201  Persistent =  -2.5546200011012896\n",
      "Curdir =  -2.554700956897799  Persistent =  -2.554676670158854\n",
      "Curdir =  -2.5547647742740707  Persistent =  -2.5547383430395154\n",
      "Curdir =  -2.554833512693423  Persistent =  -2.554804961797263\n",
      "Curdir =  -2.5549070700689893  Persistent =  -2.5548764375874864\n",
      "Curdir =  -2.5549853140843006  Persistent =  -2.5549526511352747\n",
      "Curdir =  -2.555068082713528  Persistent =  -2.555033453240074\n",
      "Curdir =  -2.555155184778812  Persistent =  -2.5551186653172158\n",
      "Curdir =  -2.555246400545192  Persistent =  -2.555208079976828\n",
      "Curdir =  -2.5553414823536382  Persistent =  -2.5553014616406284\n",
      "Curdir =  -2.5554401552927035  Persistent =  -2.5553985471971186\n",
      "Curdir =  -2.5555421179092734  Persistent =  -2.5554990466956684\n",
      "Curdir =  -2.5556470429588716  Persistent =  -2.555602644079956\n",
      "Curdir =  -2.555754578195949  Persistent =  -2.5557089979612004\n",
      "Curdir =  -2.555864347204538  Persistent =  -2.5558177424315893\n",
      "Curdir =  -2.5559759502695893  Persistent =  -2.5559284879182447\n",
      "Curdir =  -2.5560889652892684  Persistent =  -2.5560408220780193\n",
      "Curdir =  -2.5562029487283975  Persistent =  -2.5561543107333438\n",
      "Curdir =  -2.5563174366131576  Persistent =  -2.556268498849274\n",
      "Curdir =  -2.55643194556708  Persistent =  -2.5563829115517995\n",
      "Curdir =  -2.556545973888261  Persistent =  -2.5564970551873833\n",
      "Curdir =  -2.556659002667616  Persistent =  -2.556610418423606\n",
      "Curdir =  -2.5567704969479097  Persistent =  -2.556722473390676\n",
      "Curdir =  -2.5568799069231467  Persistent =  -2.5568326768634604\n",
      "Curdir =  -2.5569866691778182  Persistent =  -2.556940471483562\n",
      "Curdir =  -2.557090207965356  Persistent =  -2.557045287020865\n",
      "Curdir =  -2.5571899365250212  Persistent =  -2.557146541673817\n",
      "Curdir =  -2.557285258436321  Persistent =  -2.5572436434076073\n",
      "Curdir =  -2.557375569009928  Persistent =  -2.557335991329264\n",
      "Curdir =  -2.557460256713916  Persistent =  -2.5574229770985477\n",
      "Curdir =  -2.5575387046340277  Persistent =  -2.5575039863734053\n",
      "Curdir =  -2.557610291966517  Persistent =  -2.5575784002886004\n",
      "Curdir =  -2.5576743955420387  Persistent =  -2.5576455969660197\n",
      "Curdir =  -2.5577303913788647  Persistent =  -2.55770495305502\n",
      "Curdir =  -2.557777656263654  Persistent =  -2.557755845301069\n",
      "Curdir =  -2.557815569357851  Persistent =  -2.5577976521408194\n",
      "Curdir =  -2.5578435138276974  Persistent =  -2.5578297553216354\n",
      "Curdir =  -2.5578608784957577  Persistent =  -2.5578515415435215\n",
      "Curdir =  -2.5578670595117563  Persistent =  -2.557862404121286\n",
      "Curdir =  -2.557861462040473  Persistent =  -2.557861744664717\n",
      "Curdir =  -2.5578434980069367  Persistent =  -2.5578489720042707\n",
      "Curdir =  -2.557812254365932  Persistent =  -2.5578232696574332\n",
      "Curdir =  -2.5577659283715457  Persistent =  -2.557783130757309\n",
      "Curdir =  -2.5577019708291004  Persistent =  -2.5577263188075556\n",
      "Curdir =  -2.557617079694399  Persistent =  -2.557649851428328\n",
      "Curdir =  -2.557507162120023  Persistent =  -2.557549968912474\n",
      "Curdir =  -2.557367296849632  Persistent =  -2.5574220984683995\n",
      "Curdir =  -2.5571916972227355  Persistent =  -2.5572608175962634\n",
      "Curdir =  -2.556973669361743  Persistent =  -2.557059813831768\n",
      "Curdir =  -2.5567048884843993  Persistent =  -2.556811366087984\n",
      "Curdir =  -2.556374937205987  Persistent =  -2.5565058658694224\n",
      "Curdir =  -2.555972876096151  Persistent =  -2.5561327730260124\n",
      "Curdir =  -2.55548761598056  Persistent =  -2.5556811630904366\n",
      "Curdir =  -2.554908139082564  Persistent =  -2.5551400462784586\n",
      "Curdir =  -2.5542237489534187  Persistent =  -2.55449863814016\n",
      "Curdir =  -2.553424351001091  Persistent =  -2.553746637125454\n",
      "Curdir =  -2.5525007646110582  Persistent =  -2.5528745263383033\n",
      "3.5300110505844104\n",
      "Curdir =  -2.547518068877336  Persistent =  -2.6090927589891493\n",
      "3.501264295018842\n",
      "Curdir =  -2.5416765453210353  Persistent =  -2.6135549025070786\n",
      "3.401800833549387\n",
      "Curdir =  -2.5335787257384137  Persistent =  -2.6373259594077028\n",
      "3.3860000348071253\n",
      "Curdir =  -2.524768593918865  Persistent =  -2.6357627754266653\n",
      "3.3712604740705934\n",
      "Curdir =  -2.515237462322358  Persistent =  -2.6333591878781304\n",
      "3.3066031208286897\n",
      "Curdir =  -2.504012211569931  Persistent =  -2.644280251289791\n",
      "3.296552861820441\n",
      "Curdir =  -2.492087573011629  Persistent =  -2.6387256932238063\n",
      "3.287000339424019\n",
      "Curdir =  -2.4794506724268124  Persistent =  -2.632499394191922\n",
      "3.277912933095063\n",
      "Curdir =  -2.4660910916915166  Persistent =  -2.6256015474705334\n",
      "3.2692615607100945\n",
      "Curdir =  -2.452017183056527  Persistent =  -2.618044446783052\n",
      "3.2376216283674975\n",
      "Curdir =  -2.4368143626685215  Persistent =  -2.61618973017181\n",
      "3.2240174488622877\n",
      "Curdir =  -2.4208324664483696  Persistent =  -2.608575717034263\n",
      "3.2176396529834053\n",
      "Curdir =  -2.4042195245082336  Persistent =  -2.5984294812131554\n",
      "3.2115282563905576\n",
      "Curdir =  -2.386996856788347  Persistent =  -2.5877365154692717\n",
      "3.20567208431178\n",
      "Curdir =  -2.3691859334950798  Persistent =  -2.576512430835855\n",
      "3.2000607770629483\n",
      "Curdir =  -2.3508083016347183  Persistent =  -2.5647725476064416\n",
      "3.1895338238217885\n",
      "Curdir =  -2.3317946689566496  Persistent =  -2.5538768535098506\n",
      "3.1845931308243554\n",
      "Curdir =  -2.312262272916212  Persistent =  -2.541020899854455\n",
      "3.179841113912814\n",
      "Curdir =  -2.29223213657923  Persistent =  -2.52770430018888\n",
      "3.175253716943901\n",
      "Curdir =  -2.271724750371702  Persistent =  -2.513944685218139\n",
      "3.1708084391456737\n",
      "Curdir =  -2.250760014281034  Persistent =  -2.4997585770928943\n",
      "3.1622830145285494\n",
      "Curdir =  -2.2292880279128147  Persistent =  -2.4862160891932055\n",
      "3.1581894159325947\n",
      "Curdir =  -2.2074005065226476  Persistent =  -2.4711297857670287\n",
      "3.1542038714766063\n",
      "Curdir =  -2.185115723010316  Persistent =  -2.455656284333396\n",
      "3.15032286401324\n",
      "Curdir =  -2.162451245342281  Persistent =  -2.439804586808421\n",
      "3.1465427250056077\n",
      "Curdir =  -2.1394238141416224  Persistent =  -2.423582975129966\n",
      "3.1392698166049406\n",
      "Curdir =  -2.115996056776147  Persistent =  -2.407853778141524\n",
      "3.135769231115135\n",
      "Curdir =  -2.092239386386552  Persistent =  -2.39084289175747\n",
      "3.13235392791909\n",
      "Curdir =  -2.0681672878263004  Persistent =  -2.373484760537627\n",
      "3.129019898272267\n",
      "Curdir =  -2.0437919094920414  Persistent =  -2.355783572100182\n",
      "3.125763123023241\n",
      "Curdir =  -2.019123810694008  Persistent =  -2.337742073847736\n",
      "3.1194652780251175\n",
      "Curdir =  -1.9940425501385743  Persistent =  -2.319982732210583\n",
      "3.1164162161807467\n",
      "Curdir =  -1.9682597059306433  Persistent =  -2.3008063141084785\n",
      "3.1134284379356725\n",
      "Curdir =  -1.9413829658564923  Persistent =  -2.280644806668712\n",
      "3.1104980109396334\n",
      "Curdir =  -1.9129993640070653  Persistent =  -2.2591564590760798\n",
      "3.107621034304189\n",
      "Curdir =  -1.8826754395472296  Persistent =  -2.2359725059918674\n",
      "3.102011990870574\n",
      "Curdir =  -1.8499310516923066  Persistent =  -2.2112462158089254\n",
      "3.099272282804205\n",
      "Curdir =  -1.814325786624034  Persistent =  -2.183397447350699\n",
      "3.096570738800792\n",
      "Curdir =  -1.7753717235139321  Persistent =  -2.1525578743341574\n",
      "5.131504674480077\n",
      "Curdir =  -1.8000671233321057  Persistent =  -1.6094928065852487\n",
      "5.1708509596977255\n",
      "Curdir =  -1.8271197478137653  Persistent =  -1.6180023914396706\n",
      "5.199453064680177\n",
      "Curdir =  -1.8560727981977425  Persistent =  -1.6311250192316098\n",
      "5.229361069990895\n",
      "Curdir =  -1.8868355407367348  Persistent =  -1.6454719641592837\n",
      "5.250184124454635\n",
      "Curdir =  -1.919047852814202  Persistent =  -1.6635853998702022\n",
      "5.2678669096375\n",
      "Curdir =  -1.952551632792321  Persistent =  -1.6837243402142354\n",
      "5.287778976960447\n",
      "Curdir =  -1.9873231438406078  Persistent =  -1.704503962603176\n",
      "5.300210671506223\n",
      "Curdir =  -2.0231836102409924  Persistent =  -1.7282737786277238\n",
      "5.3151318859766405\n",
      "Curdir =  -2.060178069589187  Persistent =  -1.7525710865865816\n",
      "5.323455173395285\n",
      "Curdir =  -2.09825959113725  Persistent =  -1.779586919766279\n",
      "5.330143735446957\n",
      "Curdir =  -2.1375111165262948  Persistent =  -1.808166720764406\n",
      "5.33541993012763\n",
      "Curdir =  -2.1780583242747067  Persistent =  -1.838369553209174\n",
      "5.343263487588125\n",
      "Curdir =  -2.2200812052987065  Persistent =  -1.8695003526088358\n",
      "5.346032837865718\n",
      "Curdir =  -2.2637317802049495  Persistent =  -1.9033778523024736\n",
      "5.3479125970783175\n",
      "Curdir =  -2.3092026685643248  Persistent =  -1.939269580860281\n",
      "5.351916476076852\n",
      "Curdir =  -2.3566585808443477  Persistent =  -1.9767938680103425\n",
      "5.352107160977748\n",
      "Curdir =  -2.4061330550107054  Persistent =  -2.0171910610154384\n",
      "5.351818491720687\n",
      "Curdir =  -2.457594540870458  Persistent =  -2.0598613227983367\n",
      "5.351182936505252\n",
      "Curdir =  -2.5109249568972585  Persistent =  -2.1047804764597866\n",
      "3.023211165396304\n",
      "Curdir =  -2.476076579842812  Persistent =  -2.7041736881710627\n",
      "3.022422457877152\n",
      "Curdir =  -2.440237617296073  Persistent =  -2.678246965678058\n",
      "3.0218297941803547\n",
      "Curdir =  -2.403567337103385  Persistent =  -2.6515480828745557\n",
      "3.021431105117622\n",
      "Curdir =  -2.365859045317589  Persistent =  -2.6239120708808623\n",
      "3.0235988525599176\n",
      "Curdir =  -2.3266290959503078  Persistent =  -2.5943495631870386\n",
      "3.0237633111615936\n",
      "Curdir =  -2.285030387033848  Persistent =  -2.563399051329953\n",
      "3.024109723806241\n",
      "Curdir =  -2.2401056116769658  Persistent =  -2.5297299521200305\n",
      "3.024636367534046\n",
      "Curdir =  -2.1906833656403997  Persistent =  -2.4923975084778935\n",
      "3.0253416852308117\n",
      "Curdir =  -2.135343355330963  Persistent =  -2.4502252218563267\n",
      "3.0262242888824176\n",
      "Curdir =  -2.0723736830050212  Persistent =  -2.4017450623411976\n",
      "3.0285166678811413\n",
      "Curdir =  -1.9997619136640048  Persistent =  -2.344876129983065\n",
      "3.029924543853678\n",
      "Curdir =  -1.9151246992397908  Persistent =  -2.2778539286633546\n",
      "3.033714855504823\n",
      "Curdir =  -1.8159462615895376  Persistent =  -2.1973328548582036\n",
      "3.0353774861110177\n",
      "Curdir =  -1.7010870292884912  Persistent =  -2.1021714225810286\n",
      "3.0371688687650757\n",
      "Curdir =  -1.5802563744453328  Persistent =  -1.9987045020639536\n",
      "5.392410492658752\n",
      "Curdir =  -1.6650340188951471  Persistent =  -1.4395626967951638\n",
      "5.386768617446988\n",
      "Curdir =  -1.7566068842121838  Persistent =  -1.5079874354758998\n",
      "5.379848070836454\n",
      "Curdir =  -1.8495726306157432  Persistent =  -1.5784210049800582\n",
      "5.371962796257473\n",
      "Curdir =  -1.9403175133409274  Persistent =  -1.6481670945009357\n",
      "5.365283344990321\n",
      "Curdir =  -2.02830457302277  Persistent =  -1.7163059495316695\n",
      "5.35657417579131\n",
      "Curdir =  -2.113559921440193  Persistent =  -1.783647995950969\n",
      "5.348363926682688\n",
      "Curdir =  -2.1966553003079494  Persistent =  -1.8500313039151521\n",
      "5.341052190133668\n",
      "Curdir =  -2.2792173841039043  Persistent =  -1.9167033546112184\n",
      "5.3349103776473585\n",
      "Curdir =  -2.3651588580252842  Persistent =  -1.98689982705962\n",
      "5.329333173122082\n",
      "Curdir =  -2.458853221191714  Persistent =  -2.064694766868318\n",
      "5.324888008174177\n",
      "Curdir =  -2.564026788817951  Persistent =  -2.1538693017073154\n",
      "3.0181275105265044\n",
      "Curdir =  -2.4883665703076674  Persistent =  -2.7145011190028923\n",
      "3.017911115997642\n",
      "Curdir =  -2.400034386252607  Persistent =  -2.6499948945644047\n",
      "3.0188388623182267\n",
      "Curdir =  -2.2943147151306973  Persistent =  -2.571571175924168\n",
      "3.01996482169225\n",
      "Curdir =  -2.1646357165585024  Persistent =  -2.4737996868474923\n",
      "3.021290992711623\n",
      "Curdir =  -2.0028397271328444  Persistent =  -2.3488588854170684\n",
      "3.024509826049094\n",
      "Curdir =  -1.8037221274659936  Persistent =  -2.1890526441924263\n",
      "3.0263152712155916\n",
      "Curdir =  -1.5758238366436572  Persistent =  -1.9962216045834238\n",
      "5.3234710525689195\n",
      "Curdir =  -1.7329674150843095  Persistent =  -1.507770578217268\n",
      "5.316314773790236\n",
      "end\n"
     ]
    }
   ],
   "source": [
    "# RUN SIMULATION\n",
    "\n",
    "g_slope = np.gradient(g_height,1)\n",
    "grady = g_slope[0] # vertical slope compontent\n",
    "gradx = g_slope[1] # horizontal slope component\n",
    "for i in range(0,1):\n",
    "    calc_tr_new()\n",
    "    intens[:]=0.\n",
    "    for j in range(0,1):\n",
    "        set_up_walker(np.random.randint(0,len(route)))\n",
    "        setup_potentials()\n",
    "        calc_path()\n",
    "        # print(i, start,\" -> \", dest, pos, calc_path()) **********\n",
    "    update_ground()\n",
    "    #plot_path()\n",
    "print(\"end\")"
   ]
  },
  {
   "cell_type": "code",
   "execution_count": 723,
   "outputs": [
    {
     "data": {
      "text/plain": "<Figure size 432x288 with 2 Axes>",
      "image/png": "[encoded data removed]"
     },
     "metadata": {
      "needs_background": "light"
     },
     "output_type": "display_data"
    },
    {
     "data": {
      "text/plain": "<Figure size 432x288 with 2 Axes>",
      "image/png": "[encoded data removed]"
     },
     "metadata": {
      "needs_background": "light"
     },
     "output_type": "display_data"
    }
   ],
   "source": [
    "plot_path_elev()\n",
    "plot_path()"
   ],
   "metadata": {
    "collapsed": false,
    "pycharm": {
     "name": "#%%\n"
    }
   }
  },
  {
   "cell_type": "code",
   "execution_count": 724,
   "metadata": {
    "pycharm": {
     "name": "#%%\n"
    }
   },
   "outputs": [],
   "source": [
    "for i in range(0,Nx):\n",
    "    for j in range(0,Ny):\n",
    "        if (np.isnan(z[i,j])):\n",
    "            print (i,j,g_max[i,j],Base[i,j,0])"
   ]
  },
  {
   "cell_type": "code",
   "execution_count": 725,
   "metadata": {
    "pycharm": {
     "name": "#%%\n"
    }
   },
   "outputs": [],
   "source": [
    "def detect_local_maxima(arr):\n",
    "    # https://stackoverflow.com/questions/3684484/peak-detection-in-a-2d-array/3689710#3689710\n",
    "    \"\"\"\n",
    "    Takes an array and detects the troughs using the local maximum filter.\n",
    "    Returns a boolean mask of the troughs (i.e. 1 when\n",
    "    the pixel's value is the neighborhood maximum, 0 otherwise)\n",
    "    \"\"\"\n",
    "    # define an connected neighborhood\n",
    "    # http://www.scipy.org/doc/api_docs/SciPy.ndimage.morphology.html#generate_binary_structure\n",
    "    neighborhood = morphology.generate_binary_structure(len(arr.shape),2)\n",
    "    # apply the local minimum filter; all locations of minimum value\n",
    "    # in their neighborhood are set to 1\n",
    "    # http://www.scipy.org/doc/api_docs/SciPy.ndimage.filters.html#minimum_filter\n",
    "    local_max = (filters.maximum_filter(arr, footprint=neighborhood)==arr)\n",
    "    # local_min is a mask that contains the peaks we are\n",
    "    # looking for, but also the background.\n",
    "    # In order to isolate the peaks we must remove the background from the mask.\n",
    "    #\n",
    "    # we create the mask of the background\n",
    "    background = (arr==0)\n",
    "    #\n",
    "    # a little technicality: we must erode the background in order to\n",
    "    # successfully subtract it from local_min, otherwise a line will\n",
    "    # appear along the background border (artifact of the local minimum filter)\n",
    "    # http://www.scipy.org/doc/api_docs/SciPy.ndimage.morphology.html#binary_erosion\n",
    "    eroded_background = morphology.binary_erosion(\n",
    "        background, structure=neighborhood, border_value=1)\n",
    "    #\n",
    "    # we obtain the final mask, containing only peaks,\n",
    "    # by removing the background from the local_min mask\n",
    "    detected_maxima = local_max ^ eroded_background\n",
    "    return np.where(detected_maxima)"
   ]
  },
  {
   "cell_type": "code",
   "execution_count": 726,
   "metadata": {
    "pycharm": {
     "name": "#%%\n"
    }
   },
   "outputs": [],
   "source": [
    "def plot_potentials():\n",
    "    global dest\n",
    "    TotPot = np.zeros((Nx,Ny))\n",
    "    TotPot =- np.sqrt((dest[0]-x[:,None])**2+(dest[1]-y[None,:])**2)\n",
    "    TotPot += 0.003*TrailPotential\n",
    "    maxima=detect_local_maxima(TotPot)\n",
    "    cs = plt.contourf(X, Y, TotPot, levels=np.linspace(TotPot.min(),TotPot.max(),1000),cmap='PuBu_r')\n",
    "    cbar = plt.colorbar()\n",
    "    print(maxima)\n",
    "    plt.scatter(x[maxima[0]],y[maxima[1]])\n",
    "    plt.show()\n",
    "    # commit test"
   ]
  },
  {
   "cell_type": "code",
   "execution_count": 727,
   "metadata": {
    "pycharm": {
     "name": "#%%\n"
    }
   },
   "outputs": [
    {
     "name": "stdout",
     "output_type": "stream",
     "text": [
      "(array([ 89,  89,  90,  90, 379, 379], dtype=int64), array([ 39, 380, 169, 170, 169, 170], dtype=int64))\n"
     ]
    },
    {
     "data": {
      "text/plain": "<Figure size 432x288 with 2 Axes>",
      "image/png": "[encoded data removed]"
     },
     "metadata": {
      "needs_background": "light"
     },
     "output_type": "display_data"
    }
   ],
   "source": [
    "plot_potentials()"
   ]
  },
  {
   "cell_type": "code",
   "execution_count": 728,
   "metadata": {
    "pycharm": {
     "name": "#%%\n"
    }
   },
   "outputs": [
    {
     "data": {
      "text/plain": "<Figure size 432x288 with 2 Axes>",
      "image/png": "[encoded data removed]"
     },
     "metadata": {
      "needs_background": "light"
     },
     "output_type": "display_data"
    }
   ],
   "source": [
    "#Plot the direction\n",
    "scgrad=np.arctan2(grad[1],grad[0])\n",
    "levels = np.linspace(-np.pi, np.pi, 360)\n",
    "cs = plt.contourf(X, Y,scgrad, levels=levels,cmap='hsv')\n",
    "\n",
    "cbar = plt.colorbar()\n",
    "plt.scatter(track[0:1999,0],track[0:1999,1])\n",
    "#plt.scatter(start, dest)\n",
    "# print(start) **************\n",
    "# print(dest) ***************\n",
    "plt.show()\n"
   ]
  },
  {
   "cell_type": "code",
   "execution_count": 729,
   "metadata": {
    "pycharm": {
     "name": "#%%\n"
    }
   },
   "outputs": [],
   "source": [
    "# plot_path()"
   ]
  },
  {
   "cell_type": "code",
   "execution_count": 730,
   "metadata": {
    "pycharm": {
     "name": "#%%\n"
    }
   },
   "outputs": [],
   "source": [
    "#Integrate z, trapezoid rule eq 20\n",
    "# def calc_tr():\n",
    "#    global xi,yi,TrailPotential,expdist,z,Weight,Nx,Ny\n",
    "#    for xi in range(0,Nx):\n",
    "#        for yi in range(0,Ny):\n",
    "#            TrailPotential[xi,yi]=np.sum(expdist[Nx-1-xi:2*Nx-1-xi,Ny-1-yi:2*Ny-1-yi]*z[:,:]*Weight[:,:])\n",
    "\n",
    "# Test additional heightS"
   ]
  },
  {
   "cell_type": "code",
   "execution_count": 731,
   "metadata": {
    "pycharm": {
     "name": "#%%\n"
    }
   },
   "outputs": [],
   "source": [
    "#Integrate z, trapezoid rule eq 20\n",
    "# def calc_tr():\n",
    "#    global xi,yi,TrailPotential,expdist,z,Weight,Nx,Ny\n",
    "#    for xi in range(0,Nx):\n",
    "#        for yi in range(0,Ny):\n",
    "#            TrailPotential[xi,yi]=np.sum(expdist[Nx-1-xi:2*Nx-1-xi,Ny-1-yi:2*Ny-1-yi]*z[:,:]*Weight[:,:])"
   ]
  }
 ],
 "metadata": {
  "kernelspec": {
   "display_name": "Python 3",
   "language": "python",
   "name": "python3"
  },
  "language_info": {
   "codemirror_mode": {
    "name": "ipython",
    "version": 3
   },
   "file_extension": ".py",
   "mimetype": "text/x-python",
   "name": "python",
   "nbconvert_exporter": "python",
   "pygments_lexer": "ipython3",
   "version": "3.7.9"
  }
 },
 "nbformat": 4,
 "nbformat_minor": 1
}