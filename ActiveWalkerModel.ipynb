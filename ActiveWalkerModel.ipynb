{
 "cells": [
  {
   "cell_type": "code",
   "execution_count": 431,
   "metadata": {
    "pycharm": {
     "name": "#%%#Authors: Eli Gumble, Peter Brommer, Harry Brown. Incline and Elevation modifications created by Michal Nahlik\n"
    }
   },
   "outputs": [],
   "source": [
    "#Initialisation\n",
    "import matplotlib.pyplot as plt\n",
    "import numpy as np\n",
    "# from scipy.integrate import simps\n",
    "from scipy import signal as sg\n",
    "from scipy.interpolate import RectBivariateSpline as ReBiSpline\n",
    "# from numpy import ma\n",
    "# from matplotlib import colors, ticker, cm\n",
    "# from random import choice\n",
    "import scipy.ndimage.filters as filters\n",
    "import scipy.ndimage.morphology as morphology\n",
    "import timeit\n",
    "import math\n",
    "import cv2\n",
    "import random\n",
    "from PIL import Image\n",
    "import elevation_import as elev\n",
    "%matplotlib inline"
   ]
  },
  {
   "cell_type": "code",
   "execution_count": 432,
   "outputs": [],
   "source": [
    "areaName = 'Base Test'\n",
    "locSelect = [0,0]\n",
    "entrySelect = [[0.001, 0],\n",
    "               [-0.001, 0]]\n",
    "areaWidth = 400\n",
    "\n",
    "# areaName = 'Rhyd Ddu Path, Snowdon, Wales'\n",
    "# locSelect = [53.061386, -4.085166]\n",
    "# entrySelect = [[53.061043, -4.087302],\n",
    "#                [53.061793, -4.084131]]\n",
    "# areaWidth = 500\n",
    "\n",
    "# areaName = 'Slavkovsky nos, Slovakia'\n",
    "# locSelect = [49.163618, 20.210788]\n",
    "# entrySelect = [[49.162153, 20.216947],\n",
    "#                [49.164077, 20.208601]]\n",
    "# areaWidth = 1200\n",
    "\n",
    "# areaName = 'Tatry Mountain Range, Poland'\n",
    "# locSelect = [49.215265, 20.061374]\n",
    "# entrySelect = [[49.215198, 20.061722],\n",
    "#                [49.215256, 20.060804]]\n",
    "# areaWidth = 200\n",
    "\n",
    "# areaName = 'Wank Mountain, Germany' # - best result at 0.01, 10\n",
    "# locSelect = [47.506477, 11.143055]\n",
    "# entrySelect = [[47.505727, 11.142904],\n",
    "#                [47.507160, 11.143308]]\n",
    "# areaWidth = 300\n",
    "\n",
    "# areaName = 'Winklmoosalm-Steinplatte, Germany'\n",
    "# locSelect = [47.606918, 12.582151]\n",
    "# entrySelect = [[47.608230, 12.584250],\n",
    "#                [47.606674, 12.578909]]\n",
    "# areaWidth = 900\n",
    "\n",
    "# areaName = 'Penken Ski Resort, Austria'\n",
    "# locSelect = [47.178091, 11.820468]\n",
    "# entrySelect = [[47.178598, 11.821686],\n",
    "#                [47.177239, 11.819238]]\n",
    "# areaWidth = 420\n",
    "\n",
    "# areaName = 'Mount Fuji, Japan'\n",
    "# locSelect = [35.375603, 138.749592]\n",
    "# entrySelect = [[35.376391, 138.751420],\n",
    "#                [35.374902, 138.748095]]\n",
    "# areaWidth = 500\n",
    "\n",
    "# areaName = 'Jade Mountain, Taiwan'\n",
    "# locSelect = [23.468831, 120.954830]\n",
    "# entrySelect = [[23.467812, 120.954283],\n",
    "#                [23.469539, 120.955888]]\n",
    "# areaWidth = 900\n",
    "\n",
    "# areaName = 'La Parva Ski Slope, Chile'\n",
    "# locSelect = [-33.335387, -70.260810]\n",
    "# entrySelect = [[-33.338380, -70.262335],\n",
    "#                [-33.331841, -70.259477]]\n",
    "# areaWidth = 900\n",
    "\n",
    "\n",
    "# areaName = 'Pico El Águila, Venezuela'\n",
    "# locSelect = [8.801653, -70.862748]\n",
    "# entrySelect = [[8.800548, -70.861959],\n",
    "#                [8.802221, -70.863895]]\n",
    "# areaWidth = 900\n",
    "\n",
    "\n",
    "p_alpha = 0.4 # value of persistence\n",
    "deg_max = 1.35 # from 4.5  # maximum permissible ascent angle (30 degrees)\n",
    "theta_max = np.deg2rad(deg_max)\n",
    "\n"
   ],
   "metadata": {
    "collapsed": false,
    "pycharm": {
     "name": "#%% User input Variables\n"
    }
   }
  },
  {
   "cell_type": "code",
   "execution_count": 433,
   "metadata": {
    "pycharm": {
     "name": "#%%\n"
    }
   },
   "outputs": [],
   "source": [
    "# TODO: image input?\n",
    "# Read grids from image\n",
    "im = Image.open(\"images/flat500x500.bmp\")\n",
    "im = im.resize((areaWidth, areaWidth), Image.ANTIALIAS)"
   ]
  },
  {
   "cell_type": "code",
   "execution_count": 434,
   "outputs": [],
   "source": [
    "Base = np.array(im)\n",
    "# Define internal quantities and variables\n",
    "g_max = None\n",
    "g_height = route = []\n",
    "scale = 1  # m per pixel\n",
    "Nx = Base[:,0,0].size  # N appears to be resolution\n",
    "Ny = Base[0,:,0].size  # Nx,Ny is size, Nz is RGB level\n",
    "xmin=-scale*0.5*(Nx-1)\n",
    "xmax=scale*0.5*(Nx-1)\n",
    "ymin=-scale*0.5*(Ny-1)\n",
    "ymax=scale*0.5*(Ny-1)\n",
    "x = np.linspace(xmin, xmax, Nx) # This is defining the axes and full space\n",
    "y = np.linspace(ymin, ymax, Ny)\n",
    "Y, X= np.meshgrid(y, x)\n",
    "TrailPotential = np.zeros((Nx,Ny))\n",
    "DestinationPotential=np.zeros((Nx,Ny))\n",
    "Weight=np.zeros((Nx,Ny))  # Create gradient to sit on Nx, Ny\n",
    "intens=np.zeros((Nx,Ny))\n",
    "q_alpha=np.zeros((Nx,Ny))\n",
    "expdist=np.zeros((2*Nx-1,2*Ny-1))\n",
    "dest=np.zeros(2)\n",
    "start=np.zeros(2)\n",
    "grad=np.zeros((2,Nx,Ny))\n",
    "vel=np.asarray([0.,0.])\n",
    "pos=np.asarray([0.,0.])\n",
    "#desdirx=ReBiSpline(x,y,grad[0,:,:],s=2)\n",
    "#desdiry=ReBiSpline(x,y,grad[1,:,:],s=2)\n",
    "intens[:]=0.\n",
    "\n",
    "#parameters\n",
    "t_track=50. # Track decay time - after 50 walkers ignore a trail, it decays by 1/e\n",
    "dt=0.1  # dt per time step, continuous markings every dt metres\n",
    "dvel=3 # desired walker velocity in m/s\n",
    "tau=5.\n",
    "# isigma=1./2. # trail potential\n",
    "isigma = 4/5\n",
    "conv_thresh=10.e-4\n",
    "precision=1.**2 #distance to target.\n",
    "eps=0.025 #random motion contribution, same for all\n",
    "max_steps = 25000 # maximum amount of steps taken by walker, must be greater than 500"
   ],
   "metadata": {
    "collapsed": false,
    "pycharm": {
     "name": "#%%\n"
    }
   }
  },
  {
   "cell_type": "code",
   "execution_count": 435,
   "metadata": {
    "pycharm": {
     "name": "#%%\n"
    }
   },
   "outputs": [],
   "source": [
    "class Slope:\n",
    "\n",
    "    prevDir = 0 # record of previous angle of direction\n",
    "\n",
    "    def __init__(self, posx, posy):\n",
    "        xdir = 0.8*g_slope[0][posx][posy] # horizontal slope component at pos, scaled\n",
    "        ydir = 0.8*g_slope[1][posx][posy] # vertical slope component at pos\n",
    "        self.xdir = xdir\n",
    "        self.ydir = ydir\n",
    "        self.mod = math.sqrt(xdir**2 + ydir**2)  # modulus of the gradient\n",
    "        #if self.xdir == 0: # 0 exception for gradient singnularity\n",
    "            # Assign angle of the gradient vector\n",
    "        #    if self.ydir > 0:\n",
    "        #        self.angle = math.pi/2\n",
    "       #     elif self.ydir <= 0:\n",
    "        #        self.angle = -math.pi/2\n",
    "        #else:\n",
    "        self.angle = np.arctan2(self.ydir,self.xdir)  # direction of the gradient vector  # np.arctan2() - gets result in correct quadriant\n",
    "        # end __init__()\n",
    "\n",
    "    def forbidden_angle(self, curDir):\n",
    "        # (?) Still include\n",
    "        # grad_max = math.tan(theta_max)\n",
    "        # if self.mod < grad_max:\n",
    "        #     # Ignore gradient processing if maximum gradient is not exceeded anywhere\n",
    "        #     return curDir\n",
    "        # else:\n",
    "        # curDir = persistence(curDir) # Apply the persistence (step 7)\n",
    "        # Calculate forbidden angle (alpha)\n",
    "        thetaSlope = math.atan(self.mod)  # angle of the slope relative from ground to the height\n",
    "        if ((self.mod or thetaSlope) == 0 ) or (thetaSlope < theta_max):\n",
    "            # print(\"Continue (CurDir = \" + str(curDir) + \") (grad = \" + str(self.angle) + \") slope = \",thetaSlope)\n",
    "            return curDir\n",
    "        alpha = (math.pi/2 - math.asin(math.tan(theta_max)/math.tan(thetaSlope)))  # Forbidden angle from the gradient value (*)\n",
    "\n",
    "        # Distinguish the deviation of the current direction from the closest forbidden angle and assign the new current direction accordingly\n",
    "        curDir = curDir % (2*np.pi) # convert to 2pi\n",
    "        # Difference between current direction and gradient, zipped around so it is always between +pi and -pi\n",
    "        deviation = (curDir-self.angle + 0.5*np.pi) % np.pi - 0.5*np.pi  # deviation between pi/2 and -pi/2, absolute value\n",
    "        # print('deviation = ', deviation)\n",
    "        if np.abs(deviation)>alpha:\n",
    "            # print('Final value unchanged \\n (curDir = ' + str(curDir) + \" grad = \" + str(self.angle) + \") (alpha =\" + str(alpha)+ \") slope = \",thetaSlope,\")\")\n",
    "            return curDir # Current direction remains unchanged as it is outside of the forbidden zone\n",
    "        if deviation < 0:\n",
    "            # print(\"push right (CurDir =\" + str(curDir) + \") (grad = \" + str(self.angle) + \") (alpha =\" + str(alpha)+ \") slope = \",thetaSlope,\")\")\n",
    "            curDir = curDir-deviation-alpha  # curDir - deviation = grad (or opposite), curDir not subjected to mod\n",
    "        else:\n",
    "            # print(\"push left (CurDir =\" + str(curDir) + \") (grad = \" + str(self.angle) + \") (alpha =\" + str(alpha)+ \") slope = \",thetaSlope,\")\")\n",
    "            curDir = curDir-deviation+alpha\n",
    "\n",
    "        # print(curDir)\n",
    "        # Convert back to [-pi,pi]\n",
    "        if (0 <= curDir <= np.pi) or (curDir > 2 * np.pi):\n",
    "            curDir = (curDir % (2*np.pi))\n",
    "            return curDir\n",
    "        elif (np.pi < curDir < 2 * np.pi) or (curDir < 0): # Place curDir within [-pi:0]\n",
    "            curDir = (curDir % (2*np.pi)) - 2 * np.pi\n",
    "            return curDir\n",
    "        # end forbidden_angle()\n",
    "\n",
    "    @staticmethod\n",
    "    def persistence(curDir):\n",
    "        global prevDir\n",
    "        # Apply persistence of direction formula (Gilks equation 6) - weighted average of the movement\n",
    "        gammax= (p_alpha*np.cos(prevDir) + (1 - p_alpha)* np.cos(curDir))\n",
    "        gammay= (p_alpha*np.sin(prevDir) + (1 - p_alpha)* np.sin(curDir))\n",
    "        gamma = np.arctan2(gammay,gammax)  # previous direction as estimation\n",
    "        return gamma"
   ]
  },
  {
   "cell_type": "code",
   "execution_count": 436,
   "outputs": [],
   "source": [
    "class ActiveWalkerModel:\n",
    "\n",
    "    @staticmethod\n",
    "    def init():\n",
    "        global z, g_max, g_nat, g_grad ,g_height, route, Base\n",
    "        ##Set up map\n",
    "        #Create blank arrays for map\n",
    "        z = np.zeros((Nx,Ny))\n",
    "        g_max=np.zeros((Nx,Ny)) # empty matrix\n",
    "        g_nat=np.zeros((Nx,Ny))\n",
    "        g_grad=np.zeros((Nx,Ny))\n",
    "        g_nat=np.maximum(np.ones_like(g_nat),np.float64(Base[:,:,0])) # red channel, np.ones_like() sets minimum value to 1\n",
    "        g_max=np.maximum(np.ones_like(g_max),np.float64(Base[:,:,1])) # green channel\n",
    "        # g_height=np.maximum(np.ones_like(g_grad),np.float64(Base[:,:,2])) # blue channel\n",
    "        # Assign the requested elevation data as the height matrix for the model\n",
    "        g_height = np.transpose(elevData.elev_interpolation())\n",
    "        # g_height=np.fromfunction(lambda i, j: 0.27*(i ), (Nx, Ny), dtype=float) # Set custom gradient\n",
    "        # g_height = cv2.GaussianBlur(g_height,(5,5),2) # Apply 2D convolution using a gaussian kernel\n",
    "        z=g_nat\n",
    "        # Trails (start and end point) For current Map, coordinates in metres, centre of image = (0,0)\n",
    "        # single possible path\n",
    "        # route=np.array([[10,9.75],[-10.,-9.75]])\n",
    "        # route=np.array([[24.,9.75],[-24.,-9.75]])\n",
    "        # commented out for single path\n",
    "\n",
    "        # route=np.array([[[-2.5,14.],[24.,-9.75]],\n",
    "        #                 [[-2.5,14.],[24.,2.5]],\n",
    "        #                 [[-2.5,14.],[-24.,9.75]],\n",
    "        #                 [[24.,-9.75],[-2.75,14.]],\n",
    "        #                 [[24.,-9.75],[-24.,9.75]],\n",
    "        #                 [[24.,2.5],[-2.75,14.]],\n",
    "        #                 [[24.,2.5],[-24.,9.75]],\n",
    "        #                 [[-24.,10.],[-2.75,14.]],\n",
    "        #                 [[-24.,10.],[24.,-9.75]],\n",
    "        #                 [[-24.,10.],[24.,2.5]]])\n",
    "\n",
    "    @staticmethod\n",
    "    def setup_weights():\n",
    "        global Weight\n",
    "        #Setup weight matrix, here trapezoid rule.\n",
    "        Weight[:,:]=1\n",
    "        Weight[1:-1,:]=2\n",
    "        Weight[:,1:-1]=2\n",
    "        Weight[1:-1,1:-1]=4\n",
    "        Weight*=0.25*((x[-1]-x[0])/(Nx-1))*((y[-1]-y[0])/(Ny-1))\n",
    "        #0.25*((x[-1]-x[0])/(N-1))*((y[-1]-y[0])/(N-1))\n",
    "        #np.exp(-np.sqrt((x[:,None]-x[N/2])**2+(y[None,:]-y[N/2])**2))*z[:,:]\n",
    "\n",
    "    @staticmethod\n",
    "    def setup_distance_matrix():\n",
    "        # Setup distance matrix\n",
    "        for xi in range(1,Nx+1):\n",
    "            for yi in range(1,Ny+1):\n",
    "\n",
    "                expdist[xi-1,yi-1]=np.exp(-isigma*np.sqrt((x[Nx-xi]-xmin)**2+(y[Ny-yi]-ymin)**2))\n",
    "                expdist[-xi,-yi]  = expdist[xi-1,yi-1]\n",
    "                expdist[-xi,yi-1] = expdist[xi-1,yi-1]\n",
    "                expdist[xi-1,-yi] = expdist[xi-1,yi-1]\n",
    "\n",
    "        # find index range > conv_thresh\n",
    "        subexpdist=expdist[(expdist>conv_thresh).any(1)]\n",
    "        subexpdist=subexpdist[:, np.any(subexpdist>conv_thresh, axis=0)]\n",
    "        #subexpdist=subexpdist[:,np.any(subexpdist>conv_thresh, axis=0)]\n",
    "        #expdist[subexpdist]=0.\n",
    "        #expdist\n",
    "        #subexpdist\n",
    "        return subexpdist\n",
    "\n",
    "    @staticmethod\n",
    "    def calc_tr_new():\n",
    "        global TrailPotential, z, Weight, subexpdist\n",
    "        TrailPotential[:,:]=sg.convolve2d(z[:,:]*Weight[:,:],subexpdist[:,:],mode=\"same\")  # 2D convolution\n",
    "\n",
    "    @staticmethod\n",
    "    def set_up_walker(route_id): # input route_id commented for one route\n",
    "        #set up walker\n",
    "        global vel,pos,track,intens,dest,start,route\n",
    "        #  commented out as input for a single route\n",
    "\n",
    "\n",
    "        # start_id = np.random.randint(0,len(elevData.entryMet))\n",
    "        # for i in range(len(elevData.entryMet)+10):#create end_id that is different from start_id\n",
    "        #     end_id = np.random.randint(0,len(elevData.entryMet))\n",
    "        #     if end_id == start_id:\n",
    "        #         continue\n",
    "        #     else:\n",
    "        #         break\n",
    "        start_id = route_id\n",
    "        end =  len(elevData.entryMet)\n",
    "\n",
    "        r = np.concatenate((np.array(range(route_id)),np.array(range(route_id+1,end))))\n",
    "        end_id = int(random.choice(r))\n",
    "        #start\n",
    "        start=np.array(elevData.entryMet[start_id])  # commented for simplicity\n",
    "        # start = np.array(elevData.entryMet[0])  # temporary one route\n",
    "        # dest = np.array(elevData.entryMet[1])  # temporary one route\n",
    "        #dest=(random.choice(ends))\n",
    "        dest=np.array(elevData.entryMet[end_id]) # commented for simplicity\n",
    "        vel=np.array([0.,0.])\n",
    "        pos=np.array(start)\n",
    "        #print (pos)\n",
    "        track=np.zeros((max_steps,2)) # Set up for 5000 steps maximum\n",
    "        #track[0,:]=pos[:]\n",
    "\n",
    "    @staticmethod\n",
    "    def setup_potentials():\n",
    "        #Calculate gradients eq 19\n",
    "        #Trail gradient\n",
    "        global grad,desdirx,desdiry,dest\n",
    "        grad=0.003*np.array(np.gradient(TrailPotential))\n",
    "        #grad=0.002*np.array(np.gradient(TrailPotential)) ORIGINAL\n",
    "\n",
    "        #print (dest)\n",
    "        #Destination potential\n",
    "        DestinationPotential=-np.sqrt((dest[0]-x[:,None])**2+(dest[1]-y[None,:])**2)\n",
    "        #Combine gradients\n",
    "        grad+=np.array(np.gradient(DestinationPotential)[:])\n",
    "        #Normalise\n",
    "        #grad[:,:,:]/=(np.sqrt(grad[0,:,:]**2+grad[1,:,:]**2))\n",
    "        desdirx=ReBiSpline(x,y,grad[0,:,:],s=2) # gradeint plus magnitude, Spline approximation over a rectangular mesh\n",
    "        desdiry=ReBiSpline(x,y,grad[1,:,:],s=2)\n",
    "        # angle array, arctans of gradient components, rebislpine\n",
    "        # continuous desired angles permissible\n",
    "            # 2pi periodic system aware\n",
    "\n",
    "    @staticmethod\n",
    "    def calc_path():\n",
    "        global pos,vel,intens,track,dest,dvel,tau, prevDir, desdirx, desdiry\n",
    "        iterator=0\n",
    "        hist=10\n",
    "        samp=10\n",
    "        avpos=np.zeros((2,hist))\n",
    "        #Setup While loop to run until either the walker reaches the destination or the walker has passed 2000 movement cycles to\n",
    "        #attempt to get there\n",
    "        while np.dot(pos-dest,pos-dest)>precision and iterator<max_steps: # takes 5000 steps maximum\n",
    "            #set the postiion of the walker on its first then subsequent cycles\n",
    "            #conditional logic saying to update the average position of the walker every 10 iterations\n",
    "            #if (iterator%samp==0): avpos[:,(i%hist)//samp]=pos[:] #ORIGINAL\n",
    "            if iterator%samp==0:\n",
    "                avpos[:,(iterator%(hist*samp))//samp]=pos[:]\n",
    "            #print((iterator%hist)//samp)\n",
    "            # print(avpos)\n",
    "            gradmagnitude=max(0.0001,np.sqrt(desdirx(pos[0],pos[1])**2+desdiry(pos[0],pos[1])**2))\n",
    "            xi=np.array(np.random.normal(0,1,2))\n",
    "            # Equation 6 in Helbing, differential in position, eliminised velocity decay components\n",
    "            # gradmagnitude makes sure it is normalised, desdir not normalised\n",
    "            # pos[0]+= dt *(dvel * desdirx(pos[0],pos[1])/gradmagnitude +np.sqrt(2.*eps/tau)*xi[0])  # x-position vector component\n",
    "            # pos[1]+= dt *(dvel * desdiry(pos[0],pos[1])/gradmagnitude +np.sqrt(2.*eps/tau)*xi[1])  # y-position vector component\n",
    "            # posGrad = math.degree(math.atan(pos[0]/pos[1]) # future position\n",
    "            curDir = math.atan2(desdiry(pos[0],pos[1]),desdirx(pos[0],pos[1])) # atan2 not to flip walker around\n",
    "            # pos0 = pos[0]\n",
    "            # pos1 = pos[1]\n",
    "            posx = int(((pos[0]-xmin)*(Nx-1))/(xmax-xmin)) # index value of position x\n",
    "            posy = int(((pos[1]-ymin)*(Ny-1))/(ymax-ymin)) # index value of position y\n",
    "            # print('x =' + str(posx) + '  y = ' + str(posy))\n",
    "            # print('Curdir = ',curDir,' Persistent = ', persistence(curDir))\n",
    "            if iterator>0: # Exception for first step\n",
    "                curDir = Slope.persistence(curDir) # Apply persistence of movement\n",
    "            curGradient = Slope(posx,posy)  # set the current gradient to the Slope class\n",
    "            curDir = curGradient.forbidden_angle(curDir) # apply forbidden angle rule\n",
    "            # print(\"CurDir at \" + str(i) + \"= \" + str(curDir))\n",
    "            pos[0] += dt * (dvel * math.cos(curDir))\n",
    "            pos[1] += dt * (dvel * math.sin(curDir))\n",
    "            # desdiry = math.sin(curDir)\n",
    "            # desdirx = math.cos(curDir)\n",
    "            # gradmagnitude=max(0.0001,np.sqrt(desdirx(pos[0],pos[1])**2+desdiry(pos[0],pos[1])**2))\n",
    "            # xi=np.array(np.random.normal(0,1,2))\n",
    "            # pos[0]+= dt *(dvel * desdirx(pos[0],pos[1])/gradmagnitude +np.sqrt(2.*eps/tau)*xi[0])  # x-position vector component\n",
    "            # pos[1]+= dt *(dvel * desdiry(pos[0],pos[1])/gradmagnitude +np.sqrt(2.*eps/tau)*xi[1])  # y-position vector component\n",
    "            prevDir = curDir # applying a back trace of the previous direction# Calculate current facing direction\n",
    "            # pos+=dt*vel\n",
    "            #vel[0]+=-1/tau*vel[0] + (dvel/tau)*desdirx(pos[0],pos[1])/gradmagnitude+np.sqrt(2.*eps/tau)*xi[0]   # Eqiation 5 in Helbing, differential in velocity\n",
    "            #vel[1]+=-1/tau*vel[1] + (dvel/tau)*desdiry(pos[0],pos[1])/gradmagnitude+np.sqrt(2.*eps/tau)*xi[1]\n",
    "            #Set the current position of the walker into the track array for the current iteration\n",
    "            track[iterator,:]=pos[:]\n",
    "            # (pos[0]-xmin)*(Nx-1)/(xmax-xmin)  - scale to resolution [Nx-1] * distance to left edge / width of whole field\n",
    "            try:\n",
    "                intens[int((pos[0]-xmin)*(Nx-1)/(xmax-xmin)),int((pos[1]-ymin)*(Ny-1)/(ymax-ymin))]+=1.\n",
    "            except IndexError:\n",
    "                print(\"Walker travelled out of bounds...\"\n",
    "                      \"\\nInstruction: Decrease the walker persistence, or decrease the maximum permissible angle\")\n",
    "                iterator = max_steps - 500\n",
    "                break\n",
    "            iterator+=1\n",
    "            if iterator%(hist*samp)==0:\n",
    "                meanpos=np.mean(avpos,axis=1)\n",
    "                if np.dot(pos-meanpos,pos-meanpos)<precision:\n",
    "                    print (\"Stalled progress \",pos,meanpos,vel, dest)\n",
    "                    break\n",
    "        if iterator==(max_steps - 500): print (\"Missed goal\\n\",dest,pos)\n",
    "        return iterator\n",
    "\n",
    "    @staticmethod\n",
    "    def update_ground():\n",
    "        # Calculate Q_alpha (strength of markings) eq 15\n",
    "        global q_alpha,intens,z,g_max,t_track,g_nat\n",
    "        q_alpha=intens*(1.-z/g_max)\n",
    "        # Time evolution of ground potential\n",
    "        #zdiff=(1./t_track)*(g_nat-z)+q_alpha\n",
    "        z+=(1./t_track)*(g_nat-z)+q_alpha\n",
    "        #cs = plt.contourf(X, Y, zdiff, cmap=cm.PuBu_r)\n",
    "        #cbar = plt.colorbar()\n",
    "        #plt.show\n",
    "        #z[140:160,45:75]\n",
    "\n",
    "    @staticmethod\n",
    "    def detect_local_maxima(arr):\n",
    "        # https://stackoverflow.com/questions/3684484/peak-detection-in-a-2d-array/3689710#3689710\n",
    "        \"\"\"\n",
    "        Takes an array and detects the troughs using the local maximum filter.\n",
    "        Returns a boolean mask of the troughs (i.e. 1 when\n",
    "        the pixel's value is the neighborhood maximum, 0 otherwise)\n",
    "        \"\"\"\n",
    "        # define an connected neighborhood\n",
    "        # http://www.scipy.org/doc/api_docs/SciPy.ndimage.morphology.html#generate_binary_structure\n",
    "        neighborhood = morphology.generate_binary_structure(len(arr.shape),2)\n",
    "        # apply the local minimum filter; all locations of minimum value\n",
    "        # in their neighborhood are set to 1\n",
    "        # http://www.scipy.org/doc/api_docs/SciPy.ndimage.filters.html#minimum_filter\n",
    "        local_max = (filters.maximum_filter(arr, footprint=neighborhood)==arr)\n",
    "        # local_min is a mask that contains the peaks we are\n",
    "        # looking for, but also the background.\n",
    "        # In order to isolate the peaks we must remove the background from the mask.\n",
    "        #\n",
    "        # we create the mask of the background\n",
    "        background = (arr==0)\n",
    "        #\n",
    "        # a little technicality: we must erode the background in order to\n",
    "        # successfully subtract it from local_min, otherwise a line will\n",
    "        # appear along the background border (artifact of the local minimum filter)\n",
    "        # http://www.scipy.org/doc/api_docs/SciPy.ndimage.morphology.html#binary_erosion\n",
    "        eroded_background = morphology.binary_erosion(\n",
    "            background, structure=neighborhood, border_value=1)\n",
    "        #\n",
    "        # we obtain the final mask, containing only peaks,\n",
    "        # by removing the background from the local_min mask\n",
    "        detected_maxima = local_max ^ eroded_background\n",
    "        return np.where(detected_maxima)"
   ],
   "metadata": {
    "collapsed": false,
    "pycharm": {
     "name": "#%%\n"
    }
   }
  },
  {
   "cell_type": "code",
   "execution_count": 437,
   "metadata": {
    "pycharm": {
     "name": "#%%\n"
    }
   },
   "outputs": [],
   "source": [
    "class Plot:\n",
    "    @staticmethod\n",
    "    def path_elev():\n",
    "        # plt.contourf(Y, X, g_height, levels=np.linspace(g_height.min(),g_height.max(),1000),cmap='PuBu_r')\n",
    "        plt.contour(Y, X, g_height, levels=np.linspace(np.amin(g_height),np.amax(g_height),16),inline=1)\n",
    "        plt.colorbar()\n",
    "        plt.scatter(track[0:max_steps-1,1],track[0:max_steps-1,0],1,c='y')\n",
    "        plt.show(block=False)\n",
    "\n",
    "    @staticmethod\n",
    "    def path():\n",
    "        # plt.contourf(X, Y, z, levels=np.linspace(z.min(),z.max(),1000),cmap='PuBu_r')\n",
    "        plt.contourf(Y, X, z, levels=np.linspace(z.min(),z.max(),1000),cmap='PuBu_r')\n",
    "        plt.colorbar()\n",
    "        # plt.scatter(track[0:1999,0],track[0:1999,1],1,c='y')\n",
    "        plt.show(block=False)\n",
    "\n",
    "    @staticmethod\n",
    "    def directions():\n",
    "        #Plot the direction\n",
    "        scgrad=np.arctan2(grad[1],grad[0])\n",
    "        levels = np.linspace(-np.pi, np.pi, 360)\n",
    "        cs = plt.contourf(Y, X,scgrad, levels=levels,cmap='hsv')\n",
    "        # cbar = plt.colorbar()\n",
    "        plt.colorbar()\n",
    "        # plt.scatter(track[0:1999,1],track[0:1999,0])\n",
    "        #plt.scatter(start, dest)\n",
    "        print(start)\n",
    "        print(dest)\n",
    "        plt.show()\n",
    "\n",
    "    @staticmethod\n",
    "    def potentials():\n",
    "        global dest\n",
    "        TotPot = np.zeros((Nx,Ny))\n",
    "        TotPot =- np.sqrt((dest[0]-x[:,None])**2+(dest[1]-y[None,:])**2)\n",
    "        TotPot += 0.003*TrailPotential\n",
    "        maxima=ActiveWalkerModel.detect_local_maxima(TotPot)\n",
    "        cs = plt.contourf(Y, X, TotPot, levels=np.linspace(TotPot.min(),TotPot.max(),1000),cmap='PuBu_r')\n",
    "        # cbar = plt.colorbar()\n",
    "        plt.colorbar()\n",
    "        print(maxima)\n",
    "        plt.scatter(y[maxima[1]],x[maxima[0]])\n",
    "        plt.show()\n",
    "        # commit test"
   ]
  },
  {
   "cell_type": "code",
   "execution_count": 438,
   "outputs": [
    {
     "name": "stdout",
     "output_type": "stream",
     "text": [
      "Elevation found for Base Test\n",
      "[0, 0]\n",
      "request skipped\n"
     ]
    }
   ],
   "source": [
    "elevData = elev.Elevation(areaName, locSelect[0], locSelect[1], areaWidth, entrySelect)  # Extract the elevation data at selected location\n",
    "elevValue = elevData.elev_interpolation()  # Store the interpolated elevation values"
   ],
   "metadata": {
    "collapsed": false,
    "pycharm": {
     "name": "#%% SETUP\n"
    }
   }
  },
  {
   "cell_type": "code",
   "execution_count": 439,
   "outputs": [],
   "source": [
    "# imflipped = np.flip(elevData.elevationValues,0)\n",
    "# plt.imshow(imflipped) # DEBUGGING\n",
    "# plt.colorbar()"
   ],
   "metadata": {
    "collapsed": false,
    "pycharm": {
     "name": "#%%\n"
    }
   }
  },
  {
   "cell_type": "code",
   "execution_count": 440,
   "outputs": [],
   "source": [
    "# imflipped = np.flip(imflipped,1)\n",
    "# plt.imshow(imflipped) # DEBUGGING\n",
    "# plt.colorbar()"
   ],
   "metadata": {
    "collapsed": false,
    "pycharm": {
     "name": "#%%\n"
    }
   }
  },
  {
   "cell_type": "code",
   "execution_count": 441,
   "outputs": [],
   "source": [
    "# imflipped = np.transpose(elevValue)\n",
    "# plt.imshow(imflipped) # DEBUGGING\n",
    "# plt.colorbar()"
   ],
   "metadata": {
    "collapsed": false,
    "pycharm": {
     "name": "#%%\n"
    }
   }
  },
  {
   "cell_type": "code",
   "execution_count": 442,
   "outputs": [],
   "source": [
    "# imflipped = np.flip(elevData.elevationValues,0)\n",
    "# plt.contourf(imflipped)# DEBUGGING\n",
    "# plt.colorbar()"
   ],
   "metadata": {
    "collapsed": false,
    "pycharm": {
     "name": "#%%\n"
    }
   }
  },
  {
   "cell_type": "code",
   "execution_count": 443,
   "outputs": [
    {
     "data": {
      "text/plain": "0.1019045000002734"
     },
     "execution_count": 443,
     "metadata": {},
     "output_type": "execute_result"
    },
    {
     "data": {
      "text/plain": "<Figure size 432x288 with 2 Axes>",
      "image/png": "[encoded data removed]"
     },
     "metadata": {
      "needs_background": "light"
     },
     "output_type": "display_data"
    }
   ],
   "source": [
    "# LATER COMBINE TOGETHER\n",
    "# elevValue = np.flip(elevValue,0)\n",
    "elevValue = np.transpose(elevValue)\n",
    "# plt.imshow(elevValue)\n",
    "plt.contourf(elevValue)\n",
    "plt.colorbar()\n",
    "ActiveWalkerModel.init()\n",
    "ActiveWalkerModel.setup_weights()\n",
    "p_alpha = p_alpha/2 # scaling factor\n",
    "subexpdist = ActiveWalkerModel.setup_distance_matrix()\n",
    "# subexpdist.shape\n",
    "timeit.timeit(ActiveWalkerModel.calc_tr_new,number=1)"
   ],
   "metadata": {
    "collapsed": false,
    "pycharm": {
     "name": "#%%\n"
    }
   }
  },
  {
   "cell_type": "code",
   "execution_count": 444,
   "metadata": {
    "pycharm": {
     "name": "#%% RUN SIMULATION\n"
    }
   },
   "outputs": [
    {
     "name": "stdout",
     "output_type": "stream",
     "text": [
      "0 [-110.57438856    0.        ]  ->  [110.57438856   0.        ] [109.77057374  -0.11354849] 748\n",
      "0 [-110.57438856    0.        ]  ->  [110.57438856   0.        ] [109.77057374  -0.11354849] 748\n",
      "1 [-110.57438856    0.        ]  ->  [110.57438856   0.        ] [ 1.09770574e+02 -1.50623264e-12] 748\n",
      "1 [-110.57438856    0.        ]  ->  [110.57438856   0.        ] [ 1.09770574e+02 -1.50623264e-12] 748\n",
      "2 [-110.57438856    0.        ]  ->  [110.57438856   0.        ] [ 1.09770574e+02 -3.49410778e-12] 748\n",
      "2 [-110.57438856    0.        ]  ->  [110.57438856   0.        ] [ 1.09770574e+02 -3.49410778e-12] 748\n",
      "3 [-110.57438856    0.        ]  ->  [110.57438856   0.        ] [ 1.09770574e+02 -2.58159466e-12] 748\n",
      "3 [-110.57438856    0.        ]  ->  [110.57438856   0.        ] [ 1.09770574e+02 -2.58159466e-12] 748\n",
      "4 [-110.57438856    0.        ]  ->  [110.57438856   0.        ] [ 1.09770574e+02 -2.99626296e-12] 748\n",
      "4 [-110.57438856    0.        ]  ->  [110.57438856   0.        ] [ 1.09770574e+02 -2.99626296e-12] 748\n",
      "5 [-110.57438856    0.        ]  ->  [110.57438856   0.        ] [ 1.09770574e+02 -3.42235962e-12] 748\n",
      "5 [-110.57438856    0.        ]  ->  [110.57438856   0.        ] [ 1.09770574e+02 -3.42235962e-12] 748\n",
      "6 [-110.57438856    0.        ]  ->  [110.57438856   0.        ] [ 1.09770574e+02 -1.24908417e-12] 748\n",
      "6 [-110.57438856    0.        ]  ->  [110.57438856   0.        ] [ 1.09770574e+02 -1.24908417e-12] 748\n",
      "7 [-110.57438856    0.        ]  ->  [110.57438856   0.        ] [ 1.09770574e+02 -2.30795938e-12] 748\n",
      "7 [-110.57438856    0.        ]  ->  [110.57438856   0.        ] [ 1.09770574e+02 -2.30795938e-12] 748\n",
      "8 [-110.57438856    0.        ]  ->  [110.57438856   0.        ] [ 1.09770574e+02 -3.98180100e-12] 748\n",
      "8 [-110.57438856    0.        ]  ->  [110.57438856   0.        ] [ 1.09770574e+02 -3.98180100e-12] 748\n",
      "9 [-110.57438856    0.        ]  ->  [110.57438856   0.        ] [ 1.09770574e+02 -2.17152685e-12] 748\n",
      "9 [-110.57438856    0.        ]  ->  [110.57438856   0.        ] [ 1.09770574e+02 -2.17152685e-12] 748\n",
      "10 [-110.57438856    0.        ]  ->  [110.57438856   0.        ] [ 1.09770574e+02 -1.13897086e-12] 748\n",
      "10 [-110.57438856    0.        ]  ->  [110.57438856   0.        ] [ 1.09770574e+02 -1.13897086e-12] 748\n",
      "11 [-110.57438856    0.        ]  ->  [110.57438856   0.        ] [ 1.09770574e+02 -3.32239791e-12] 748\n",
      "11 [-110.57438856    0.        ]  ->  [110.57438856   0.        ] [ 1.09770574e+02 -3.32239791e-12] 748\n",
      "12 [-110.57438856    0.        ]  ->  [110.57438856   0.        ] [ 1.09770574e+02 -2.41313219e-12] 748\n",
      "12 [-110.57438856    0.        ]  ->  [110.57438856   0.        ] [ 1.09770574e+02 -2.41313219e-12] 748\n",
      "13 [-110.57438856    0.        ]  ->  [110.57438856   0.        ] [ 1.09770574e+02 -2.75322820e-12] 748\n",
      "13 [-110.57438856    0.        ]  ->  [110.57438856   0.        ] [ 1.09770574e+02 -2.75322820e-12] 748\n",
      "14 [-110.57438856    0.        ]  ->  [110.57438856   0.        ] [ 1.09770574e+02 -2.41771186e-12] 748\n",
      "14 [-110.57438856    0.        ]  ->  [110.57438856   0.        ] [ 1.09770574e+02 -2.41771186e-12] 748\n",
      "15 [-110.57438856    0.        ]  ->  [110.57438856   0.        ] [109.77057374  -0.11354849] 748\n",
      "15 [-110.57438856    0.        ]  ->  [110.57438856   0.        ] [109.77057374  -0.11354849] 748\n",
      "16 [-110.57438856    0.        ]  ->  [110.57438856   0.        ] [ 1.09770574e+02 -2.23492058e-12] 748\n",
      "16 [-110.57438856    0.        ]  ->  [110.57438856   0.        ] [ 1.09770574e+02 -2.23492058e-12] 748\n",
      "17 [-110.57438856    0.        ]  ->  [110.57438856   0.        ] [109.77057374  -0.11354849] 748\n",
      "17 [-110.57438856    0.        ]  ->  [110.57438856   0.        ] [109.77057374  -0.11354849] 748\n",
      "18 [-110.57438856    0.        ]  ->  [110.57438856   0.        ] [ 1.09770574e+02 -3.74492104e-14] 748\n",
      "18 [-110.57438856    0.        ]  ->  [110.57438856   0.        ] [ 1.09770574e+02 -3.74492104e-14] 748\n",
      "19 [-110.57438856    0.        ]  ->  [110.57438856   0.        ] [ 1.09770574e+02 -1.46333640e-12] 748\n",
      "19 [-110.57438856    0.        ]  ->  [110.57438856   0.        ] [ 1.09770574e+02 -1.46333640e-12] 748\n",
      "last [-110.57438856    0.        ]  ->  [110.57438856   0.        ] [ 1.09770574e+02 -1.46333640e-12] 748\n",
      "end\n"
     ]
    }
   ],
   "source": [
    "g_slope = np.gradient(g_height,1)\n",
    "grady = g_slope[0] # vertical slope compontent\n",
    "gradx = g_slope[1] # horizontal slope component\n",
    "for i in range(0,20):\n",
    "    ActiveWalkerModel.calc_tr_new()\n",
    "    intens[:]=0.\n",
    "    for j in range(0,2):\n",
    "        ActiveWalkerModel.set_up_walker(1) # np.random.randint(0,len(elevData.entryMet))\n",
    "        ActiveWalkerModel.setup_potentials()\n",
    "        # ActiveWalkerModel.calc_path()\n",
    "        print(i, start,\" -> \", dest, pos, ActiveWalkerModel.calc_path())\n",
    "    ActiveWalkerModel.update_ground()\n",
    "    #plot_path()\n",
    "# Last loop\n",
    "ActiveWalkerModel.set_up_walker(1)\n",
    "ActiveWalkerModel.setup_potentials()\n",
    "# ActiveWalkerModel.calc_path()\n",
    "print('last', start,\" -> \", dest, pos, ActiveWalkerModel.calc_path())\n",
    "ActiveWalkerModel.update_ground()\n",
    "\n",
    "print(\"end\")"
   ]
  },
  {
   "cell_type": "code",
   "execution_count": 445,
   "outputs": [
    {
     "data": {
      "text/plain": "<Figure size 432x432 with 1 Axes>",
      "image/png": "[encoded data removed]"
     },
     "metadata": {
      "needs_background": "light"
     },
     "output_type": "display_data"
    },
    {
     "name": "stdout",
     "output_type": "stream",
     "text": [
      "Entry = [110.57438856   0.        ]\n",
      " Dest[-110.57438856    0.        ]\n",
      "[-110.57438856    0.        ]\n",
      "[110.57438856   0.        ]\n",
      "(array([310], dtype=int64), array([199], dtype=int64))\n"
     ]
    },
    {
     "name": "stderr",
     "output_type": "stream",
     "text": [
      "<ipython-input-437-ce73d99f3790>:5: UserWarning: The following kwargs were not used by contour: 'inline'\n",
      "  plt.contour(Y, X, g_height, levels=np.linspace(np.amin(g_height),np.amax(g_height),16),inline=1)\n"
     ]
    },
    {
     "data": {
      "text/plain": "<Figure size 432x288 with 2 Axes>",
      "image/png": "[encoded data removed]"
     },
     "metadata": {
      "needs_background": "light"
     },
     "output_type": "display_data"
    },
    {
     "data": {
      "text/plain": "<Figure size 432x288 with 2 Axes>",
      "image/png": "[encoded data removed]"
     },
     "metadata": {
      "needs_background": "light"
     },
     "output_type": "display_data"
    },
    {
     "data": {
      "text/plain": "<Figure size 432x288 with 2 Axes>",
      "image/png": "[encoded data removed]"
     },
     "metadata": {
      "needs_background": "light"
     },
     "output_type": "display_data"
    },
    {
     "data": {
      "text/plain": "<Figure size 432x288 with 2 Axes>",
      "image/png": "[encoded data removed]"
     },
     "metadata": {
      "needs_background": "light"
     },
     "output_type": "display_data"
    }
   ],
   "source": [
    "elevData.map_image_get()\n",
    "print(\"Entry = \" + str(elevData.entryMet[0]) + '\\n Dest'+ str(elevData.entryMet[1]))\n",
    "\n",
    "Plot.path_elev()\n",
    "Plot.path()\n",
    "Plot.directions()\n",
    "Plot.potentials()"
   ],
   "metadata": {
    "collapsed": false,
    "pycharm": {
     "name": "#%% Plot results images\n"
    }
   }
  },
  {
   "cell_type": "code",
   "execution_count": 446,
   "metadata": {
    "pycharm": {
     "name": "#%% Miscellanious (?)\n"
    }
   },
   "outputs": [
    {
     "name": "stdout",
     "output_type": "stream",
     "text": [
      "finished\n"
     ]
    }
   ],
   "source": [
    "print('finished')\n",
    "# for i in range(0,Nx):\n",
    "#     for j in range(0,Ny):\n",
    "#         if (np.isnan(z[i,j])):\n",
    "#             print (i,j,ActiveWalkerModel.g_max[i,j],Base[i,j,0])\n",
    "\n",
    "\n",
    "#Integrate z, trapezoid rule eq 20\n",
    "# def calc_tr():\n",
    "#    global xi,yi,TrailPotential,expdist,z,Weight,Nx,Ny\n",
    "#    for xi in range(0,Nx):\n",
    "#        for yi in range(0,Ny):\n",
    "#            TrailPotential[xi,yi]=np.sum(expdist[Nx-1-xi:2*Nx-1-xi,Ny-1-yi:2*Ny-1-yi]*z[:,:]*Weight[:,:])\n",
    "\n",
    "# Test additional heightS\n",
    "\n",
    "\n",
    "# Defines a Plot to show the smoothing of the supplied map to represent the respective potentials of the ground, the larger\n",
    "# the potentials, the more attractive the ground is to the walker\n",
    "\n",
    "# ???\n",
    "# cs = plt.contourf(X, Y, TrailPotential, levels=np.linspace(TrailPotential.min(),TrailPotential.max(),1000),cmap='PuBu_r')\n",
    "# cbar = plt.colorbar()\n",
    "#\n",
    "# plt.scatter(track[0:1999,0],track[0:1999,1])\n",
    "# plt.show()\n",
    "#\n",
    "#Integrate z, trapezoid rule eq 20\n",
    "# def calc_tr():\n",
    "#    global xi,yi,TrailPotential,expdist,z,Weight,Nx,Ny\n",
    "#    for xi in range(0,Nx):\n",
    "#        for yi in range(0,Ny):\n",
    "#            TrailPotential[xi,yi]=np.sum(expdist[Nx-1-xi:2*Nx-1-xi,Ny-1-yi:2*Ny-1-yi]*z[:,:]*Weight[:,:])\n",
    " #%%\n",
    "\n",
    "# #Plot the direction\n",
    "# scgrad=np.arctan2(grad[1],grad[0])\n",
    "# levels = np.linspace(-np.pi, np.pi, 360)\n",
    "# cs = plt.contourf(X, Y,scgrad, levels=levels,cmap='hsv')\n",
    "\n",
    "# cbar = plt.colorbar()\n",
    "# # ERROR # plt.scatter(track[0:1999,0],track[0:1999,1])\n",
    "# #plt.scatter(start, dest)\n",
    "# print(start)\n",
    "# print(dest)\n",
    "# plt.show()\n",
    "#\n"
   ]
  }
 ],
 "metadata": {
  "kernelspec": {
   "display_name": "Python 3",
   "language": "python",
   "name": "python3"
  },
  "language_info": {
   "codemirror_mode": {
    "name": "ipython",
    "version": 3
   },
   "file_extension": ".py",
   "mimetype": "text/x-python",
   "name": "python",
   "nbconvert_exporter": "python",
   "pygments_lexer": "ipython3",
   "version": "3.7.9"
  }
 },
 "nbformat": 4,
 "nbformat_minor": 1
}