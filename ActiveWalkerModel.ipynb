{
 "cells": [
  {
   "cell_type": "code",
   "execution_count": 1,
   "metadata": {
    "pycharm": {
     "name": "#%%#Authors: Eli Gumble, Peter Brommer, Harry Brown\n"
    }
   },
   "outputs": [],
   "source": [
    "#Initialisation\n",
    "import matplotlib.pyplot as plt\n",
    "import numpy as np\n",
    "from scipy.integrate import simps\n",
    "from scipy import signal as sg\n",
    "from scipy.interpolate import RectBivariateSpline as ReBiSpline\n",
    "from numpy import ma\n",
    "from matplotlib import colors, ticker, cm\n",
    "from random import choice\n",
    "import scipy.ndimage.filters as filters\n",
    "import scipy.ndimage.morphology as morphology\n",
    "import timeit\n",
    "import math\n",
    "import cv2\n",
    "from PIL import Image\n",
    "import elevation_import as elev\n",
    "\n",
    "%matplotlib inline"
   ]
  },
  {
   "cell_type": "code",
   "execution_count": 2,
   "outputs": [
    {
     "name": "stdout",
     "output_type": "stream",
     "text": [
      "Elevation found for Rhyd Ddu Path, Snowdon, Wales\n",
      "[53.061473, -4.085126]\n",
      "request skipped\n"
     ]
    }
   ],
   "source": [
    "locSelect = [53.061473, -4.085126]\n",
    "areaWidth = 420\n",
    "areaName = 'Rhyd Ddu Path, Snowdon, Wales'\n",
    "\n",
    "testElev = elev.Elevation(areaName, locSelect[0], locSelect[1], areaWidth)\n",
    "elevValue = testElev.elev_interpolation()\n",
    "#\n",
    "#\n",
    "# plt.imshow(elevValue)"
   ],
   "metadata": {
    "collapsed": false,
    "pycharm": {
     "name": "#%% Check if import works\n"
    }
   }
  },
  {
   "cell_type": "code",
   "execution_count": 3,
   "outputs": [],
   "source": [
    "# Base = np.array(np.zeros((areaWidth,areaWidth,3)))\n",
    "#\n",
    "# plt.imshow(Base)"
   ],
   "metadata": {
    "collapsed": false,
    "pycharm": {
     "name": "#%% Temporary (?) artificial image\n"
    }
   }
  },
  {
   "cell_type": "code",
   "execution_count": 4,
   "metadata": {
    "pycharm": {
     "name": "#%%\n"
    }
   },
   "outputs": [],
   "source": [
    "# TODO: image input?\n",
    "# Read grids from image\n",
    "im = Image.open(\"images/flat.bmp\")\n",
    "Base = np.array(im)"
   ]
  },
  {
   "cell_type": "code",
   "execution_count": 5,
   "metadata": {
    "pycharm": {
     "name": "#%%\n"
    }
   },
   "outputs": [],
   "source": [
    "# Define internal quantities and variables\n",
    "scale = 1  # m per pixel\n",
    "Nx = Base[:,0,0].size  # N appears to be resolution\n",
    "Ny = Base[0,:,0].size  # Nx,Ny is size, Nz is RGB level\n",
    "xmin=-scale*0.5*(Nx-1)\n",
    "xmax=scale*0.5*(Nx-1)\n",
    "ymin=-scale*0.5*(Ny-1)\n",
    "ymax=scale*0.5*(Ny-1)\n",
    "x = np.linspace(xmin, xmax, Nx) # This is defining the axes and full space\n",
    "y = np.linspace(ymin, ymax, Ny)\n",
    "Y, X= np.meshgrid(y, x)\n",
    "TrailPotential = np.zeros((Nx,Ny))\n",
    "DestinationPotential=np.zeros((Nx,Ny))\n",
    "Weight=np.zeros((Nx,Ny))  # Create gradient to sit on Nx, Ny\n",
    "intens=np.zeros((Nx,Ny))\n",
    "q_alpha=np.zeros((Nx,Ny))\n",
    "expdist=np.zeros((2*Nx-1,2*Ny-1))\n",
    "dest=np.zeros((2))\n",
    "start=np.zeros((2))\n",
    "grad=np.zeros((2,Nx,Ny))\n",
    "vel=np.asarray([0.,0.])\n",
    "pos=np.asarray([0.,0.])\n",
    "#desdirx=ReBiSpline(x,y,grad[0,:,:],s=2)\n",
    "#desdiry=ReBiSpline(x,y,grad[1,:,:],s=2)\n",
    "intens[:]=0.\n",
    "\n",
    "#print(route)\n",
    "#parameters\n",
    "t_track=50. # Track decay time - after 50 walkers ignore a trail, it decays by 1/e\n",
    "dt=0.1  # dt per time step, continuous markings every dt metres\n",
    "dvel=3. # desired walker velocity in m/s\n",
    "tau=5.\n",
    "isigma=1./2. # trail potential\n",
    "conv_thresh=10.e-4\n",
    "precision=1.**2 #distance to target.\n",
    "eps=0.025 #random motion contribution, same for all\n",
    "prevDir = 0 # record of previous angle of direction\n",
    "p_alpha = 0.3 # value of persistence\n",
    "theta_max = .2  # maximum permissible ascent angle (30 degrees)"
   ]
  },
  {
   "cell_type": "code",
   "execution_count": 6,
   "metadata": {
    "pycharm": {
     "name": "#%%\n"
    }
   },
   "outputs": [],
   "source": [
    "class Slope:\n",
    "    def __init__(self, posx, posy):\n",
    "        xdir = 0.8*g_slope[0][posx][posy] # horizontal slope component at pos, scaled\n",
    "        ydir = 0.8*g_slope[1][posx][posy] # vertical slope component at pos\n",
    "        self.xdir = xdir\n",
    "        self.ydir = ydir\n",
    "        self.mod = math.sqrt(xdir**2 + ydir**2)  # modulus of the gradient\n",
    "        #if self.xdir == 0: # 0 exception for gradient singnularity\n",
    "            # Assign angle of the gradient vector\n",
    "        #    if self.ydir > 0:\n",
    "        #        self.angle = math.pi/2\n",
    "       #     elif self.ydir <= 0:\n",
    "        #        self.angle = -math.pi/2\n",
    "        #else:\n",
    "        self.angle = np.arctan2(self.ydir,self.xdir)  # direction of the gradient vector  # np.arctan2() - gets result in correct quadriant\n",
    "        # end __init__()\n",
    "\n",
    "    def forbidden_angle(self, curDir):\n",
    "\n",
    "\n",
    "        # (?) Still include\n",
    "        # grad_max = math.tan(theta_max)\n",
    "        # if self.mod < grad_max:\n",
    "        #     # Ignore gradient processing if maximum gradient is not exceeded anywhere\n",
    "        #     return curDir\n",
    "        # else:\n",
    "        # curDir = persistence(curDir) # Apply the persistence (step 7)\n",
    "        # Calculate forbidden angle (alpha)\n",
    "        thetaSlope = math.atan(self.mod)  # angle of the slope relative from ground to the height\n",
    "        if ((self.mod or thetaSlope) == 0 ) or (thetaSlope < theta_max):\n",
    "            # print(\"Continue (CurDir = \" + str(curDir) + \") (grad = \" + str(self.angle) + \") slope = \",thetaSlope)\n",
    "            return curDir\n",
    "        alpha = (math.pi/2 - math.asin(math.tan(theta_max)/math.tan(thetaSlope)))  # Forbidden angle from the gradient value (*)\n",
    "\n",
    "        # Distinguish the deviation of the current direction from the closest forbidden angle and assign the new current direction accordingly\n",
    "        curDir = curDir % (2*np.pi) # convert to 2pi\n",
    "        # Difference between current direction and gradient, zipped around so it is always between +pi and -pi\n",
    "        deviation = (curDir-self.angle + 0.5*np.pi) % np.pi - 0.5*np.pi  # deviation between pi/2 and -pi/2, absolute value\n",
    "        # print('deviation = ', deviation)\n",
    "        if np.abs(deviation)>alpha:\n",
    "            # print('Final value unchanged \\n (curDir = ' + str(curDir) + \" grad = \" + str(self.angle) + \") (alpha =\" + str(alpha)+ \") slope = \",thetaSlope,\")\")\n",
    "            return curDir # Current direction remains unchanged as it is outside of the forbidden zone\n",
    "        if deviation < 0:\n",
    "            # print(\"push right (CurDir =\" + str(curDir) + \") (grad = \" + str(self.angle) + \") (alpha =\" + str(alpha)+ \") slope = \",thetaSlope,\")\")\n",
    "            curDir = curDir-deviation-alpha  # curDir - deviation = grad (or opposite), curDir not subjected to mod\n",
    "        else:\n",
    "            # print(\"push left (CurDir =\" + str(curDir) + \") (grad = \" + str(self.angle) + \") (alpha =\" + str(alpha)+ \") slope = \",thetaSlope,\")\")\n",
    "            curDir = curDir-deviation+alpha\n",
    "\n",
    "        print(curDir)\n",
    "        # Convert back to [-pi,pi]\n",
    "        if (0 <= curDir <= np.pi) or (curDir > 2 * np.pi):\n",
    "            curDir = (curDir % (2*np.pi))\n",
    "            return curDir\n",
    "        elif (np.pi < curDir < 2 * np.pi) or (curDir < 0): # Place curDir within [-pi:0]\n",
    "            curDir = (curDir % (2*np.pi)) - 2 * np.pi\n",
    "            return curDir\n",
    "        # end forbidden_angle()"
   ]
  },
  {
   "cell_type": "code",
   "execution_count": 7,
   "outputs": [],
   "source": [
    "##Set up map\n",
    "#Create blank arrays for map\n",
    "z = np.zeros((Nx,Ny))\n",
    "g_max=np.zeros((Nx,Ny)) # empty matrix\n",
    "g_nat=np.zeros((Nx,Ny))\n",
    "g_grad=np.zeros((Nx,Ny))\n",
    "\n",
    "g_nat=np.maximum(np.ones_like(g_nat),np.float64(Base[:,:,0])) # red channel, np.ones_like() sets minimum value to 1\n",
    "g_max=np.maximum(np.ones_like(g_max),np.float64(Base[:,:,1])) # green channel\n",
    "# g_height=np.maximum(np.ones_like(g_grad),np.float64(Base[:,:,2])) # blue channel\n",
    "g_height = elevValue\n",
    "# g_height=np.fromfunction(lambda i, j: 0.27*(i ), (Nx, Ny), dtype=float) # Set custom gradient\n",
    "g_height = cv2.GaussianBlur(g_height,(5,5),2) # Apply 2D convolution using a gaussian kernel\n",
    "z=g_nat\n",
    "\n",
    "# Trails (start and end point) For current Map, coordinates in metres, centre of image = (0,0)\n",
    "\n",
    "# single possible path\n",
    "route=np.array([[10,9.75],[-10.,-9.75]])\n",
    "# route=np.array([[24.,9.75],[-24.,-9.75]])\n",
    "\n",
    "# commented out for single path\n",
    "\n",
    "# route=np.array([[[-2.5,14.],[24.,-9.75]],\n",
    "#                 [[-2.5,14.],[24.,2.5]],\n",
    "#                 [[-2.5,14.],[-24.,9.75]],\n",
    "#                 [[24.,-9.75],[-2.75,14.]],\n",
    "#                 [[24.,-9.75],[-24.,9.75]],\n",
    "#                 [[24.,2.5],[-2.75,14.]],\n",
    "#                 [[24.,2.5],[-24.,9.75]],\n",
    "#                 [[-24.,10.],[-2.75,14.]],\n",
    "#                 [[-24.,10.],[24.,-9.75]],\n",
    "#                 [[-24.,10.],[24.,2.5]]])\n"
   ],
   "metadata": {
    "collapsed": false,
    "pycharm": {
     "name": "#%%\n"
    }
   }
  },
  {
   "cell_type": "code",
   "execution_count": 8,
   "metadata": {
    "pycharm": {
     "name": "#%%\n"
    }
   },
   "outputs": [],
   "source": [
    "#Setup weight matrix, here trapezoid rule.\n",
    "Weight[:,:]=1\n",
    "Weight[1:-1,:]=2\n",
    "Weight[:,1:-1]=2\n",
    "Weight[1:-1,1:-1]=4\n",
    "Weight*=0.25*((x[-1]-x[0])/(Nx-1))*((y[-1]-y[0])/(Ny-1))\n",
    "#0.25*((x[-1]-x[0])/(N-1))*((y[-1]-y[0])/(N-1))\n",
    "#np.exp(-np.sqrt((x[:,None]-x[N/2])**2+(y[None,:]-y[N/2])**2))*z[:,:]"
   ]
  },
  {
   "cell_type": "code",
   "execution_count": 9,
   "metadata": {
    "pycharm": {
     "name": "#%%\n"
    }
   },
   "outputs": [
    {
     "data": {
      "text/plain": "(27, 27)"
     },
     "execution_count": 9,
     "metadata": {},
     "output_type": "execute_result"
    }
   ],
   "source": [
    "# Setup distance matrix\n",
    "for xi in range(1,Nx+1):\n",
    "    for yi in range(1,Ny+1):\n",
    "\n",
    "        expdist[xi-1,yi-1]=np.exp(-isigma*np.sqrt((x[Nx-xi]-xmin)**2+(y[Ny-yi]-ymin)**2))\n",
    "        expdist[-xi,-yi]  = expdist[xi-1,yi-1]\n",
    "        expdist[-xi,yi-1] = expdist[xi-1,yi-1]\n",
    "        expdist[xi-1,-yi] = expdist[xi-1,yi-1]\n",
    "\n",
    "# find index range > conv_thresh\n",
    "subexpdist=expdist[(expdist>conv_thresh).any(1)]\n",
    "subexpdist=subexpdist[:, np.any(subexpdist>conv_thresh, axis=0)]\n",
    "#subexpdist=subexpdist[:,np.any(subexpdist>conv_thresh, axis=0)]\n",
    "#expdist[subexpdist]=0.\n",
    "subexpdist.shape\n",
    "#expdist\n",
    "#subexpdist\n"
   ]
  },
  {
   "cell_type": "code",
   "execution_count": 10,
   "metadata": {
    "pycharm": {
     "name": "#%%\n"
    }
   },
   "outputs": [],
   "source": [
    "def calc_tr_new():\n",
    "    TrailPotential[:,:]=sg.convolve2d(z[:,:]*Weight[:,:],subexpdist[:,:],mode=\"same\")  # 2D convolution"
   ]
  },
  {
   "cell_type": "code",
   "execution_count": 11,
   "metadata": {
    "pycharm": {
     "name": "#%%\n"
    }
   },
   "outputs": [
    {
     "data": {
      "text/plain": "0.30901780000000034"
     },
     "execution_count": 11,
     "metadata": {},
     "output_type": "execute_result"
    }
   ],
   "source": [
    "timeit.timeit(calc_tr_new,number=1)"
   ]
  },
  {
   "cell_type": "code",
   "execution_count": 12,
   "metadata": {
    "pycharm": {
     "name": "#%%\n"
    }
   },
   "outputs": [],
   "source": [
    "# Defines a Plot to show the smoothing of the supplied map to represent the respective potentials of the ground, the larger\n",
    "# the potentials, the more attractive the ground is to the walker\n",
    "\n",
    "# ???\n",
    "# cs = plt.contourf(X, Y, TrailPotential, levels=np.linspace(TrailPotential.min(),TrailPotential.max(),1000),cmap='PuBu_r')\n",
    "# cbar = plt.colorbar()\n",
    "#\n",
    "# plt.scatter(track[0:1999,0],track[0:1999,1])\n",
    "# plt.show()"
   ]
  },
  {
   "cell_type": "code",
   "execution_count": 13,
   "metadata": {
    "pycharm": {
     "name": "#%%\n"
    }
   },
   "outputs": [],
   "source": [
    "#set up walker\n",
    "def set_up_walker(route_id):\n",
    "    global vel,pos,track,intens,dest,start,route\n",
    "    #start\n",
    "    # start=np.array(route[route_id,0,:])  # commented for simplicity\n",
    "    start = np.array([30.,30.])  # temporary one route\n",
    "    dest = np.array([-30.,-10.])  # temporary one route\n",
    "    #dest=(random.choice(ends))\n",
    "    # dest=np.array(route[route_id,1,:]) # commented for simplicity\n",
    "    vel=np.array([0.,0.])\n",
    "    pos=np.array(start)\n",
    "    #print (pos)\n",
    "    track=np.zeros((2000,2))\n",
    "    #track[0,:]=pos[:]"
   ]
  },
  {
   "cell_type": "code",
   "execution_count": 14,
   "metadata": {
    "pycharm": {
     "name": "#%%\n"
    }
   },
   "outputs": [],
   "source": [
    "#Calculate gradients eq 19\n",
    "#Trail gradient\n",
    "def setup_potentials():\n",
    "    global grad,desdirx,desdiry,dest\n",
    "    grad=0.003*np.array(np.gradient(TrailPotential))\n",
    "    #grad=0.002*np.array(np.gradient(TrailPotential)) ORIGINAL\n",
    "\n",
    "    #print (dest)\n",
    "    #Destination potential\n",
    "    DestinationPotential=-np.sqrt((dest[0]-x[:,None])**2+(dest[1]-y[None,:])**2)\n",
    "    #Combine gradients\n",
    "    grad+=np.array(np.gradient(DestinationPotential)[:])\n",
    "    #Normalise\n",
    "    #grad[:,:,:]/=(np.sqrt(grad[0,:,:]**2+grad[1,:,:]**2))\n",
    "    desdirx=ReBiSpline(x,y,grad[0,:,:],s=2) # gradeint plus magnitude, Spline approximation over a rectangular mesh\n",
    "    desdiry=ReBiSpline(x,y,grad[1,:,:],s=2)\n",
    "    # angle array, arctans of gradient components, rebislpine\n",
    "    # continuous desired angles permissible\n",
    "        # 2pi periodic system aware"
   ]
  },
  {
   "cell_type": "code",
   "execution_count": 15,
   "metadata": {
    "pycharm": {
     "name": "#%%\n"
    }
   },
   "outputs": [],
   "source": [
    "# #Plot the direction\n",
    "# scgrad=np.arctan2(grad[1],grad[0])\n",
    "# levels = np.linspace(-np.pi, np.pi, 360)\n",
    "# cs = plt.contourf(X, Y,scgrad, levels=levels,cmap='hsv')\n",
    "\n",
    "# cbar = plt.colorbar()\n",
    "# # ERROR # plt.scatter(track[0:1999,0],track[0:1999,1])\n",
    "# #plt.scatter(start, dest)\n",
    "# print(start)\n",
    "# print(dest)\n",
    "# plt.show()"
   ]
  },
  {
   "cell_type": "code",
   "execution_count": 16,
   "metadata": {
    "pycharm": {
     "name": "#%%\n"
    }
   },
   "outputs": [],
   "source": [
    "def persistence(curDir):\n",
    "        global prevDir\n",
    "        # Apply persistence of direction formula (Gilks equation 6) - weighted average of the movement\n",
    "        gammax= (p_alpha*np.cos(prevDir) + (1 - p_alpha)* np.cos(curDir))\n",
    "        gammay=(p_alpha*np.sin(prevDir) + (1 - p_alpha)* np.sin(curDir))\n",
    "                 \n",
    "        gamma = np.arctan2(gammay,gammax)  # previous direction as estimation\n",
    "        return gamma"
   ]
  },
  {
   "cell_type": "code",
   "execution_count": 17,
   "metadata": {
    "pycharm": {
     "name": "#%%\n"
    }
   },
   "outputs": [],
   "source": [
    "def calc_path():\n",
    "    global pos,vel,intens,track,dest,dvel,tau, prevDir, desdirx, desdiry\n",
    "    i=0\n",
    "    hist=10\n",
    "    samp=10\n",
    "    avpos=np.zeros((2,hist))\n",
    "    #Setup While loop to run until either the walker reaches the destination or the walker has passed 2000 movement cycles to\n",
    "    #attempt to get there\n",
    "    while (np.dot(pos-dest,pos-dest)>precision and i<2000): # takes 2000 steps maximum\n",
    "        #set the postiion of the walker on its first then subsequent cycles\n",
    "        #conditional logic saying to update the average position of the walker every 10 iterations\n",
    "        #if (i%samp==0): avpos[:,(i%hist)//samp]=pos[:] #ORIGINAL\n",
    "        if (i%samp==0):\n",
    "            avpos[:,(i%(hist*samp))//samp]=pos[:]\n",
    "        #print((i%hist)//samp)\n",
    "        # print(avpos)\n",
    "        gradmagnitude=max(0.0001,np.sqrt(desdirx(pos[0],pos[1])**2+desdiry(pos[0],pos[1])**2))\n",
    "        xi=np.array(np.random.normal(0,1,2))\n",
    "        # Equation 6 in Helbing, differential in position, eliminised velocity decay components\n",
    "        # gradmagnitude makes sure it is normalised, desdir not normalised\n",
    "        # pos[0]+= dt *(dvel * desdirx(pos[0],pos[1])/gradmagnitude +np.sqrt(2.*eps/tau)*xi[0])  # x-position vector component\n",
    "        # pos[1]+= dt *(dvel * desdiry(pos[0],pos[1])/gradmagnitude +np.sqrt(2.*eps/tau)*xi[1])  # y-position vector component\n",
    "        # posGrad = math.degree(math.atan(pos[0]/pos[1]) # future position\n",
    "        curDir = math.atan2(desdiry(pos[0],pos[1]),desdirx(pos[0],pos[1])) # atan2 not to flip walker around\n",
    "        pos0 = pos[0]\n",
    "        pos1 = pos[1]\n",
    "        posx = int(((pos[0]-xmin)*(Nx-1))/(xmax-xmin)) # index value of position x\n",
    "        posy = int(((pos[1]-ymin)*(Ny-1))/(ymax-ymin)) # index value of position y\n",
    "        # print('x =' + str(posx) + '  y = ' + str(posy))\n",
    "        if i == 385:\n",
    "            print(\"stop)\")\n",
    "        # print('Curdir = ',curDir,' Persistent = ', persistence(curDir))\n",
    "        if i>0: # Exception for first step\n",
    "            curDir = persistence(curDir) # Apply persistence of movement\n",
    "        curGradient = Slope(posx,posy)  # set the current gradient to the Slope class\n",
    "\n",
    "\n",
    "        curDir = curGradient.forbidden_angle(curDir) # apply forbidden angle rule\n",
    "        # if prevDir != curDir:  # the position angle has changed, recalculate the path position ???\n",
    "        # print(\"CurDir at \" + str(i) + \"= \" + str(curDir))\n",
    "        pos[0] += dt * (dvel * math.cos(curDir))\n",
    "        pos[1] += dt * (dvel * math.sin(curDir))\n",
    "            # desdiry = math.sin(curDir)\n",
    "            # desdirx = math.cos(curDir)\n",
    "            # gradmagnitude=max(0.0001,np.sqrt(desdirx(pos[0],pos[1])**2+desdiry(pos[0],pos[1])**2))\n",
    "            # xi=np.array(np.random.normal(0,1,2))\n",
    "            # pos[0]+= dt *(dvel * desdirx(pos[0],pos[1])/gradmagnitude +np.sqrt(2.*eps/tau)*xi[0])  # x-position vector component\n",
    "            # pos[1]+= dt *(dvel * desdiry(pos[0],pos[1])/gradmagnitude +np.sqrt(2.*eps/tau)*xi[1])  # y-position vector component\n",
    "        prevDir = curDir # applying a back trace of the previous direction# Calculate current facing direction\n",
    "        # pos+=dt*vel\n",
    "        #vel[0]+=-1/tau*vel[0] + (dvel/tau)*desdirx(pos[0],pos[1])/gradmagnitude+np.sqrt(2.*eps/tau)*xi[0]   # Eqiation 5 in Helbing, differential in velocity\n",
    "        #vel[1]+=-1/tau*vel[1] + (dvel/tau)*desdiry(pos[0],pos[1])/gradmagnitude+np.sqrt(2.*eps/tau)*xi[1]\n",
    "\n",
    "\n",
    "\n",
    "        #Set the current position of the walker into the trakc array for the current iteration\n",
    "        track[i,:]=pos[:]\n",
    "        # (pos[0]-xmin)*(Nx-1)/(xmax-xmin)  - scale to resolution [Nx-1] * distance to left edge / width of whole field\n",
    "        intens[int((pos[0]-xmin)*(Nx-1)/(xmax-xmin)),int((pos[1]-ymin)*(Ny-1)/(ymax-ymin))]+=1.\n",
    "        i+=1\n",
    "        if (i%(hist*samp)==0):\n",
    "            meanpos=np.mean(avpos,axis=1)\n",
    "            if (np.dot(pos-meanpos,pos-meanpos)<precision):\n",
    "                print (\"Stalled progress \",pos,meanpos,vel, dest)\n",
    "                break\n",
    "    if (i==1500): print (\"Missed goal \",dest,pos)\n",
    "    return i\n",
    "#stopping condition"
   ]
  },
  {
   "cell_type": "code",
   "execution_count": 18,
   "metadata": {
    "pycharm": {
     "name": "#%%\n"
    }
   },
   "outputs": [],
   "source": [
    "# Calculate Q_alpha (strength of markings) eq 15\n",
    "def update_ground():\n",
    "    global q_alpha,intens,z,g_max,t_track,g_nat\n",
    "    q_alpha=intens*(1.-z/g_max)\n",
    "    # Time evolution of ground potential\n",
    "    #zdiff=(1./t_track)*(g_nat-z)+q_alpha\n",
    "    z+=(1./t_track)*(g_nat-z)+q_alpha\n",
    "    #cs = plt.contourf(X, Y, zdiff, cmap=cm.PuBu_r)\n",
    "    #cbar = plt.colorbar()\n",
    "    #plt.show\n",
    "    #z[140:160,45:75]"
   ]
  },
  {
   "cell_type": "code",
   "execution_count": 19,
   "metadata": {
    "pycharm": {
     "name": "#%%\n"
    }
   },
   "outputs": [],
   "source": [
    "# TODO: What does this do???\n",
    "def plot_path_elev():\n",
    "    plt.contourf(X, Y, g_height, levels=np.linspace(g_height.min(),g_height.max(),1000),cmap='PuBu_r')\n",
    "    plt.colorbar()\n",
    "    plt.scatter(track[0:1999,0],track[0:1999,1],1,c='y')\n",
    "    plt.show(block=False)"
   ]
  },
  {
   "cell_type": "code",
   "execution_count": 20,
   "metadata": {},
   "outputs": [],
   "source": [
    "def plot_path():\n",
    "    plt.contourf(X, Y, z, levels=np.linspace(z.min(),z.max(),1000),cmap='PuBu_r')\n",
    "    plt.colorbar()\n",
    "    plt.scatter(track[0:1999,0],track[0:1999,1],1,c='y')\n",
    "    plt.show(block=False)"
   ]
  },
  {
   "cell_type": "code",
   "execution_count": 21,
   "metadata": {
    "pycharm": {
     "name": "#%%\n"
    }
   },
   "outputs": [],
   "source": [
    "tau = 5."
   ]
  },
  {
   "cell_type": "code",
   "execution_count": 22,
   "metadata": {
    "pycharm": {
     "name": "#%%\n"
    }
   },
   "outputs": [
    {
     "name": "stdout",
     "output_type": "stream",
     "text": [
      "end\n"
     ]
    }
   ],
   "source": [
    "# RUN SIMULATION\n",
    "\n",
    "g_slope = np.gradient(g_height,1)\n",
    "grady = g_slope[0] # vertical slope compontent\n",
    "gradx = g_slope[1] # horizontal slope component\n",
    "for i in range(0,1):\n",
    "    calc_tr_new()\n",
    "    intens[:]=0.\n",
    "    for j in range(0,1):\n",
    "        set_up_walker(np.random.randint(0,len(route)))\n",
    "        setup_potentials()\n",
    "        calc_path()\n",
    "        # print(i, start,\" -> \", dest, pos, calc_path()) **********\n",
    "    update_ground()\n",
    "    #plot_path()\n",
    "print(\"end\")"
   ]
  },
  {
   "cell_type": "code",
   "execution_count": 23,
   "outputs": [
    {
     "data": {
      "text/plain": "<Figure size 432x288 with 2 Axes>",
      "image/png": "[encoded data removed]"
     },
     "metadata": {
      "needs_background": "light"
     },
     "output_type": "display_data"
    },
    {
     "data": {
      "text/plain": "<Figure size 432x288 with 2 Axes>",
      "image/png": "[encoded data removed]"
     },
     "metadata": {
      "needs_background": "light"
     },
     "output_type": "display_data"
    }
   ],
   "source": [
    "plot_path_elev()\n",
    "plot_path()"
   ],
   "metadata": {
    "collapsed": false,
    "pycharm": {
     "name": "#%%\n"
    }
   }
  },
  {
   "cell_type": "code",
   "execution_count": 24,
   "metadata": {
    "pycharm": {
     "name": "#%%\n"
    }
   },
   "outputs": [],
   "source": [
    "for i in range(0,Nx):\n",
    "    for j in range(0,Ny):\n",
    "        if (np.isnan(z[i,j])):\n",
    "            print (i,j,g_max[i,j],Base[i,j,0])"
   ]
  },
  {
   "cell_type": "code",
   "execution_count": 25,
   "metadata": {
    "pycharm": {
     "name": "#%%\n"
    }
   },
   "outputs": [],
   "source": [
    "def detect_local_maxima(arr):\n",
    "    # https://stackoverflow.com/questions/3684484/peak-detection-in-a-2d-array/3689710#3689710\n",
    "    \"\"\"\n",
    "    Takes an array and detects the troughs using the local maximum filter.\n",
    "    Returns a boolean mask of the troughs (i.e. 1 when\n",
    "    the pixel's value is the neighborhood maximum, 0 otherwise)\n",
    "    \"\"\"\n",
    "    # define an connected neighborhood\n",
    "    # http://www.scipy.org/doc/api_docs/SciPy.ndimage.morphology.html#generate_binary_structure\n",
    "    neighborhood = morphology.generate_binary_structure(len(arr.shape),2)\n",
    "    # apply the local minimum filter; all locations of minimum value\n",
    "    # in their neighborhood are set to 1\n",
    "    # http://www.scipy.org/doc/api_docs/SciPy.ndimage.filters.html#minimum_filter\n",
    "    local_max = (filters.maximum_filter(arr, footprint=neighborhood)==arr)\n",
    "    # local_min is a mask that contains the peaks we are\n",
    "    # looking for, but also the background.\n",
    "    # In order to isolate the peaks we must remove the background from the mask.\n",
    "    #\n",
    "    # we create the mask of the background\n",
    "    background = (arr==0)\n",
    "    #\n",
    "    # a little technicality: we must erode the background in order to\n",
    "    # successfully subtract it from local_min, otherwise a line will\n",
    "    # appear along the background border (artifact of the local minimum filter)\n",
    "    # http://www.scipy.org/doc/api_docs/SciPy.ndimage.morphology.html#binary_erosion\n",
    "    eroded_background = morphology.binary_erosion(\n",
    "        background, structure=neighborhood, border_value=1)\n",
    "    #\n",
    "    # we obtain the final mask, containing only peaks,\n",
    "    # by removing the background from the local_min mask\n",
    "    detected_maxima = local_max ^ eroded_background\n",
    "    return np.where(detected_maxima)"
   ]
  },
  {
   "cell_type": "code",
   "execution_count": 26,
   "metadata": {
    "pycharm": {
     "name": "#%%\n"
    }
   },
   "outputs": [],
   "source": [
    "def plot_potentials():\n",
    "    global dest\n",
    "    TotPot = np.zeros((Nx,Ny))\n",
    "    TotPot =- np.sqrt((dest[0]-x[:,None])**2+(dest[1]-y[None,:])**2)\n",
    "    TotPot += 0.003*TrailPotential\n",
    "    maxima=detect_local_maxima(TotPot)\n",
    "    cs = plt.contourf(X, Y, TotPot, levels=np.linspace(TotPot.min(),TotPot.max(),1000),cmap='PuBu_r')\n",
    "    cbar = plt.colorbar()\n",
    "    print(maxima)\n",
    "    plt.scatter(x[maxima[0]],y[maxima[1]])\n",
    "    plt.show()\n",
    "    # commit test"
   ]
  },
  {
   "cell_type": "code",
   "execution_count": 27,
   "metadata": {
    "pycharm": {
     "name": "#%%\n"
    }
   },
   "outputs": [
    {
     "name": "stdout",
     "output_type": "stream",
     "text": [
      "(array([ 37,  37, 179, 179, 179, 179, 180, 180, 180, 180, 380, 380],\n",
      "      dtype=int64), array([199, 200,  38, 199, 200, 381,  38, 199, 200, 381, 199, 200],\n",
      "      dtype=int64))\n"
     ]
    },
    {
     "data": {
      "text/plain": "<Figure size 432x288 with 2 Axes>",
      "image/png": "[encoded data removed]"
     },
     "metadata": {
      "needs_background": "light"
     },
     "output_type": "display_data"
    }
   ],
   "source": [
    "plot_potentials()"
   ]
  },
  {
   "cell_type": "code",
   "execution_count": 28,
   "metadata": {
    "pycharm": {
     "name": "#%%\n"
    }
   },
   "outputs": [
    {
     "data": {
      "text/plain": "<Figure size 432x288 with 2 Axes>",
      "image/png": "[encoded data removed]"
     },
     "metadata": {
      "needs_background": "light"
     },
     "output_type": "display_data"
    }
   ],
   "source": [
    "#Plot the direction\n",
    "scgrad=np.arctan2(grad[1],grad[0])\n",
    "levels = np.linspace(-np.pi, np.pi, 360)\n",
    "cs = plt.contourf(X, Y,scgrad, levels=levels,cmap='hsv')\n",
    "\n",
    "cbar = plt.colorbar()\n",
    "plt.scatter(track[0:1999,0],track[0:1999,1])\n",
    "#plt.scatter(start, dest)\n",
    "# print(start) **************\n",
    "# print(dest) ***************\n",
    "plt.show()\n"
   ]
  },
  {
   "cell_type": "code",
   "execution_count": 29,
   "metadata": {
    "pycharm": {
     "name": "#%%\n"
    }
   },
   "outputs": [],
   "source": [
    "# plot_path()"
   ]
  },
  {
   "cell_type": "code",
   "execution_count": 30,
   "metadata": {
    "pycharm": {
     "name": "#%%\n"
    }
   },
   "outputs": [],
   "source": [
    "#Integrate z, trapezoid rule eq 20\n",
    "# def calc_tr():\n",
    "#    global xi,yi,TrailPotential,expdist,z,Weight,Nx,Ny\n",
    "#    for xi in range(0,Nx):\n",
    "#        for yi in range(0,Ny):\n",
    "#            TrailPotential[xi,yi]=np.sum(expdist[Nx-1-xi:2*Nx-1-xi,Ny-1-yi:2*Ny-1-yi]*z[:,:]*Weight[:,:])\n",
    "\n",
    "# Test additional heightS"
   ]
  },
  {
   "cell_type": "code",
   "execution_count": 31,
   "metadata": {
    "pycharm": {
     "name": "#%%\n"
    }
   },
   "outputs": [],
   "source": [
    "#Integrate z, trapezoid rule eq 20\n",
    "# def calc_tr():\n",
    "#    global xi,yi,TrailPotential,expdist,z,Weight,Nx,Ny\n",
    "#    for xi in range(0,Nx):\n",
    "#        for yi in range(0,Ny):\n",
    "#            TrailPotential[xi,yi]=np.sum(expdist[Nx-1-xi:2*Nx-1-xi,Ny-1-yi:2*Ny-1-yi]*z[:,:]*Weight[:,:])"
   ]
  }
 ],
 "metadata": {
  "kernelspec": {
   "display_name": "Python 3",
   "language": "python",
   "name": "python3"
  },
  "language_info": {
   "codemirror_mode": {
    "name": "ipython",
    "version": 3
   },
   "file_extension": ".py",
   "mimetype": "text/x-python",
   "name": "python",
   "nbconvert_exporter": "python",
   "pygments_lexer": "ipython3",
   "version": "3.7.9"
  }
 },
 "nbformat": 4,
 "nbformat_minor": 1
}