{
 "cells": [
  {
   "cell_type": "code",
   "execution_count": 4,
   "outputs": [],
   "source": [
    "#Initialisation\n",
    "import matplotlib.pyplot as plt\n",
    "import numpy as np\n",
    "from scipy.integrate import simps\n",
    "from scipy import signal as sg\n",
    "from scipy.interpolate import RectBivariateSpline as ReBiSpline\n",
    "from numpy import ma\n",
    "from matplotlib import colors, ticker, cm\n",
    "from random import choice\n",
    "import scipy.ndimage.filters as filters\n",
    "import scipy.ndimage.morphology as morphology\n",
    "import timeit\n",
    "import math\n",
    "import cv2\n",
    "from PIL import Image\n",
    "%matplotlib inline"
   ],
   "metadata": {
    "collapsed": false,
    "pycharm": {
     "name": "#%%#Authors: Eli Gumble, Peter Brommer, Harry Brown\n"
    }
   }
  },
  {
   "cell_type": "code",
   "execution_count": 5,
   "outputs": [],
   "source": [
    "# Read grids from image\n",
    "im = Image.open(\"cc_fin_new.bmp\")\n",
    "im2 = cv2.imread(\"cc_fin.bmp\")\n",
    "Base = np.array(im)"
   ],
   "metadata": {
    "collapsed": false,
    "pycharm": {
     "name": "#%%\n"
    }
   }
  },
  {
   "cell_type": "code",
   "execution_count": 6,
   "outputs": [],
   "source": [
    "# Define internal quantities and variables\n",
    "scale = 0.25  # m per pixel\n",
    "Nx = Base[:,0,0].size  # N appears to be resolution\n",
    "Ny = Base[0,:,0].size  # Nx,Ny is size, Nz is RGB level\n",
    "xmin=-scale*0.5*(Nx-1)\n",
    "xmax=scale*0.5*(Nx-1)\n",
    "ymin=-scale*0.5*(Ny-1)\n",
    "ymax=scale*0.5*(Ny-1)\n",
    "x = np.linspace(xmin, xmax, Nx) # This is defining the axes and full space\n",
    "y = np.linspace(ymin, ymax, Ny)\n",
    "Y, X= np.meshgrid(y, x)\n",
    "TrailPotential = np.zeros((Nx,Ny))\n",
    "DestinationPotential=np.zeros((Nx,Ny))\n",
    "Weight=np.zeros((Nx,Ny))  # Create gradient to sit on Nx, Ny\n",
    "intens=np.zeros((Nx,Ny))\n",
    "q_alpha=np.zeros((Nx,Ny))\n",
    "expdist=np.zeros((2*Nx-1,2*Ny-1))\n",
    "dest=np.zeros((2))\n",
    "start=np.zeros((2))\n",
    "grad=np.zeros((2,Nx,Ny))\n",
    "vel=np.asarray([0.,0.])\n",
    "pos=np.asarray([0.,0.])\n",
    "#desdirx=ReBiSpline(x,y,grad[0,:,:],s=2)\n",
    "#desdiry=ReBiSpline(x,y,grad[1,:,:],s=2)\n",
    "intens[:]=0.\n",
    "\n",
    "#print(route)\n",
    "#parameters\n",
    "t_track=50. # Track decay time - after 50 walkers ignore a trail, it decays by 1/e\n",
    "dt=0.1  # dt per time step, continuous markings every dt metres\n",
    "dvel=1. # desired walker velocity in m/s\n",
    "tau=5.\n",
    "isigma=1./2. # trail potential\n",
    "conv_thresh=10.e-4\n",
    "precision=1.**2 #distance to target.\n",
    "eps=0.025 #random motion contribution, same for all\n",
    "p_alpha = 0.5 # value of persistence\n",
    "prev_dir = 0 # record of previous angle of direction\n",
    "theta_max = 0.3  # maximum permissible ascent gradient"
   ],
   "metadata": {
    "collapsed": false,
    "pycharm": {
     "name": "#%%\n"
    }
   }
  },
  {
   "cell_type": "code",
   "execution_count": 7,
   "outputs": [],
   "source": [
    "class Slope:\n",
    "    def __init__(self, xdir, ydir):\n",
    "        self.xdir = xdir\n",
    "        self.ydir = ydir\n",
    "        self.angle = math.atan(self.ydir/self.xdir)  # direction of the gradient vector\n",
    "        self.mod = math.sqrt(xdir**2 + ydir**2)  # modulus of the gradient\n",
    "\n",
    "    def forbidden_angle(self, curDir):\n",
    "        grad_max = math.tan(theta_max)\n",
    "        if self.mod < grad_max:\n",
    "            # Ignore gradient processing if maximum gradient is not exceeded anywhere\n",
    "            return curDir\n",
    "        else:\n",
    "            thetaSlope = math.atan(self.mod)  # angle of the slope relative from ground to the height\n",
    "            thetaForbMin = self.angle - (math.pi/2 - math.asin(math.tan(theta_max)/math.tan(thetaSlope))) # Minimum forbidden angle\n",
    "            thetaForbMax = self.angle + (math.pi/2 - math.asin(math.tan(theta_max)/math.tan(thetaSlope))) # Maximum forbidden angle\n",
    "            if (curDir > thetaForbMin) and (curDir <= self.angle):  # current direction within left forbidden sector (preference to left if directly facing)\n",
    "                curDir = thetaForbMin\n",
    "                return curDir\n",
    "            elif (curDir < thetaForbMax) and (curDir > self.angle):  # current direction within right forbidden sector\n",
    "                curDir = thetaForbMax\n",
    "                return curDir\n",
    "            else:  # current direction outside of the forbidden zone\n",
    "                pass # curDir remains unchanged\n",
    "                return curDir"
   ],
   "metadata": {
    "collapsed": false,
    "pycharm": {
     "name": "#%%\n"
    }
   }
  },
  {
   "cell_type": "code",
   "execution_count": null,
   "outputs": [],
   "source": [
    "##Set up map\n",
    "#Create blank arrays for map\n",
    "z = np.zeros((Nx,Ny))\n",
    "g_max=np.zeros((Nx,Ny)) # empty matrix\n",
    "g_nat=np.zeros((Nx,Ny))\n",
    "g_grad=np.zeros((Nx,Ny))\n",
    "\n",
    "g_nat=np.maximum(np.ones_like(g_nat),np.float64(Base[:,:,0])) # red channel, np.ones_like() sets minimum value to 1\n",
    "g_max=np.maximum(np.ones_like(g_max),np.float64(Base[:,:,1])) # green channel\n",
    "g_grad=np.maximum(np.ones_like(g_grad),np.float64(Base[:,:,2])) # blue channel\n",
    "z=g_nat\n",
    "\n",
    "# Start and end points in picture\n",
    "# track_labels=Base[:,:,2]\n",
    "#\n",
    "# numpoints=np.max(track_labels)\n",
    "#\n",
    "# point=np.zeros((numpoints,2))\n",
    "#\n",
    "# for i in range(0,Nx):\n",
    "#     for j in range(0,Ny):\n",
    "#         if (track_labels[i,j]>0):\n",
    "#             point[track_labels[i,j]-1]=np.array([i,j])\n",
    "# print (point)\n",
    "\n",
    "# Trails (start and end point) For current Map, coordinates in metres, centre of image = (0,0)\n",
    "\n",
    "# single possible path\n",
    "route=np.array([[24.,-9.75],[-24.,9.75]]),\n",
    "\n",
    "# commented out for single path\n",
    "\n",
    "# route=np.array([[[-2.5,14.],[24.,-9.75]],\n",
    "#                 [[-2.5,14.],[24.,2.5]],\n",
    "#                 [[-2.5,14.],[-24.,9.75]],\n",
    "#                 [[24.,-9.75],[-2.75,14.]],\n",
    "#                 [[24.,-9.75],[-24.,9.75]],\n",
    "#                 [[24.,2.5],[-2.75,14.]],\n",
    "#                 [[24.,2.5],[-24.,9.75]],\n",
    "#                 [[-24.,10.],[-2.75,14.]],\n",
    "#                 [[-24.,10.],[24.,-9.75]],\n",
    "#                 [[-24.,10.],[24.,2.5]]])\n"
   ],
   "metadata": {
    "collapsed": false,
    "pycharm": {
     "name": "#%%\n"
    }
   }
  },
  {
   "cell_type": "code",
   "execution_count": 8,
   "outputs": [],
   "source": [
    "#Setup weight matrix, here trapezoid rule.\n",
    "Weight[:,:]=1\n",
    "Weight[1:-1,:]=2\n",
    "Weight[:,1:-1]=2\n",
    "Weight[1:-1,1:-1]=4\n",
    "Weight*=0.25*((x[-1]-x[0])/(Nx-1))*((y[-1]-y[0])/(Ny-1))\n",
    "#0.25*((x[-1]-x[0])/(N-1))*((y[-1]-y[0])/(N-1))\n",
    "#np.exp(-np.sqrt((x[:,None]-x[N/2])**2+(y[None,:]-y[N/2])**2))*z[:,:]"
   ],
   "metadata": {
    "collapsed": false,
    "pycharm": {
     "name": "#%%\n"
    }
   }
  },
  {
   "cell_type": "code",
   "execution_count": 9,
   "outputs": [
    {
     "data": {
      "text/plain": "(111, 111)"
     },
     "execution_count": 9,
     "metadata": {},
     "output_type": "execute_result"
    }
   ],
   "source": [
    "# Setup distance matrix\n",
    "for xi in range(1,Nx+1):\n",
    "    for yi in range(1,Ny+1):\n",
    "\n",
    "        expdist[xi-1,yi-1]=np.exp(-isigma*np.sqrt((x[Nx-xi]-xmin)**2+(y[Ny-yi]-ymin)**2))\n",
    "        expdist[-xi,-yi]  = expdist[xi-1,yi-1]\n",
    "        expdist[-xi,yi-1] = expdist[xi-1,yi-1]\n",
    "        expdist[xi-1,-yi] = expdist[xi-1,yi-1]\n",
    "\n",
    "# find index range > conv_thresh\n",
    "subexpdist=expdist[(expdist>conv_thresh).any(1)]\n",
    "subexpdist=subexpdist[:, np.any(subexpdist>conv_thresh, axis=0)]\n",
    "#subexpdist=subexpdist[:,np.any(subexpdist>conv_thresh, axis=0)]\n",
    "#expdist[subexpdist]=0.\n",
    "subexpdist.shape\n",
    "#expdist\n",
    "#subexpdist\n"
   ],
   "metadata": {
    "collapsed": false,
    "pycharm": {
     "name": "#%%\n"
    }
   }
  },
  {
   "cell_type": "code",
   "execution_count": 10,
   "outputs": [],
   "source": [
    "def calc_tr_new():\n",
    "    TrailPotential[:,:]=sg.convolve2d(z[:,:]*Weight[:,:],subexpdist[:,:],mode=\"same\")  # 2D convolution"
   ],
   "metadata": {
    "collapsed": false,
    "pycharm": {
     "name": "#%%\n"
    }
   }
  },
  {
   "cell_type": "code",
   "execution_count": 11,
   "outputs": [
    {
     "data": {
      "text/plain": "6.451861600000001"
     },
     "execution_count": 11,
     "metadata": {},
     "output_type": "execute_result"
    }
   ],
   "source": [
    "timeit.timeit(calc_tr_new,number=1)"
   ],
   "metadata": {
    "collapsed": false,
    "pycharm": {
     "name": "#%%\n"
    }
   }
  },
  {
   "cell_type": "code",
   "execution_count": 12,
   "outputs": [
    {
     "data": {
      "text/plain": "<Figure size 432x288 with 2 Axes>",
      "image/png": "[encoded data removed]"
     },
     "metadata": {
      "needs_background": "light"
     },
     "output_type": "display_data"
    }
   ],
   "source": [
    "# Defines a Plot to show the smoothing of the supplied map to represent the respective potentials of the ground, the larger\n",
    "# the potentials, the more attractive the ground is to the walker\n",
    "\n",
    "cs = plt.contourf(X, Y, TrailPotential, levels=np.linspace(TrailPotential.min(),TrailPotential.max(),1000),cmap='PuBu_r')\n",
    "cbar = plt.colorbar()\n",
    "\n",
    "#plt.scatter(track[0:1999,0],track[0:1999,1])\n",
    "plt.show()"
   ],
   "metadata": {
    "collapsed": false,
    "pycharm": {
     "name": "#%%\n"
    }
   }
  },
  {
   "cell_type": "code",
   "execution_count": 13,
   "outputs": [],
   "source": [
    "#set up walker\n",
    "def set_up_walker(route_id):\n",
    "    global vel,pos,track,intens,dest,start,route\n",
    "    #start\n",
    "    # start=np.array(route[route_id,0,:])  # commented for simplicity\n",
    "    start = np.array([24.,-9.75])  # temporary one route\n",
    "    dest = np.array([-24.,9.75])  # temporary one route\n",
    "    #dest=(random.choice(ends))\n",
    "    # dest=np.array(route[route_id,1,:]) # commented for simplicity\n",
    "    vel=np.array([0.,0.])\n",
    "    pos=np.array(start)\n",
    "    #print (pos)\n",
    "    track=np.zeros((2000,2))\n",
    "    #track[0,:]=pos[:]"
   ],
   "metadata": {
    "collapsed": false,
    "pycharm": {
     "name": "#%%\n"
    }
   }
  },
  {
   "cell_type": "code",
   "execution_count": 14,
   "outputs": [],
   "source": [
    "#Calculate gradients eq 19\n",
    "#Trail gradient\n",
    "def setup_potentials():\n",
    "    global grad,desdirx,desdiry,dest\n",
    "    grad=0.003*np.array(np.gradient(TrailPotential))\n",
    "    #grad=0.002*np.array(np.gradient(TrailPotential)) ORIGINAL\n",
    "\n",
    "    #print (dest)\n",
    "    #Destination potential\n",
    "    DestinationPotential=-np.sqrt((dest[0]-x[:,None])**2+(dest[1]-y[None,:])**2)\n",
    "    #Combine gradients\n",
    "    grad+=np.array(np.gradient(DestinationPotential)[:])\n",
    "    #Normalise\n",
    "    #grad[:,:,:]/=(np.sqrt(grad[0,:,:]**2+grad[1,:,:]**2))\n",
    "    desdirx=ReBiSpline(x,y,grad[0,:,:],s=2) # gradeint plus magnitude, Spline approximation over a rectangular mesh\n",
    "    desdiry=ReBiSpline(x,y,grad[1,:,:],s=2)\n",
    "    # angle array, arctans of gradient components, rebislpine\n",
    "    # continuous desired angles permissible\n",
    "        # 2pi periodic system aware\n",
    "    #plot()\n",
    "    #print(grad)"
   ],
   "metadata": {
    "collapsed": false,
    "pycharm": {
     "name": "#%%\n"
    }
   }
  },
  {
   "cell_type": "code",
   "execution_count": 15,
   "outputs": [],
   "source": [
    "# #Plot the direction\n",
    "# scgrad=np.arctan2(grad[1],grad[0])\n",
    "# levels = np.linspace(-np.pi, np.pi, 360)\n",
    "# cs = plt.contourf(X, Y,scgrad, levels=levels,cmap='hsv')\n",
    "\n",
    "# cbar = plt.colorbar()\n",
    "# # ERROR # plt.scatter(track[0:1999,0],track[0:1999,1])\n",
    "# #plt.scatter(start, dest)\n",
    "# print(start)\n",
    "# print(dest)\n",
    "# plt.show()"
   ],
   "metadata": {
    "collapsed": false,
    "pycharm": {
     "name": "#%%\n"
    }
   }
  },
  {
   "cell_type": "code",
   "execution_count": 16,
   "outputs": [],
   "source": [
    "def assign_gradients():\n",
    "    global im2\n",
    "    b = im2.copy()\n",
    "    # set green and red channels to 0\n",
    "    b[:, :, 1] = 0\n",
    "    b[:, :, 2] = 0\n",
    "    plt.imshow(b)\n",
    "    # TODO: assign a gradient value for each point on the map."
   ],
   "metadata": {
    "collapsed": false,
    "pycharm": {
     "name": "#%%\n"
    }
   }
  },
  {
   "cell_type": "code",
   "execution_count": 17,
   "outputs": [],
   "source": [
    "# Apply inclination rule to change to direction of the walker\n",
    "def check_direction(cur_dir):\n",
    "    global x, y, prev_dir\n",
    "    # Apply persistence of direction formula (Gilks equation 6)\n",
    "    gamma = (p_alpha * prev_dir) + (1 - p_alpha)*cur_dir\n",
    "\n",
    "    #TODO: Based on current position (?) determine the forbidden angle limit_dir\n",
    "\n",
    "    limit_dir = 0.5 # filler\n",
    "\n",
    "    # Forbidden angle rule, check if current desired angle lies within forbidden zone\n",
    "    if abs(gamma) < limit_dir:\n",
    "        dir = limit_dir\n",
    "        # TODO: change the desire direction values?\n",
    "        desdirx = math.cos(limit_dir)\n",
    "        desdiry = math.sin(limit_dir)\n",
    "        # calculate new pos[0] and pos[1]\n",
    "        x = 0.5 # FILLER\n",
    "        y = 0.5 # FILLER\n",
    "    return x, y"
   ],
   "metadata": {
    "collapsed": false,
    "pycharm": {
     "name": "#%%\n"
    }
   }
  },
  {
   "cell_type": "code",
   "execution_count": 18,
   "outputs": [],
   "source": [
    "def calc_path():\n",
    "    global pos,vel,intens,track,dest,dvel,tau, prev_dir\n",
    "\n",
    "    i=0\n",
    "    hist=10\n",
    "    samp=10\n",
    "    avpos=np.zeros((2,hist))\n",
    "    #Setup While loop to run until either the walker reaches the destination or the walker has passed 2000 movement cycles to\n",
    "    #attempt to get there\n",
    "    while (np.dot(pos-dest,pos-dest)>precision and i<2000):\n",
    "    #set the postiion of the walker on its first then subsequent cycles\n",
    "\n",
    "        #conditional logic saying to update the average position of the walker every 10 iterations\n",
    "        #if (i%samp==0): avpos[:,(i%hist)//samp]=pos[:] #ORIGINAL\n",
    "        if (i%samp==0): avpos[:,(i%(hist*samp))//samp]=pos[:]\n",
    "\n",
    "        #print((i%hist)//samp)\n",
    "        #print(avpos)\n",
    "\n",
    "        gradmagnitude=max(0.0001,np.sqrt(desdirx(pos[0],pos[1])**2+desdiry(pos[0],pos[1])**2))\n",
    "        xi=np.array(np.random.normal(0,1,2))\n",
    "        # Equation 6 in Helbing, differential in position, eliminised velocity decay components\n",
    "        # gradmagnitude makes sure it is normalised, desdir not normalised\n",
    "        pos[0]+= dt *(dvel * desdirx(pos[0],pos[1])/gradmagnitude +np.sqrt(2.*eps/tau)*xi[0])  # x-position vector component\n",
    "        pos[1]+= dt *(dvel * desdiry(pos[0],pos[1])/gradmagnitude +np.sqrt(2.*eps/tau)*xi[1])  # y-position vector component\n",
    "#       posGrad = math.degree(math.atan(pos[0]/pos[1]) # future position\n",
    "\n",
    "        curDir = math.atan(desdiry(pos[0],pos[1])/desdirx(pos[0],pos[1]))  # Calculate current facing direction\n",
    "\n",
    "        print(curDir)\n",
    "        # pos[0], pos[1] = check_direction(curDir)\n",
    "#       print(posGrad)\n",
    "        prev_dir = curDir # applying a back trace of the previous direction\n",
    "        # pos+=dt*vel\n",
    "        #vel[0]+=-1/tau*vel[0] + (dvel/tau)*desdirx(pos[0],pos[1])/gradmagnitude+np.sqrt(2.*eps/tau)*xi[0]   # Eqiation 5 in Helbing, differential in velocity\n",
    "        #vel[1]+=-1/tau*vel[1] + (dvel/tau)*desdiry(pos[0],pos[1])/gradmagnitude+np.sqrt(2.*eps/tau)*xi[1]\n",
    "\n",
    "        #Set the current position of the walker into the trakc array for the current iteration\n",
    "        track[i,:]=pos[:]\n",
    "        intens[int((pos[0]-xmin)*(Nx-1)/(xmax-xmin)),int((pos[1]-ymin)*(Ny-1)/(ymax-ymin))]+=1.\n",
    "        i+=1\n",
    "        if (i%(hist*samp)==0):\n",
    "            meanpos=np.mean(avpos,axis=1)\n",
    "            if (np.dot(pos-meanpos,pos-meanpos)<precision):\n",
    "                print (\"Stalled progress \",pos,meanpos,vel, dest)\n",
    "                break\n",
    "    if (i==2000): print (\"Missed goal \",dest,pos)\n",
    "    return i\n",
    "#stopping condition"
   ],
   "metadata": {
    "collapsed": false,
    "pycharm": {
     "name": "#%%\n"
    }
   }
  },
  {
   "cell_type": "code",
   "execution_count": 19,
   "outputs": [],
   "source": [
    "# Calculate Q_alpha (strength of markings) eq 15\n",
    "def update_ground():\n",
    "    global q_alpha,intens,z,g_max,t_track,g_nat\n",
    "    q_alpha=intens*(1.-z/g_max)\n",
    "    # Time evolution of ground potential\n",
    "    #zdiff=(1./t_track)*(g_nat-z)+q_alpha\n",
    "    z+=(1./t_track)*(g_nat-z)+q_alpha\n",
    "    #cs = plt.contourf(X, Y, zdiff, cmap=cm.PuBu_r)\n",
    "    #cbar = plt.colorbar()\n",
    "    #plt.show\n",
    "    #z[140:160,45:75]"
   ],
   "metadata": {
    "collapsed": false,
    "pycharm": {
     "name": "#%%\n"
    }
   }
  },
  {
   "cell_type": "code",
   "execution_count": 20,
   "outputs": [],
   "source": [
    "def plot_path():\n",
    "    plt.contourf(X, Y, z, levels=np.linspace(z.min(),z.max(),1000),cmap='PuBu_r')\n",
    "    plt.colorbar()\n",
    "    #plt.scatter(track[0:1999,0],track[0:1999,1],1)\n",
    "    plt.show(block=False)"
   ],
   "metadata": {
    "collapsed": false,
    "pycharm": {
     "name": "#%%\n"
    }
   }
  },
  {
   "cell_type": "code",
   "execution_count": 21,
   "outputs": [],
   "source": [
    "tau = 5."
   ],
   "metadata": {
    "collapsed": false,
    "pycharm": {
     "name": "#%%\n"
    }
   }
  },
  {
   "cell_type": "code",
   "execution_count": 22,
   "outputs": [
    {
     "name": "stdout",
     "output_type": "stream",
     "text": [
      "-0.20357478335475726\n",
      "-0.20680039395722688\n",
      "-0.20989753597452462\n",
      "-0.21352764877886202\n",
      "-0.2169540558504425\n",
      "-0.22047175477955225\n",
      "-0.2238293979510154\n",
      "-0.22717372907458522\n",
      "-0.2311130015563463\n",
      "-0.23435184009895682\n",
      "-0.23890405525436897\n",
      "-0.24309388562827827\n",
      "-0.24649004559025509\n",
      "-0.24966155259459163\n",
      "-0.253930546541578\n",
      "-0.25717865432430514\n",
      "-0.26008848611039365\n",
      "-0.2638803622878916\n",
      "-0.26763824373583367\n",
      "-0.27127731950655765\n",
      "-0.2740736121993594\n",
      "-0.27683553960882934\n",
      "-0.2802999594455277\n",
      "-0.2839484808548076\n",
      "-0.2871487014465922\n",
      "-0.290267075135487\n",
      "-0.2934434243060001\n",
      "-0.296547823240925\n",
      "-0.3002199516154175\n",
      "-0.30328852501305187\n",
      "-0.30684245379660996\n",
      "-0.3110723256652355\n",
      "-0.3148891981073295\n",
      "-0.3175934320705236\n",
      "-0.32011437775660256\n",
      "-0.3237382245352332\n",
      "-0.32750378930152835\n",
      "-0.33150786550043987\n",
      "-0.33588923753371425\n",
      "-0.3398466491712408\n",
      "-0.34332567554035553\n",
      "-0.3470479993265605\n",
      "-0.35053188562926074\n",
      "-0.35507148289136176\n",
      "-0.3592415628933246\n",
      "-0.36336470647499974\n",
      "-0.3674248441496808\n",
      "-0.37246892868046416\n",
      "-0.37642009240771235\n",
      "-0.3809449028023486\n",
      "-0.38584052481987685\n",
      "-0.391453003511276\n",
      "-0.3974347384813052\n",
      "-0.403615699443858\n",
      "-0.40974751391460185\n",
      "-0.4144826929871594\n",
      "-0.41955025541169316\n",
      "-0.42566176656124066\n",
      "-0.4312883275865616\n",
      "-0.43750690709199114\n",
      "-0.44393862803559003\n",
      "-0.45190988951509353\n",
      "-0.4583102023083206\n",
      "-0.4644502125851411\n",
      "-0.4722361653246398\n",
      "-0.47951343888141346\n",
      "-0.48661729432244527\n",
      "-0.4933426277171679\n",
      "-0.4998359790164321\n",
      "-0.5086896280102996\n",
      "-0.5163635034642067\n",
      "-0.5231563721844283\n",
      "-0.5300380147767566\n",
      "-0.5368413004529728\n",
      "-0.5438030763425925\n",
      "-0.5533189161339881\n",
      "-0.5607822688792562\n",
      "-0.5687817407388699\n",
      "-0.5771611228335126\n",
      "-0.5850206905894597\n",
      "-0.594176783069473\n",
      "-0.6005580262719589\n",
      "-0.6070749453368959\n",
      "-0.614557347017638\n",
      "-0.6228646008424025\n",
      "-0.6301827828285143\n",
      "-0.6379030883508147\n",
      "-0.6459460053494208\n",
      "-0.6530085369589768\n",
      "-0.6597717519282071\n",
      "-0.6674060538069968\n",
      "-0.6755410071858162\n",
      "-0.682726896515993\n",
      "-0.6903072200801319\n",
      "-0.6976496554076453\n",
      "-0.7054601250063481\n",
      "-0.7118114323497912\n",
      "-0.7175921673341946\n",
      "-0.7214958160704921\n",
      "-0.7268151402754583\n",
      "-0.7316446679018548\n",
      "-0.7353401393699226\n",
      "-0.7397419305419058\n",
      "-0.7438664247233979\n",
      "-0.7456266343023776\n",
      "-0.7470331542127082\n",
      "-0.7472108056537461\n",
      "-0.7467223598811586\n",
      "-0.7458033399089272\n",
      "-0.7433588965371005\n",
      "-0.7405001441538644\n",
      "-0.7363873098866706\n",
      "-0.7313444733241137\n",
      "-0.725495538171364\n",
      "-0.7176404847770426\n",
      "-0.7075251972946176\n",
      "-0.6992566683708921\n",
      "-0.6890672796045618\n",
      "-0.6778764282309401\n",
      "-0.6662086291417362\n",
      "-0.6555294631170856\n",
      "-0.6453661684245022\n",
      "-0.6333770044947008\n",
      "-0.6218923376821799\n",
      "-0.6096448744976006\n",
      "-0.5937292404178128\n",
      "-0.5841291626975834\n",
      "-0.5729677855608506\n",
      "-0.5605041476935567\n",
      "-0.5504493211979702\n",
      "-0.5369948660747728\n",
      "-0.5267304391071757\n",
      "-0.5149195287838687\n",
      "-0.5068390456200487\n",
      "-0.4952026725686228\n",
      "-0.4852256170748957\n",
      "-0.476389797176638\n",
      "-0.4689717861487028\n",
      "-0.4604164924992328\n",
      "-0.4530289410904842\n",
      "-0.4462656881948093\n",
      "-0.4402497927008168\n",
      "-0.4352172980096213\n",
      "-0.43047931645458515\n",
      "-0.426892167862958\n",
      "-0.42373348603189165\n",
      "-0.42067139954582006\n",
      "-0.41810911659958266\n",
      "-0.4151281548343452\n",
      "-0.4127340204530712\n",
      "-0.41111055703735294\n",
      "-0.4094512480946515\n",
      "-0.4074914627528622\n",
      "-0.40586325896778297\n",
      "-0.40427258196440996\n",
      "-0.4027338091074368\n",
      "-0.40146229013106444\n",
      "-0.40050424463384243\n",
      "-0.39939737478048093\n",
      "-0.3981842569433804\n",
      "-0.39705987004989196\n",
      "-0.39565360831134516\n",
      "-0.39426639844138356\n",
      "-0.3928491886912766\n",
      "-0.3911142859565614\n",
      "-0.38963448882977186\n",
      "-0.3877566955027301\n",
      "-0.38648343892484066\n",
      "-0.3848333683113635\n",
      "-0.38368535486337996\n",
      "-0.3820286811911283\n",
      "-0.3802720590751806\n",
      "-0.37868410032587674\n",
      "-0.3771968370287554\n",
      "-0.37545303611406755\n",
      "-0.37450276571958496\n",
      "-0.37260334753823776\n",
      "-0.3711265876538914\n",
      "-0.36970735802045157\n",
      "-0.3680469792200076\n",
      "-0.36680569213832287\n",
      "-0.36536803389156014\n",
      "-0.3635429635121873\n",
      "-0.3619819703403431\n",
      "-0.3611670087714378\n",
      "-0.36015199705657214\n",
      "-0.3592618397787896\n",
      "-0.3581602030445475\n",
      "-0.356998467324995\n",
      "-0.3566527172005924\n",
      "-0.35547544425989974\n",
      "-0.35467159765602013\n",
      "-0.3540265226488303\n",
      "-0.35293624632296317\n",
      "-0.3521888447336421\n",
      "-0.3511384274688957\n",
      "-0.3504261698153988\n",
      "-0.3495687492029298\n",
      "-0.3494311089657257\n",
      "-0.34834169403785514\n",
      "-0.3485104369566768\n",
      "-0.3479316651928413\n",
      "-0.3474725891756803\n",
      "-0.34720512183277696\n",
      "-0.34676949352400704\n",
      "-0.34601296355180977\n",
      "-0.34530936398133694\n",
      "-0.3448453525873158\n",
      "-0.34512073536777876\n",
      "-0.34538705188708874\n",
      "-0.34556121656858413\n",
      "-0.34562398707357167\n",
      "-0.3453845081999489\n",
      "-0.34524855251640213\n",
      "-0.34547888498431506\n",
      "-0.3456455910041703\n",
      "-0.34528500956768304\n",
      "-0.3450905924796049\n",
      "-0.3450629555999806\n",
      "-0.3453526245826923\n",
      "-0.3452557561404877\n",
      "-0.3451117910891399\n",
      "-0.34517762595177715\n",
      "-0.34515430753188947\n",
      "-0.34462911051299455\n",
      "-0.34487097903866765\n",
      "-0.3448105395697729\n",
      "-0.34468973607983716\n",
      "-0.3447333040375752\n",
      "-0.34508005664115615\n",
      "-0.3449913588098353\n",
      "-0.3446094602450525\n",
      "-0.34454265491370833\n",
      "-0.3440299804039985\n",
      "-0.344345766961561\n",
      "-0.34442654434553405\n",
      "-0.34437410846698396\n",
      "-0.34445232403079024\n",
      "-0.34429952492725413\n",
      "-0.3447447610252931\n",
      "-0.34496028816968793\n",
      "-0.3454002346478192\n",
      "-0.34563018252990513\n",
      "-0.34499736142294957\n",
      "-0.34457975393805945\n",
      "-0.34458232381162035\n",
      "-0.34444135948030496\n",
      "-0.3439150834076283\n",
      "-0.3433689733638439\n",
      "-0.3436431229446876\n",
      "-0.3437348662732577\n",
      "-0.3441779658217616\n",
      "-0.3445547407048885\n",
      "-0.34407106445830954\n",
      "-0.3441997187966516\n",
      "-0.3439502144706718\n",
      "-0.34394379636240946\n",
      "-0.34444857156642716\n",
      "-0.34428097985430434\n",
      "-0.34485099563092597\n",
      "-0.34513675795796245\n",
      "-0.34531601247964777\n",
      "-0.34553231691129643\n",
      "-0.34539951750910847\n",
      "-0.34494489245681337\n",
      "-0.3442543560624746\n",
      "-0.3443938356862718\n",
      "-0.34436003316362596\n",
      "-0.3439649098909102\n",
      "-0.3444811842927991\n",
      "-0.34457366561863034\n",
      "-0.3453112156338734\n",
      "-0.34491921840526435\n",
      "-0.3444893459034369\n",
      "-0.3447363672529006\n",
      "-0.34489612472448494\n",
      "-0.3449881005812277\n",
      "-0.3452423916207834\n",
      "-0.3445918330048422\n",
      "-0.3445076308016147\n",
      "-0.34456097798772084\n",
      "-0.34525546107384536\n",
      "-0.3449515397974825\n",
      "-0.34492334203008795\n",
      "-0.34505768677141724\n",
      "-0.3450465370407604\n",
      "-0.3453962602062328\n",
      "-0.3456724084367788\n",
      "-0.3463249780303076\n",
      "-0.34611629881987543\n",
      "-0.3457790754699981\n",
      "-0.3452666680496753\n",
      "-0.34473745568891606\n",
      "-0.34459407915448953\n",
      "-0.34487999821533016\n",
      "-0.3444688039923231\n",
      "-0.3446222917449478\n",
      "-0.3456061528672686\n",
      "-0.34520983589150817\n",
      "-0.34449871967802964\n",
      "-0.344569987370901\n",
      "-0.34508213699064083\n",
      "-0.3445557506468409\n",
      "-0.34462270717446414\n",
      "-0.3448692019944046\n",
      "-0.34491482086283365\n",
      "-0.3446673183392474\n",
      "-0.3439875555431895\n",
      "-0.34417841417810835\n",
      "-0.3443362628061427\n",
      "-0.3437905346843996\n",
      "-0.34399780365916843\n",
      "-0.34363081211411955\n",
      "-0.34407209027097857\n",
      "-0.34398776694097644\n",
      "-0.34413567945419105\n",
      "-0.3441079073217678\n",
      "-0.3442521023613539\n",
      "-0.34413640266222195\n",
      "-0.34315829360612704\n",
      "-0.34285285391786036\n",
      "-0.3432179771640803\n",
      "-0.3438853246342485\n",
      "-0.3439878811102961\n",
      "-0.3433436201294818\n",
      "-0.3430230020073558\n",
      "-0.3429525545842682\n",
      "-0.34381332026012734\n",
      "-0.3435415538960371\n",
      "-0.34374653229421\n",
      "-0.34315456419976414\n",
      "-0.34299415202540945\n",
      "-0.3434234404712589\n",
      "-0.3432226638677937\n",
      "-0.3437330929124907\n",
      "-0.343779175096717\n",
      "-0.3440257735299934\n",
      "-0.34442780384202504\n",
      "-0.34469454050760046\n",
      "-0.345077507064695\n",
      "-0.3450567643920018\n",
      "-0.345062752241754\n",
      "-0.3451142955790444\n",
      "-0.3449967467016186\n",
      "-0.3454351612881159\n",
      "-0.3453831476364294\n",
      "-0.3454356491716561\n",
      "-0.34604784202967703\n",
      "-0.34636487477587163\n",
      "-0.3467580457223746\n",
      "-0.3465037336051656\n",
      "-0.3459488405698808\n",
      "-0.34596410163524105\n",
      "-0.3450057775150313\n",
      "-0.3454012370671306\n",
      "-0.3457570874497369\n",
      "-0.3454326609708256\n",
      "-0.34440919546452214\n",
      "-0.3459250581533936\n",
      "-0.34555061224378286\n",
      "-0.34617311256437894\n",
      "-0.3467289963335594\n",
      "-0.3470793613150361\n",
      "-0.34736775001992504\n",
      "-0.3479101190699788\n",
      "-0.3489750844881319\n",
      "-0.34858714667607316\n",
      "-0.34898718424519765\n",
      "-0.34962229464179484\n",
      "-0.3493576689412451\n",
      "-0.3513500358936872\n",
      "-0.35192169689794617\n",
      "-0.35064503802166247\n",
      "-0.35015836298288744\n",
      "-0.34906451436386604\n",
      "-0.3499187708391605\n",
      "-0.3503814405334428\n",
      "-0.3507428492428049\n",
      "-0.35119416653630153\n",
      "-0.35114236801243626\n",
      "-0.35166395135807765\n",
      "-0.3506954289867332\n",
      "-0.3510881316132759\n",
      "-0.3515356775977225\n",
      "-0.35023251462687216\n",
      "-0.3494376579769159\n",
      "-0.3489833426140313\n",
      "-0.3482942191719102\n",
      "-0.3490784805757339\n",
      "-0.3500822624786869\n",
      "-0.35076708879072793\n",
      "-0.35046195496666005\n",
      "-0.35014211071558815\n",
      "-0.35116444593975155\n",
      "-0.35221224132124096\n",
      "-0.3530578386850446\n",
      "-0.35361332809745855\n",
      "-0.35349081272925154\n",
      "-0.3536204244946155\n",
      "-0.353664014268462\n",
      "-0.35216384634559483\n",
      "-0.35193760373371885\n",
      "-0.3529506683760823\n",
      "-0.35367630931654254\n",
      "-0.35414567431822497\n",
      "-0.3547216810407415\n",
      "-0.3550921469859164\n",
      "-0.35426204651379994\n",
      "-0.3546848648517206\n",
      "-0.35617569797966514\n",
      "-0.355890428257009\n",
      "-0.35503244287042757\n",
      "-0.3563678380310396\n",
      "-0.35531385653192993\n",
      "-0.354030829059599\n",
      "-0.3542778120157046\n",
      "-0.35596821005181156\n",
      "-0.357662243392439\n",
      "-0.35677656072125896\n",
      "-0.3563259583945129\n",
      "-0.35456109665557917\n",
      "-0.35573820788482446\n",
      "-0.3564419696813045\n",
      "-0.35700509254833\n",
      "-0.35659529881494983\n",
      "-0.3558849491809428\n",
      "-0.35712402014843836\n",
      "-0.35652597392795843\n",
      "-0.3559891151746284\n",
      "-0.35688855506315537\n",
      "-0.3552363329925866\n",
      "-0.3553215335488177\n",
      "-0.354865300169861\n",
      "-0.35611587505317965\n",
      "-0.35633412609184956\n",
      "-0.3553710291326273\n",
      "-0.3558469375454564\n",
      "-0.3558889778374504\n",
      "-0.35679233387617426\n",
      "-0.35631764654095455\n",
      "-0.35648405466248234\n",
      "-0.35656277468440845\n",
      "-0.35337109216762624\n",
      "-0.3528758817492003\n",
      "-0.3508099485174614\n",
      "-0.34862927131004434\n",
      "-0.3469199017055534\n",
      "-0.34701508820350907\n",
      "-0.3446945247146758\n",
      "-0.343760814335943\n",
      "-0.342255463456446\n",
      "-0.34256569018083816\n",
      "-0.3415882303353957\n",
      "-0.3413864086409707\n",
      "-0.33882509182561105\n",
      "-0.3384356914325529\n",
      "-0.3377109607662823\n",
      "-0.3389018672579955\n",
      "-0.336172470989045\n",
      "-0.33262381453572576\n",
      "-0.33135571310052314\n",
      "-0.33139129390820055\n",
      "-0.3300745682495246\n",
      "-0.3305554484182189\n",
      "-0.3282044281689154\n",
      "-0.32640148911204253\n",
      "-0.32685695857299174\n",
      "-0.32699633003034967\n",
      "-0.3274739817343994\n",
      "-0.3265358457175101\n",
      "-0.3259171095117686\n",
      "-0.32584999225349337\n",
      "-0.3250413561105224\n",
      "-0.32761691639960816\n",
      "-0.32851986426525154\n",
      "-0.33236909963171546\n",
      "-0.33486123306315924\n",
      "-0.338428692983322\n",
      "-0.33999728502452625\n",
      "-0.34188732025630464\n",
      "-0.3405870885483336\n",
      "-0.34084171929318074\n",
      "-0.3424215488586529\n",
      "-0.34379572165963934\n",
      "-0.3435188182326147\n",
      "-0.3441222337017097\n",
      "-0.34518243023868905\n",
      "-0.3458128373152562\n",
      "-0.3474981659644904\n",
      "-0.3482473855979035\n",
      "-0.3499684916646547\n",
      "-0.3471885961660098\n",
      "-0.3518586193741966\n",
      "-0.35047685240691107\n",
      "-0.34992132639794005\n",
      "-0.34797483055702516\n",
      "-0.34695514828423035\n",
      "-0.34544835538924273\n",
      "-0.33561931110477333\n",
      "-0.33303718001442273\n",
      "-0.3265770185295786\n",
      "-0.3221232329508986\n",
      "-0.3215971743080013\n",
      "-0.3107682914990324\n",
      "-0.30292364952297296\n",
      "-0.29696912411982723\n",
      "-0.29384108259474745\n",
      "-0.27910324992133684\n",
      "-0.2774333412057162\n",
      "-0.27128858322716515\n",
      "-0.2638096892937282\n",
      "-0.24474409254357204\n",
      "-0.24869434028157605\n",
      "-0.2429797513045088\n",
      "-0.2350592464341672\n",
      "-0.2287090401084512\n",
      "0 [24.   -9.75]  ->  [-24.     9.75] [-23.07983355   9.55556925] 516\n"
     ]
    },
    {
     "data": {
      "text/plain": "<Figure size 432x288 with 1 Axes>",
      "image/png": "[encoded data removed]"
     },
     "metadata": {
      "needs_background": "light"
     },
     "output_type": "display_data"
    }
   ],
   "source": [
    "assign_gradients()\n",
    "for i in range(0,1):\n",
    "    calc_tr_new()\n",
    "    intens[:]=0.\n",
    "    for j in range(0,1):\n",
    "        set_up_walker(np.random.randint(0,len(route)))\n",
    "        setup_potentials()\n",
    "        #calc_path()\n",
    "        print(i, start,\" -> \", dest, pos, calc_path())\n",
    "    update_ground()\n",
    "    #plot_path()"
   ],
   "metadata": {
    "collapsed": false,
    "pycharm": {
     "name": "#%%\n"
    }
   }
  },
  {
   "cell_type": "code",
   "execution_count": 23,
   "outputs": [
    {
     "data": {
      "text/plain": "<Figure size 432x288 with 2 Axes>",
      "image/png": "[encoded data removed]"
     },
     "metadata": {
      "needs_background": "light"
     },
     "output_type": "display_data"
    }
   ],
   "source": [
    "plot_path()"
   ],
   "metadata": {
    "collapsed": false,
    "pycharm": {
     "name": "#%%\n"
    }
   }
  },
  {
   "cell_type": "code",
   "execution_count": 24,
   "outputs": [],
   "source": [
    "for i in range(0,Nx):\n",
    "    for j in range(0,Ny):\n",
    "        if (np.isnan(z[i,j])):\n",
    "            print (i,j,g_max[i,j],Base[i,j,0])"
   ],
   "metadata": {
    "collapsed": false,
    "pycharm": {
     "name": "#%%\n"
    }
   }
  },
  {
   "cell_type": "code",
   "execution_count": 25,
   "outputs": [],
   "source": [
    "def detect_local_maxima(arr):\n",
    "    # https://stackoverflow.com/questions/3684484/peak-detection-in-a-2d-array/3689710#3689710\n",
    "    \"\"\"\n",
    "    Takes an array and detects the troughs using the local maximum filter.\n",
    "    Returns a boolean mask of the troughs (i.e. 1 when\n",
    "    the pixel's value is the neighborhood maximum, 0 otherwise)\n",
    "    \"\"\"\n",
    "    # define an connected neighborhood\n",
    "    # http://www.scipy.org/doc/api_docs/SciPy.ndimage.morphology.html#generate_binary_structure\n",
    "    neighborhood = morphology.generate_binary_structure(len(arr.shape),2)\n",
    "    # apply the local minimum filter; all locations of minimum value\n",
    "    # in their neighborhood are set to 1\n",
    "    # http://www.scipy.org/doc/api_docs/SciPy.ndimage.filters.html#minimum_filter\n",
    "    local_max = (filters.maximum_filter(arr, footprint=neighborhood)==arr)\n",
    "    # local_min is a mask that contains the peaks we are\n",
    "    # looking for, but also the background.\n",
    "    # In order to isolate the peaks we must remove the background from the mask.\n",
    "    #\n",
    "    # we create the mask of the background\n",
    "    background = (arr==0)\n",
    "    #\n",
    "    # a little technicality: we must erode the background in order to\n",
    "    # successfully subtract it from local_min, otherwise a line will\n",
    "    # appear along the background border (artifact of the local minimum filter)\n",
    "    # http://www.scipy.org/doc/api_docs/SciPy.ndimage.morphology.html#binary_erosion\n",
    "    eroded_background = morphology.binary_erosion(\n",
    "        background, structure=neighborhood, border_value=1)\n",
    "    #\n",
    "    # we obtain the final mask, containing only peaks,\n",
    "    # by removing the background from the local_min mask\n",
    "    detected_maxima = local_max ^ eroded_background\n",
    "    return np.where(detected_maxima)"
   ],
   "metadata": {
    "collapsed": false,
    "pycharm": {
     "name": "#%%\n"
    }
   }
  },
  {
   "cell_type": "code",
   "execution_count": 26,
   "outputs": [],
   "source": [
    "def plot_potentials():\n",
    "    global dest\n",
    "    TotPot = np.zeros((Nx,Ny))\n",
    "    TotPot =- np.sqrt((dest[0]-x[:,None])**2+(dest[1]-y[None,:])**2)\n",
    "    TotPot += 0.003*TrailPotential\n",
    "    maxima=detect_local_maxima(TotPot)\n",
    "    cs = plt.contourf(X, Y, TotPot, levels=np.linspace(TotPot.min(),TotPot.max(),1000),cmap='PuBu_r')\n",
    "    cbar = plt.colorbar()\n",
    "    print(maxima)\n",
    "    plt.scatter(x[maxima[0]],y[maxima[1]])\n",
    "    plt.show\n",
    "    # commit test"
   ],
   "metadata": {
    "collapsed": false,
    "pycharm": {
     "name": "#%%\n"
    }
   }
  },
  {
   "cell_type": "code",
   "execution_count": 27,
   "outputs": [
    {
     "name": "stdout",
     "output_type": "stream",
     "text": [
      "(array([ 58, 156, 156, 156], dtype=int64), array([262,  62, 262, 373], dtype=int64))\n"
     ]
    },
    {
     "data": {
      "text/plain": "<Figure size 432x288 with 2 Axes>",
      "image/png": "[encoded data removed]"
     },
     "metadata": {
      "needs_background": "light"
     },
     "output_type": "display_data"
    }
   ],
   "source": [
    "plot_potentials()"
   ],
   "metadata": {
    "collapsed": false,
    "pycharm": {
     "name": "#%%\n"
    }
   }
  },
  {
   "cell_type": "code",
   "execution_count": 28,
   "outputs": [
    {
     "name": "stdout",
     "output_type": "stream",
     "text": [
      "[24.   -9.75]\n",
      "[-24.     9.75]\n"
     ]
    },
    {
     "data": {
      "text/plain": "<Figure size 432x288 with 2 Axes>",
      "image/png": "[encoded data removed]"
     },
     "metadata": {
      "needs_background": "light"
     },
     "output_type": "display_data"
    }
   ],
   "source": [
    "#Plot the direction\n",
    "scgrad=np.arctan2(grad[1],grad[0])\n",
    "levels = np.linspace(-np.pi, np.pi, 360)\n",
    "cs = plt.contourf(X, Y,scgrad, levels=levels,cmap='hsv')\n",
    "\n",
    "cbar = plt.colorbar()\n",
    "plt.scatter(track[0:1999,0],track[0:1999,1])\n",
    "#plt.scatter(start, dest)\n",
    "print(start)\n",
    "print(dest)\n",
    "plt.show()\n"
   ],
   "metadata": {
    "collapsed": false,
    "pycharm": {
     "name": "#%%\n"
    }
   }
  },
  {
   "cell_type": "code",
   "execution_count": 29,
   "outputs": [
    {
     "data": {
      "text/plain": "<Figure size 432x288 with 2 Axes>",
      "image/png": "[encoded data removed]"
     },
     "metadata": {
      "needs_background": "light"
     },
     "output_type": "display_data"
    }
   ],
   "source": [
    "plot_path()"
   ],
   "metadata": {
    "collapsed": false,
    "pycharm": {
     "name": "#%%\n"
    }
   }
  },
  {
   "cell_type": "code",
   "execution_count": 30,
   "outputs": [],
   "source": [
    "#Integrate z, trapezoid rule eq 20\n",
    "# def calc_tr():\n",
    "#    global xi,yi,TrailPotential,expdist,z,Weight,Nx,Ny\n",
    "#    for xi in range(0,Nx):\n",
    "#        for yi in range(0,Ny):\n",
    "#            TrailPotential[xi,yi]=np.sum(expdist[Nx-1-xi:2*Nx-1-xi,Ny-1-yi:2*Ny-1-yi]*z[:,:]*Weight[:,:])"
   ],
   "metadata": {
    "collapsed": false,
    "pycharm": {
     "name": "#%%\n"
    }
   }
  }
 ],
 "metadata": {
  "kernelspec": {
   "display_name": "Python 3",
   "language": "python",
   "name": "python3"
  },
  "language_info": {
   "codemirror_mode": {
    "name": "ipython",
    "version": 2
   },
   "file_extension": ".py",
   "mimetype": "text/x-python",
   "name": "python",
   "nbconvert_exporter": "python",
   "pygments_lexer": "ipython2",
   "version": "2.7.6"
  }
 },
 "nbformat": 4,
 "nbformat_minor": 0
}