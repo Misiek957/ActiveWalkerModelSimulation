{
 "cells": [
  {
   "cell_type": "code",
   "execution_count": 46,
   "metadata": {
    "pycharm": {
     "name": "#%%#Authors: Eli Gumble, Peter Brommer, Harry Brown\n"
    }
   },
   "outputs": [],
   "source": [
    "#Initialisation\n",
    "import matplotlib.pyplot as plt\n",
    "import numpy as np\n",
    "from scipy.integrate import simps\n",
    "from scipy import signal as sg\n",
    "from scipy.interpolate import RectBivariateSpline as ReBiSpline\n",
    "from numpy import ma\n",
    "from matplotlib import colors, ticker, cm\n",
    "from random import choice\n",
    "import scipy.ndimage.filters as filters\n",
    "import scipy.ndimage.morphology as morphology\n",
    "import timeit\n",
    "import math\n",
    "# import cv2\n",
    "from PIL import Image\n",
    "%matplotlib inline"
   ]
  },
  {
   "cell_type": "code",
   "execution_count": 47,
   "metadata": {
    "pycharm": {
     "name": "#%%\n"
    }
   },
   "outputs": [],
   "source": [
    "# Read grids from image\n",
    "im = Image.open(\"images/cc_fin_new_hill.bmp\")\n",
    "Base = np.array(im)"
   ]
  },
  {
   "cell_type": "code",
   "execution_count": 48,
   "metadata": {
    "pycharm": {
     "name": "#%%\n"
    }
   },
   "outputs": [],
   "source": [
    "# Define internal quantities and variables\n",
    "scale = 0.25  # m per pixel\n",
    "Nx = Base[:,0,0].size  # N appears to be resolution\n",
    "Ny = Base[0,:,0].size  # Nx,Ny is size, Nz is RGB level\n",
    "xmin=-scale*0.5*(Nx-1)\n",
    "xmax=scale*0.5*(Nx-1)\n",
    "ymin=-scale*0.5*(Ny-1)\n",
    "ymax=scale*0.5*(Ny-1)\n",
    "x = np.linspace(xmin, xmax, Nx) # This is defining the axes and full space\n",
    "y = np.linspace(ymin, ymax, Ny)\n",
    "Y, X= np.meshgrid(y, x)\n",
    "TrailPotential = np.zeros((Nx,Ny))\n",
    "DestinationPotential=np.zeros((Nx,Ny))\n",
    "Weight=np.zeros((Nx,Ny))  # Create gradient to sit on Nx, Ny\n",
    "intens=np.zeros((Nx,Ny))\n",
    "q_alpha=np.zeros((Nx,Ny))\n",
    "expdist=np.zeros((2*Nx-1,2*Ny-1))\n",
    "dest=np.zeros((2))\n",
    "start=np.zeros((2))\n",
    "grad=np.zeros((2,Nx,Ny))\n",
    "vel=np.asarray([0.,0.])\n",
    "pos=np.asarray([0.,0.])\n",
    "#desdirx=ReBiSpline(x,y,grad[0,:,:],s=2)\n",
    "#desdiry=ReBiSpline(x,y,grad[1,:,:],s=2)\n",
    "intens[:]=0.\n",
    "\n",
    "#print(route)\n",
    "#parameters\n",
    "t_track=50. # Track decay time - after 50 walkers ignore a trail, it decays by 1/e\n",
    "dt=0.1  # dt per time step, continuous markings every dt metres\n",
    "dvel=3. # desired walker velocity in m/s\n",
    "tau=5.\n",
    "isigma=1./2. # trail potential\n",
    "conv_thresh=10.e-4\n",
    "precision=1.**2 #distance to target.\n",
    "eps=0.025 #random motion contribution, same for all\n",
    "prevDir = 0 # record of previous angle of direction\n",
    "p_alpha = 0.9 # value of persistence\n",
    "theta_max = 0.5  # maximum permissible ascent angle (30 degrees)"
   ]
  },
  {
   "cell_type": "code",
   "execution_count": 49,
   "metadata": {
    "pycharm": {
     "name": "#%%\n"
    }
   },
   "outputs": [],
   "source": [
    "class Slope:\n",
    "    def __init__(self, posx, posy):\n",
    "        xdir = 0.8*gradx[posx][posy] # horizontal slope component at pos, scaled\n",
    "        ydir = 0.8*grady[posx][posy] # vertical slope component at pos\n",
    "        self.xdir = xdir\n",
    "        self.ydir = ydir\n",
    "        self.mod = math.sqrt(xdir**2 + ydir**2)  # modulus of the gradient\n",
    "        if self.xdir == 0: # 0 exception for gradient singnularity\n",
    "            # Assign angle of the gradient vector\n",
    "            if self.ydir > 0:\n",
    "                self.angle = math.pi/2\n",
    "            elif self.ydir <= 0:\n",
    "                self.angle = -math.pi/2\n",
    "        else:\n",
    "            self.angle = math.atan2(self.ydir,self.xdir)  # direction of the gradient vector  # np.arctan2() - gets result in correct quadriant\n",
    "        # end __init__()\n",
    "\n",
    "    def forbidden_angle(self, curDir):\n",
    "\n",
    "\n",
    "        # (?) Still include\n",
    "        # grad_max = math.tan(theta_max)\n",
    "        # if self.mod < grad_max:\n",
    "        #     # Ignore gradient processing if maximum gradient is not exceeded anywhere\n",
    "        #     return curDir\n",
    "        # else:\n",
    "        # curDir = persistence(curDir) # Apply the persistence (step 7)\n",
    "        # Calculate forbidden angle (alpha)\n",
    "        thetaSlope = math.atan(self.mod)  # angle of the slope relative from ground to the height\n",
    "        if ((self.mod or thetaSlope) == 0 ) or (thetaSlope < theta_max):\n",
    "            print(\"Continue (CurDir = \" + str(curDir) + \") (grad = \" + str(self.angle) + \")\")\n",
    "            return curDir\n",
    "        alpha = (math.pi/2 - math.asin(math.tan(theta_max)/math.tan(thetaSlope)))  # Forbidden angle from the gradient value (*)\n",
    "\n",
    "        # Distinguish the deviation of the current direction from the closest forbidden angle and assign the new current direction accordingly\n",
    "        curDir = curDir % (2*np.pi) # convert to 2pi\n",
    "        # Difference between current direction and gradient, zipped around so it is always between +pi and -pi\n",
    "        deviation = (curDir-self.angle + 0.5*np.pi) % np.pi - 0.5*np.pi  # deviation between pi/2 and -pi/2, absolute value\n",
    "        if np.abs(deviation)>alpha:\n",
    "            print('Final value unchanged => ' + str(curDir) + \"grad = \" + str(self.angle) + \")\")\n",
    "            return curDir # Current direction remains unchanged as it is outside of the forbidden zone\n",
    "        if deviation < 0:\n",
    "            print(\"push right (CurDir =\" + str(curDir) + \") (grad = \" + str(self.angle) + \")\")\n",
    "            curDir = curDir-deviation-alpha  # curDir - deviation = grad (or opposite), curDir not subjected to mod\n",
    "        else:\n",
    "            print(\"push left (CurDir =\" + str(curDir) + \") (grad = \" + str(self.angle) + \")\")\n",
    "            curDir = curDir-deviation+alpha\n",
    "\n",
    "\n",
    "        # Convert back to [-pi,pi]\n",
    "        if (0 <= curDir <= np.pi) or (curDir > 2 * np.pi):\n",
    "            curDir = (curDir % (2*np.pi))\n",
    "            return curDir\n",
    "        elif (np.pi < curDir < 2 * np.pi) or (curDir < 0): # Place curDir within [-pi:0]\n",
    "            curDir = (curDir % (2*np.pi)) - 2 * np.pi\n",
    "            return curDir\n",
    "        # end forbidden_angle()"
   ]
  },
  {
   "cell_type": "code",
   "execution_count": 50,
   "metadata": {
    "pycharm": {
     "name": "#%%\n"
    }
   },
   "outputs": [],
   "source": [
    "##Set up map\n",
    "#Create blank arrays for map\n",
    "z = np.zeros((Nx,Ny))\n",
    "g_max=np.zeros((Nx,Ny)) # empty matrix\n",
    "g_nat=np.zeros((Nx,Ny))\n",
    "g_grad=np.zeros((Nx,Ny))\n",
    "\n",
    "g_nat=np.maximum(np.ones_like(g_nat),np.float64(Base[:,:,0])) # red channel, np.ones_like() sets minimum value to 1\n",
    "g_max=np.maximum(np.ones_like(g_max),np.float64(Base[:,:,1])) # green channel\n",
    "g_height=np.maximum(np.ones_like(g_grad),np.float64(Base[:,:,2])) # blue channel\n",
    "z=g_nat\n",
    "\n",
    "# Trails (start and end point) For current Map, coordinates in metres, centre of image = (0,0)\n",
    "\n",
    "# single possible path\n",
    "route=np.array([[24.,-9.75],[-24.,9.75]]),\n",
    "\n",
    "# commented out for single path\n",
    "\n",
    "# route=np.array([[[-2.5,14.],[24.,-9.75]],\n",
    "#                 [[-2.5,14.],[24.,2.5]],\n",
    "#                 [[-2.5,14.],[-24.,9.75]],\n",
    "#                 [[24.,-9.75],[-2.75,14.]],\n",
    "#                 [[24.,-9.75],[-24.,9.75]],\n",
    "#                 [[24.,2.5],[-2.75,14.]],\n",
    "#                 [[24.,2.5],[-24.,9.75]],\n",
    "#                 [[-24.,10.],[-2.75,14.]],\n",
    "#                 [[-24.,10.],[24.,-9.75]],\n",
    "#                 [[-24.,10.],[24.,2.5]]])\n"
   ]
  },
  {
   "cell_type": "code",
   "execution_count": 51,
   "metadata": {
    "pycharm": {
     "name": "#%%\n"
    }
   },
   "outputs": [],
   "source": [
    "#Setup weight matrix, here trapezoid rule.\n",
    "Weight[:,:]=1\n",
    "Weight[1:-1,:]=2\n",
    "Weight[:,1:-1]=2\n",
    "Weight[1:-1,1:-1]=4\n",
    "Weight*=0.25*((x[-1]-x[0])/(Nx-1))*((y[-1]-y[0])/(Ny-1))\n",
    "#0.25*((x[-1]-x[0])/(N-1))*((y[-1]-y[0])/(N-1))\n",
    "#np.exp(-np.sqrt((x[:,None]-x[N/2])**2+(y[None,:]-y[N/2])**2))*z[:,:]"
   ]
  },
  {
   "cell_type": "code",
   "execution_count": 52,
   "metadata": {
    "pycharm": {
     "name": "#%%\n"
    }
   },
   "outputs": [
    {
     "data": {
      "text/plain": "(111, 111)"
     },
     "execution_count": 52,
     "metadata": {},
     "output_type": "execute_result"
    }
   ],
   "source": [
    "# Setup distance matrix\n",
    "for xi in range(1,Nx+1):\n",
    "    for yi in range(1,Ny+1):\n",
    "\n",
    "        expdist[xi-1,yi-1]=np.exp(-isigma*np.sqrt((x[Nx-xi]-xmin)**2+(y[Ny-yi]-ymin)**2))\n",
    "        expdist[-xi,-yi]  = expdist[xi-1,yi-1]\n",
    "        expdist[-xi,yi-1] = expdist[xi-1,yi-1]\n",
    "        expdist[xi-1,-yi] = expdist[xi-1,yi-1]\n",
    "\n",
    "# find index range > conv_thresh\n",
    "subexpdist=expdist[(expdist>conv_thresh).any(1)]\n",
    "subexpdist=subexpdist[:, np.any(subexpdist>conv_thresh, axis=0)]\n",
    "#subexpdist=subexpdist[:,np.any(subexpdist>conv_thresh, axis=0)]\n",
    "#expdist[subexpdist]=0.\n",
    "subexpdist.shape\n",
    "#expdist\n",
    "#subexpdist\n"
   ]
  },
  {
   "cell_type": "code",
   "execution_count": 53,
   "metadata": {
    "pycharm": {
     "name": "#%%\n"
    }
   },
   "outputs": [],
   "source": [
    "def calc_tr_new():\n",
    "    TrailPotential[:,:]=sg.convolve2d(z[:,:]*Weight[:,:],subexpdist[:,:],mode=\"same\")  # 2D convolution"
   ]
  },
  {
   "cell_type": "code",
   "execution_count": 54,
   "metadata": {
    "pycharm": {
     "name": "#%%\n"
    }
   },
   "outputs": [
    {
     "ename": "KeyboardInterrupt",
     "evalue": "",
     "output_type": "error",
     "traceback": [
      "\u001B[1;31m---------------------------------------------------------------------------\u001B[0m",
      "\u001B[1;31mKeyboardInterrupt\u001B[0m                         Traceback (most recent call last)",
      "\u001B[1;32m<ipython-input-54-b2bb79027791>\u001B[0m in \u001B[0;36m<module>\u001B[1;34m\u001B[0m\n\u001B[1;32m----> 1\u001B[1;33m \u001B[0mtimeit\u001B[0m\u001B[1;33m.\u001B[0m\u001B[0mtimeit\u001B[0m\u001B[1;33m(\u001B[0m\u001B[0mcalc_tr_new\u001B[0m\u001B[1;33m,\u001B[0m\u001B[0mnumber\u001B[0m\u001B[1;33m=\u001B[0m\u001B[1;36m1\u001B[0m\u001B[1;33m)\u001B[0m\u001B[1;33m\u001B[0m\u001B[1;33m\u001B[0m\u001B[0m\n\u001B[0m\u001B[0;32m      2\u001B[0m \u001B[1;33m\u001B[0m\u001B[0m\n",
      "\u001B[1;32m~\\AppData\\Local\\Programs\\Python\\Python38\\lib\\timeit.py\u001B[0m in \u001B[0;36mtimeit\u001B[1;34m(stmt, setup, timer, number, globals)\u001B[0m\n\u001B[0;32m    231\u001B[0m            number=default_number, globals=None):\n\u001B[0;32m    232\u001B[0m     \u001B[1;34m\"\"\"Convenience function to create Timer object and call timeit method.\"\"\"\u001B[0m\u001B[1;33m\u001B[0m\u001B[1;33m\u001B[0m\u001B[0m\n\u001B[1;32m--> 233\u001B[1;33m     \u001B[1;32mreturn\u001B[0m \u001B[0mTimer\u001B[0m\u001B[1;33m(\u001B[0m\u001B[0mstmt\u001B[0m\u001B[1;33m,\u001B[0m \u001B[0msetup\u001B[0m\u001B[1;33m,\u001B[0m \u001B[0mtimer\u001B[0m\u001B[1;33m,\u001B[0m \u001B[0mglobals\u001B[0m\u001B[1;33m)\u001B[0m\u001B[1;33m.\u001B[0m\u001B[0mtimeit\u001B[0m\u001B[1;33m(\u001B[0m\u001B[0mnumber\u001B[0m\u001B[1;33m)\u001B[0m\u001B[1;33m\u001B[0m\u001B[1;33m\u001B[0m\u001B[0m\n\u001B[0m\u001B[0;32m    234\u001B[0m \u001B[1;33m\u001B[0m\u001B[0m\n\u001B[0;32m    235\u001B[0m def repeat(stmt=\"pass\", setup=\"pass\", timer=default_timer,\n",
      "\u001B[1;32m~\\AppData\\Local\\Programs\\Python\\Python38\\lib\\timeit.py\u001B[0m in \u001B[0;36mtimeit\u001B[1;34m(self, number)\u001B[0m\n\u001B[0;32m    175\u001B[0m         \u001B[0mgc\u001B[0m\u001B[1;33m.\u001B[0m\u001B[0mdisable\u001B[0m\u001B[1;33m(\u001B[0m\u001B[1;33m)\u001B[0m\u001B[1;33m\u001B[0m\u001B[1;33m\u001B[0m\u001B[0m\n\u001B[0;32m    176\u001B[0m         \u001B[1;32mtry\u001B[0m\u001B[1;33m:\u001B[0m\u001B[1;33m\u001B[0m\u001B[1;33m\u001B[0m\u001B[0m\n\u001B[1;32m--> 177\u001B[1;33m             \u001B[0mtiming\u001B[0m \u001B[1;33m=\u001B[0m \u001B[0mself\u001B[0m\u001B[1;33m.\u001B[0m\u001B[0minner\u001B[0m\u001B[1;33m(\u001B[0m\u001B[0mit\u001B[0m\u001B[1;33m,\u001B[0m \u001B[0mself\u001B[0m\u001B[1;33m.\u001B[0m\u001B[0mtimer\u001B[0m\u001B[1;33m)\u001B[0m\u001B[1;33m\u001B[0m\u001B[1;33m\u001B[0m\u001B[0m\n\u001B[0m\u001B[0;32m    178\u001B[0m         \u001B[1;32mfinally\u001B[0m\u001B[1;33m:\u001B[0m\u001B[1;33m\u001B[0m\u001B[1;33m\u001B[0m\u001B[0m\n\u001B[0;32m    179\u001B[0m             \u001B[1;32mif\u001B[0m \u001B[0mgcold\u001B[0m\u001B[1;33m:\u001B[0m\u001B[1;33m\u001B[0m\u001B[1;33m\u001B[0m\u001B[0m\n",
      "\u001B[1;32m~\\AppData\\Local\\Programs\\Python\\Python38\\lib\\timeit.py\u001B[0m in \u001B[0;36minner\u001B[1;34m(_it, _timer, _stmt)\u001B[0m\n",
      "\u001B[1;32m<ipython-input-53-07e9f5988a5d>\u001B[0m in \u001B[0;36mcalc_tr_new\u001B[1;34m()\u001B[0m\n\u001B[0;32m      1\u001B[0m \u001B[1;32mdef\u001B[0m \u001B[0mcalc_tr_new\u001B[0m\u001B[1;33m(\u001B[0m\u001B[1;33m)\u001B[0m\u001B[1;33m:\u001B[0m\u001B[1;33m\u001B[0m\u001B[1;33m\u001B[0m\u001B[0m\n\u001B[1;32m----> 2\u001B[1;33m     \u001B[0mTrailPotential\u001B[0m\u001B[1;33m[\u001B[0m\u001B[1;33m:\u001B[0m\u001B[1;33m,\u001B[0m\u001B[1;33m:\u001B[0m\u001B[1;33m]\u001B[0m\u001B[1;33m=\u001B[0m\u001B[0msg\u001B[0m\u001B[1;33m.\u001B[0m\u001B[0mconvolve2d\u001B[0m\u001B[1;33m(\u001B[0m\u001B[0mz\u001B[0m\u001B[1;33m[\u001B[0m\u001B[1;33m:\u001B[0m\u001B[1;33m,\u001B[0m\u001B[1;33m:\u001B[0m\u001B[1;33m]\u001B[0m\u001B[1;33m*\u001B[0m\u001B[0mWeight\u001B[0m\u001B[1;33m[\u001B[0m\u001B[1;33m:\u001B[0m\u001B[1;33m,\u001B[0m\u001B[1;33m:\u001B[0m\u001B[1;33m]\u001B[0m\u001B[1;33m,\u001B[0m\u001B[0msubexpdist\u001B[0m\u001B[1;33m[\u001B[0m\u001B[1;33m:\u001B[0m\u001B[1;33m,\u001B[0m\u001B[1;33m:\u001B[0m\u001B[1;33m]\u001B[0m\u001B[1;33m,\u001B[0m\u001B[0mmode\u001B[0m\u001B[1;33m=\u001B[0m\u001B[1;34m\"same\"\u001B[0m\u001B[1;33m)\u001B[0m  \u001B[1;31m# 2D convolution\u001B[0m\u001B[1;33m\u001B[0m\u001B[1;33m\u001B[0m\u001B[0m\n\u001B[0m\u001B[0;32m      3\u001B[0m \u001B[1;33m\u001B[0m\u001B[0m\n",
      "\u001B[1;32mc:\\users\\mis19\\pycharmprojects\\activewalkermodel\\lib\\site-packages\\scipy\\signal\\signaltools.py\u001B[0m in \u001B[0;36mconvolve2d\u001B[1;34m(in1, in2, mode, boundary, fillvalue)\u001B[0m\n\u001B[0;32m   1565\u001B[0m     \u001B[0mval\u001B[0m \u001B[1;33m=\u001B[0m \u001B[0m_valfrommode\u001B[0m\u001B[1;33m(\u001B[0m\u001B[0mmode\u001B[0m\u001B[1;33m)\u001B[0m\u001B[1;33m\u001B[0m\u001B[1;33m\u001B[0m\u001B[0m\n\u001B[0;32m   1566\u001B[0m     \u001B[0mbval\u001B[0m \u001B[1;33m=\u001B[0m \u001B[0m_bvalfromboundary\u001B[0m\u001B[1;33m(\u001B[0m\u001B[0mboundary\u001B[0m\u001B[1;33m)\u001B[0m\u001B[1;33m\u001B[0m\u001B[1;33m\u001B[0m\u001B[0m\n\u001B[1;32m-> 1567\u001B[1;33m     \u001B[0mout\u001B[0m \u001B[1;33m=\u001B[0m \u001B[0msigtools\u001B[0m\u001B[1;33m.\u001B[0m\u001B[0m_convolve2d\u001B[0m\u001B[1;33m(\u001B[0m\u001B[0min1\u001B[0m\u001B[1;33m,\u001B[0m \u001B[0min2\u001B[0m\u001B[1;33m,\u001B[0m \u001B[1;36m1\u001B[0m\u001B[1;33m,\u001B[0m \u001B[0mval\u001B[0m\u001B[1;33m,\u001B[0m \u001B[0mbval\u001B[0m\u001B[1;33m,\u001B[0m \u001B[0mfillvalue\u001B[0m\u001B[1;33m)\u001B[0m\u001B[1;33m\u001B[0m\u001B[1;33m\u001B[0m\u001B[0m\n\u001B[0m\u001B[0;32m   1568\u001B[0m     \u001B[1;32mreturn\u001B[0m \u001B[0mout\u001B[0m\u001B[1;33m\u001B[0m\u001B[1;33m\u001B[0m\u001B[0m\n\u001B[0;32m   1569\u001B[0m \u001B[1;33m\u001B[0m\u001B[0m\n",
      "\u001B[1;31mKeyboardInterrupt\u001B[0m: "
     ]
    }
   ],
   "source": [
    "timeit.timeit(calc_tr_new,number=1)"
   ]
  },
  {
   "cell_type": "code",
   "execution_count": null,
   "metadata": {
    "pycharm": {
     "name": "#%%\n"
    }
   },
   "outputs": [],
   "source": [
    "# Defines a Plot to show the smoothing of the supplied map to represent the respective potentials of the ground, the larger\n",
    "# the potentials, the more attractive the ground is to the walker\n",
    "\n",
    "cs = plt.contourf(X, Y, TrailPotential, levels=np.linspace(TrailPotential.min(),TrailPotential.max(),1000),cmap='PuBu_r')\n",
    "cbar = plt.colorbar()\n",
    "\n",
    "#plt.scatter(track[0:1999,0],track[0:1999,1])\n",
    "plt.show()"
   ]
  },
  {
   "cell_type": "code",
   "execution_count": null,
   "metadata": {
    "pycharm": {
     "name": "#%%\n",
     "is_executing": true
    }
   },
   "outputs": [],
   "source": [
    "#set up walker\n",
    "def set_up_walker(route_id):\n",
    "    global vel,pos,track,intens,dest,start,route\n",
    "    #start\n",
    "    # start=np.array(route[route_id,0,:])  # commented for simplicity\n",
    "    start = np.array([24.,-9.75])  # temporary one route\n",
    "    dest = np.array([-24.,9.75])  # temporary one route\n",
    "    #dest=(random.choice(ends))\n",
    "    # dest=np.array(route[route_id,1,:]) # commented for simplicity\n",
    "    vel=np.array([0.,0.])\n",
    "    pos=np.array(start)\n",
    "    #print (pos)\n",
    "    track=np.zeros((2000,2))\n",
    "    #track[0,:]=pos[:]"
   ]
  },
  {
   "cell_type": "code",
   "execution_count": null,
   "metadata": {
    "pycharm": {
     "name": "#%%\n",
     "is_executing": true
    }
   },
   "outputs": [],
   "source": [
    "#Calculate gradients eq 19\n",
    "#Trail gradient\n",
    "def setup_potentials():\n",
    "    global grad,desdirx,desdiry,dest\n",
    "    grad=0.003*np.array(np.gradient(TrailPotential))\n",
    "    #grad=0.002*np.array(np.gradient(TrailPotential)) ORIGINAL\n",
    "\n",
    "    #print (dest)\n",
    "    #Destination potential\n",
    "    DestinationPotential=-np.sqrt((dest[0]-x[:,None])**2+(dest[1]-y[None,:])**2)\n",
    "    #Combine gradients\n",
    "    grad+=np.array(np.gradient(DestinationPotential)[:])\n",
    "    #Normalise\n",
    "    #grad[:,:,:]/=(np.sqrt(grad[0,:,:]**2+grad[1,:,:]**2))\n",
    "    desdirx=ReBiSpline(x,y,grad[0,:,:],s=2) # gradeint plus magnitude, Spline approximation over a rectangular mesh\n",
    "    desdiry=ReBiSpline(x,y,grad[1,:,:],s=2)\n",
    "    # angle array, arctans of gradient components, rebislpine\n",
    "    # continuous desired angles permissible\n",
    "        # 2pi periodic system aware"
   ]
  },
  {
   "cell_type": "code",
   "execution_count": null,
   "metadata": {
    "pycharm": {
     "name": "#%%\n",
     "is_executing": true
    }
   },
   "outputs": [],
   "source": [
    "# #Plot the direction\n",
    "# scgrad=np.arctan2(grad[1],grad[0])\n",
    "# levels = np.linspace(-np.pi, np.pi, 360)\n",
    "# cs = plt.contourf(X, Y,scgrad, levels=levels,cmap='hsv')\n",
    "\n",
    "# cbar = plt.colorbar()\n",
    "# # ERROR # plt.scatter(track[0:1999,0],track[0:1999,1])\n",
    "# #plt.scatter(start, dest)\n",
    "# print(start)\n",
    "# print(dest)\n",
    "# plt.show()"
   ]
  },
  {
   "cell_type": "code",
   "execution_count": null,
   "metadata": {
    "pycharm": {
     "name": "#%%\n",
     "is_executing": true
    }
   },
   "outputs": [],
   "source": [
    "def persistence(curDir):\n",
    "        global prevDir\n",
    "        # Apply persistence of direction formula (Gilks equation 6) - weighted average of the movement\n",
    "        gamma = (p_alpha * prevDir) + (1 - p_alpha)*curDir  # previous direction as estimation\n",
    "        return gamma"
   ]
  },
  {
   "cell_type": "code",
   "execution_count": null,
   "metadata": {
    "pycharm": {
     "name": "#%%\n",
     "is_executing": true
    }
   },
   "outputs": [],
   "source": [
    "def calc_path():\n",
    "    global pos,vel,intens,track,dest,dvel,tau, prevDir, desdirx, desdiry\n",
    "    i=0\n",
    "    hist=10\n",
    "    samp=10\n",
    "    avpos=np.zeros((2,hist))\n",
    "    #Setup While loop to run until either the walker reaches the destination or the walker has passed 2000 movement cycles to\n",
    "    #attempt to get there\n",
    "    while (np.dot(pos-dest,pos-dest)>precision and i<2000): # takes 2000 steps maximum\n",
    "        #set the postiion of the walker on its first then subsequent cycles\n",
    "        #conditional logic saying to update the average position of the walker every 10 iterations\n",
    "        #if (i%samp==0): avpos[:,(i%hist)//samp]=pos[:] #ORIGINAL\n",
    "        if (i%samp==0):\n",
    "            avpos[:,(i%(hist*samp))//samp]=pos[:]\n",
    "        #print((i%hist)//samp)\n",
    "        # print(avpos)\n",
    "        gradmagnitude=max(0.0001,np.sqrt(desdirx(pos[0],pos[1])**2+desdiry(pos[0],pos[1])**2))\n",
    "        xi=np.array(np.random.normal(0,1,2))\n",
    "        # Equation 6 in Helbing, differential in position, eliminised velocity decay components\n",
    "        # gradmagnitude makes sure it is normalised, desdir not normalised\n",
    "        # pos[0]+= dt *(dvel * desdirx(pos[0],pos[1])/gradmagnitude +np.sqrt(2.*eps/tau)*xi[0])  # x-position vector component\n",
    "        # pos[1]+= dt *(dvel * desdiry(pos[0],pos[1])/gradmagnitude +np.sqrt(2.*eps/tau)*xi[1])  # y-position vector component\n",
    "        # posGrad = math.degree(math.atan(pos[0]/pos[1]) # future position\n",
    "        curDir = math.atan2(desdiry(pos[0],pos[1]),desdirx(pos[0],pos[1])) # atan2 not to flip walker around\n",
    "        pos0 = pos[0]\n",
    "        pos1 = pos[1]\n",
    "        posx = int(((pos[0]-xmin)*(Nx-1))/(xmax-xmin)) # index value of position x\n",
    "        posy = int(((pos[1]-ymin)*(Ny-1))/(ymax-ymin)) # index value of position y\n",
    "        print('x =' + str(posx) + '  y = ' + str(posy))\n",
    "        if i == 385:\n",
    "            print(\"stop)\")\n",
    "\n",
    "        if i>0: # Exception for first step\n",
    "            curDir = persistence(curDir) # Apply persistence of movement\n",
    "        curGradient = Slope(posx,posy)  # set the current gradient to the Slope class\n",
    "\n",
    "\n",
    "        curDir = curGradient.forbidden_angle(curDir) # apply forbidden angle rule\n",
    "        # if prevDir != curDir:  # the position angle has changed, recalculate the path position ???\n",
    "        # print(\"CurDir at \" + str(i) + \"= \" + str(curDir))\n",
    "        pos[0] += dt * (dvel * math.cos(curDir))\n",
    "        pos[1] += dt * (dvel * math.sin(curDir))\n",
    "            # desdiry = math.sin(curDir)\n",
    "            # desdirx = math.cos(curDir)\n",
    "            # gradmagnitude=max(0.0001,np.sqrt(desdirx(pos[0],pos[1])**2+desdiry(pos[0],pos[1])**2))\n",
    "            # xi=np.array(np.random.normal(0,1,2))\n",
    "            # pos[0]+= dt *(dvel * desdirx(pos[0],pos[1])/gradmagnitude +np.sqrt(2.*eps/tau)*xi[0])  # x-position vector component\n",
    "            # pos[1]+= dt *(dvel * desdiry(pos[0],pos[1])/gradmagnitude +np.sqrt(2.*eps/tau)*xi[1])  # y-position vector component\n",
    "        prevDir = curDir # applying a back trace of the previous direction# Calculate current facing direction\n",
    "        # pos+=dt*vel\n",
    "        #vel[0]+=-1/tau*vel[0] + (dvel/tau)*desdirx(pos[0],pos[1])/gradmagnitude+np.sqrt(2.*eps/tau)*xi[0]   # Eqiation 5 in Helbing, differential in velocity\n",
    "        #vel[1]+=-1/tau*vel[1] + (dvel/tau)*desdiry(pos[0],pos[1])/gradmagnitude+np.sqrt(2.*eps/tau)*xi[1]\n",
    "\n",
    "\n",
    "\n",
    "        #Set the current position of the walker into the trakc array for the current iteration\n",
    "        track[i,:]=pos[:]\n",
    "        # (pos[0]-xmin)*(Nx-1)/(xmax-xmin)  - scale to resolution [Nx-1] * distance to left edge / width of whole field\n",
    "        intens[int((pos[0]-xmin)*(Nx-1)/(xmax-xmin)),int((pos[1]-ymin)*(Ny-1)/(ymax-ymin))]+=1.\n",
    "        i+=1\n",
    "        if (i%(hist*samp)==0):\n",
    "            meanpos=np.mean(avpos,axis=1)\n",
    "            if (np.dot(pos-meanpos,pos-meanpos)<precision):\n",
    "                print (\"Stalled progress \",pos,meanpos,vel, dest)\n",
    "                break\n",
    "    if (i==1500): print (\"Missed goal \",dest,pos)\n",
    "    return i\n",
    "#stopping condition"
   ]
  },
  {
   "cell_type": "code",
   "execution_count": null,
   "metadata": {
    "pycharm": {
     "name": "#%%\n",
     "is_executing": true
    }
   },
   "outputs": [],
   "source": [
    "# Calculate Q_alpha (strength of markings) eq 15\n",
    "def update_ground():\n",
    "    global q_alpha,intens,z,g_max,t_track,g_nat\n",
    "    q_alpha=intens*(1.-z/g_max)\n",
    "    # Time evolution of ground potential\n",
    "    #zdiff=(1./t_track)*(g_nat-z)+q_alpha\n",
    "    z+=(1./t_track)*(g_nat-z)+q_alpha\n",
    "    #cs = plt.contourf(X, Y, zdiff, cmap=cm.PuBu_r)\n",
    "    #cbar = plt.colorbar()\n",
    "    #plt.show\n",
    "    #z[140:160,45:75]"
   ]
  },
  {
   "cell_type": "code",
   "execution_count": null,
   "metadata": {
    "pycharm": {
     "name": "#%%\n",
     "is_executing": true
    }
   },
   "outputs": [],
   "source": [
    "def plot_path():\n",
    "    plt.contourf(X, Y, z, levels=np.linspace(z.min(),z.max(),1000),cmap='PuBu_r')\n",
    "    plt.colorbar()\n",
    "    #plt.scatter(track[0:1999,0],track[0:1999,1],1)\n",
    "    plt.show(block=False)"
   ]
  },
  {
   "cell_type": "code",
   "execution_count": null,
   "metadata": {
    "pycharm": {
     "name": "#%%\n",
     "is_executing": true
    }
   },
   "outputs": [],
   "source": [
    "tau = 5."
   ]
  },
  {
   "cell_type": "code",
   "execution_count": null,
   "metadata": {
    "pycharm": {
     "name": "#%%\n",
     "is_executing": true
    }
   },
   "outputs": [],
   "source": [
    "# RUN SIMULATION\n",
    "\n",
    "g_slope = np.gradient(g_height,1)\n",
    "grady = g_slope[0] # vertical slope compontent\n",
    "gradx = g_slope[1] # horizontal slope component\n",
    "for i in range(0,1):\n",
    "    calc_tr_new()\n",
    "    intens[:]=0.\n",
    "    for j in range(0,1):\n",
    "        set_up_walker(np.random.randint(0,len(route)))\n",
    "        setup_potentials()\n",
    "        #calc_path()\n",
    "        print(i, start,\" -> \", dest, pos, calc_path())\n",
    "    update_ground()\n",
    "    #plot_path()\n",
    "print(\"end\")"
   ]
  },
  {
   "cell_type": "code",
   "execution_count": null,
   "metadata": {
    "pycharm": {
     "name": "#%%\n",
     "is_executing": true
    }
   },
   "outputs": [],
   "source": [
    "plot_path()"
   ]
  },
  {
   "cell_type": "code",
   "execution_count": null,
   "metadata": {
    "pycharm": {
     "name": "#%%\n",
     "is_executing": true
    }
   },
   "outputs": [],
   "source": [
    "for i in range(0,Nx):\n",
    "    for j in range(0,Ny):\n",
    "        if (np.isnan(z[i,j])):\n",
    "            print (i,j,g_max[i,j],Base[i,j,0])"
   ]
  },
  {
   "cell_type": "code",
   "execution_count": null,
   "metadata": {
    "pycharm": {
     "name": "#%%\n",
     "is_executing": true
    }
   },
   "outputs": [],
   "source": [
    "def detect_local_maxima(arr):\n",
    "    # https://stackoverflow.com/questions/3684484/peak-detection-in-a-2d-array/3689710#3689710\n",
    "    \"\"\"\n",
    "    Takes an array and detects the troughs using the local maximum filter.\n",
    "    Returns a boolean mask of the troughs (i.e. 1 when\n",
    "    the pixel's value is the neighborhood maximum, 0 otherwise)\n",
    "    \"\"\"\n",
    "    # define an connected neighborhood\n",
    "    # http://www.scipy.org/doc/api_docs/SciPy.ndimage.morphology.html#generate_binary_structure\n",
    "    neighborhood = morphology.generate_binary_structure(len(arr.shape),2)\n",
    "    # apply the local minimum filter; all locations of minimum value\n",
    "    # in their neighborhood are set to 1\n",
    "    # http://www.scipy.org/doc/api_docs/SciPy.ndimage.filters.html#minimum_filter\n",
    "    local_max = (filters.maximum_filter(arr, footprint=neighborhood)==arr)\n",
    "    # local_min is a mask that contains the peaks we are\n",
    "    # looking for, but also the background.\n",
    "    # In order to isolate the peaks we must remove the background from the mask.\n",
    "    #\n",
    "    # we create the mask of the background\n",
    "    background = (arr==0)\n",
    "    #\n",
    "    # a little technicality: we must erode the background in order to\n",
    "    # successfully subtract it from local_min, otherwise a line will\n",
    "    # appear along the background border (artifact of the local minimum filter)\n",
    "    # http://www.scipy.org/doc/api_docs/SciPy.ndimage.morphology.html#binary_erosion\n",
    "    eroded_background = morphology.binary_erosion(\n",
    "        background, structure=neighborhood, border_value=1)\n",
    "    #\n",
    "    # we obtain the final mask, containing only peaks,\n",
    "    # by removing the background from the local_min mask\n",
    "    detected_maxima = local_max ^ eroded_background\n",
    "    return np.where(detected_maxima)"
   ]
  },
  {
   "cell_type": "code",
   "execution_count": null,
   "metadata": {
    "pycharm": {
     "name": "#%%\n",
     "is_executing": true
    }
   },
   "outputs": [],
   "source": [
    "def plot_potentials():\n",
    "    global dest\n",
    "    TotPot = np.zeros((Nx,Ny))\n",
    "    TotPot =- np.sqrt((dest[0]-x[:,None])**2+(dest[1]-y[None,:])**2)\n",
    "    TotPot += 0.003*TrailPotential\n",
    "    maxima=detect_local_maxima(TotPot)\n",
    "    cs = plt.contourf(X, Y, TotPot, levels=np.linspace(TotPot.min(),TotPot.max(),1000),cmap='PuBu_r')\n",
    "    cbar = plt.colorbar()\n",
    "    print(maxima)\n",
    "    plt.scatter(x[maxima[0]],y[maxima[1]])\n",
    "    plt.show()\n",
    "    # commit test"
   ]
  },
  {
   "cell_type": "code",
   "execution_count": null,
   "metadata": {
    "pycharm": {
     "name": "#%%\n",
     "is_executing": true
    }
   },
   "outputs": [],
   "source": [
    "plot_potentials()"
   ]
  },
  {
   "cell_type": "code",
   "execution_count": null,
   "metadata": {
    "pycharm": {
     "name": "#%%\n",
     "is_executing": true
    }
   },
   "outputs": [],
   "source": [
    "#Plot the direction\n",
    "scgrad=np.arctan2(grad[1],grad[0])\n",
    "levels = np.linspace(-np.pi, np.pi, 360)\n",
    "cs = plt.contourf(X, Y,scgrad, levels=levels,cmap='hsv')\n",
    "\n",
    "cbar = plt.colorbar()\n",
    "plt.scatter(track[0:1999,0],track[0:1999,1])\n",
    "#plt.scatter(start, dest)\n",
    "print(start)\n",
    "print(dest)\n",
    "plt.show()\n"
   ]
  },
  {
   "cell_type": "code",
   "execution_count": null,
   "metadata": {
    "pycharm": {
     "name": "#%%\n",
     "is_executing": true
    }
   },
   "outputs": [],
   "source": [
    "plot_path()"
   ]
  },
  {
   "cell_type": "code",
   "execution_count": null,
   "metadata": {
    "pycharm": {
     "name": "#%%\n",
     "is_executing": true
    }
   },
   "outputs": [],
   "source": [
    "#Integrate z, trapezoid rule eq 20\n",
    "# def calc_tr():\n",
    "#    global xi,yi,TrailPotential,expdist,z,Weight,Nx,Ny\n",
    "#    for xi in range(0,Nx):\n",
    "#        for yi in range(0,Ny):\n",
    "#            TrailPotential[xi,yi]=np.sum(expdist[Nx-1-xi:2*Nx-1-xi,Ny-1-yi:2*Ny-1-yi]*z[:,:]*Weight[:,:])"
   ]
  }
 ],
 "metadata": {
  "kernelspec": {
   "display_name": "Python 3",
   "language": "python",
   "name": "python3"
  },
  "language_info": {
   "codemirror_mode": {
    "name": "ipython",
    "version": 3
   },
   "file_extension": ".py",
   "mimetype": "text/x-python",
   "name": "python",
   "nbconvert_exporter": "python",
   "pygments_lexer": "ipython3",
   "version": "3.8.5"
  }
 },
 "nbformat": 4,
 "nbformat_minor": 1
}